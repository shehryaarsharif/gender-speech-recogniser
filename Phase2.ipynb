{
  "nbformat": 4,
  "nbformat_minor": 0,
  "metadata": {
    "colab": {
      "name": "21100016_21100025_21100186_21100146_21100105.ipynb",
      "provenance": [],
      "collapsed_sections": [
        "rcPjKnnPI3as",
        "cvOsibEjTSVE",
        "2FcYVcOuPPPc",
        "i2C0WayVPh6G",
        "rHVGB_GIPrRU",
        "Lwi5datffVWm",
        "-uxp9VBZQ6hm",
        "M7wSBB_QPTzV",
        "8Vi5kgztZ3Fj",
        "sryMAWFtbltr",
        "efZZa8Q0MR_7",
        "pmg0xugMOYT0"
      ]
    },
    "kernelspec": {
      "name": "python3",
      "display_name": "Python 3"
    },
    "widgets": {
      "application/vnd.jupyter.widget-state+json": {
        "49db641bb80c4924bdaeb70a8d48a408": {
          "model_module": "@jupyter-widgets/controls",
          "model_name": "HBoxModel",
          "state": {
            "_view_name": "HBoxView",
            "_dom_classes": [],
            "_model_name": "HBoxModel",
            "_view_module": "@jupyter-widgets/controls",
            "_model_module_version": "1.5.0",
            "_view_count": null,
            "_view_module_version": "1.5.0",
            "box_style": "",
            "layout": "IPY_MODEL_c0cd69f0d7a34967a0f82a1f45a6750e",
            "_model_module": "@jupyter-widgets/controls",
            "children": [
              "IPY_MODEL_6c61fd2c34674480abad8e2d8583a3b5",
              "IPY_MODEL_fb87c8c0fcb140b98d31de01f58524d6"
            ]
          }
        },
        "c0cd69f0d7a34967a0f82a1f45a6750e": {
          "model_module": "@jupyter-widgets/base",
          "model_name": "LayoutModel",
          "state": {
            "_view_name": "LayoutView",
            "grid_template_rows": null,
            "right": null,
            "justify_content": null,
            "_view_module": "@jupyter-widgets/base",
            "overflow": null,
            "_model_module_version": "1.2.0",
            "_view_count": null,
            "flex_flow": null,
            "width": null,
            "min_width": null,
            "border": null,
            "align_items": null,
            "bottom": null,
            "_model_module": "@jupyter-widgets/base",
            "top": null,
            "grid_column": null,
            "overflow_y": null,
            "overflow_x": null,
            "grid_auto_flow": null,
            "grid_area": null,
            "grid_template_columns": null,
            "flex": null,
            "_model_name": "LayoutModel",
            "justify_items": null,
            "grid_row": null,
            "max_height": null,
            "align_content": null,
            "visibility": null,
            "align_self": null,
            "height": null,
            "min_height": null,
            "padding": null,
            "grid_auto_rows": null,
            "grid_gap": null,
            "max_width": null,
            "order": null,
            "_view_module_version": "1.2.0",
            "grid_template_areas": null,
            "object_position": null,
            "object_fit": null,
            "grid_auto_columns": null,
            "margin": null,
            "display": null,
            "left": null
          }
        },
        "6c61fd2c34674480abad8e2d8583a3b5": {
          "model_module": "@jupyter-widgets/controls",
          "model_name": "FloatProgressModel",
          "state": {
            "_view_name": "ProgressView",
            "style": "IPY_MODEL_033351731c96472aa1b9c031bfbfa1c8",
            "_dom_classes": [],
            "description": "100%",
            "_model_name": "FloatProgressModel",
            "bar_style": "success",
            "max": 4,
            "_view_module": "@jupyter-widgets/controls",
            "_model_module_version": "1.5.0",
            "value": 4,
            "_view_count": null,
            "_view_module_version": "1.5.0",
            "orientation": "horizontal",
            "min": 0,
            "description_tooltip": null,
            "_model_module": "@jupyter-widgets/controls",
            "layout": "IPY_MODEL_d0dd4e9e41fe4b0aaa5722121e291ea2"
          }
        },
        "fb87c8c0fcb140b98d31de01f58524d6": {
          "model_module": "@jupyter-widgets/controls",
          "model_name": "HTMLModel",
          "state": {
            "_view_name": "HTMLView",
            "style": "IPY_MODEL_6ccdfaa8f088486aa49ffc5bf63228ff",
            "_dom_classes": [],
            "description": "",
            "_model_name": "HTMLModel",
            "placeholder": "​",
            "_view_module": "@jupyter-widgets/controls",
            "_model_module_version": "1.5.0",
            "value": " 4/4 [01:17&lt;00:00, 19.27s/it]",
            "_view_count": null,
            "_view_module_version": "1.5.0",
            "description_tooltip": null,
            "_model_module": "@jupyter-widgets/controls",
            "layout": "IPY_MODEL_95b5b73d9f97436da639a12a424798db"
          }
        },
        "033351731c96472aa1b9c031bfbfa1c8": {
          "model_module": "@jupyter-widgets/controls",
          "model_name": "ProgressStyleModel",
          "state": {
            "_view_name": "StyleView",
            "_model_name": "ProgressStyleModel",
            "description_width": "initial",
            "_view_module": "@jupyter-widgets/base",
            "_model_module_version": "1.5.0",
            "_view_count": null,
            "_view_module_version": "1.2.0",
            "bar_color": null,
            "_model_module": "@jupyter-widgets/controls"
          }
        },
        "d0dd4e9e41fe4b0aaa5722121e291ea2": {
          "model_module": "@jupyter-widgets/base",
          "model_name": "LayoutModel",
          "state": {
            "_view_name": "LayoutView",
            "grid_template_rows": null,
            "right": null,
            "justify_content": null,
            "_view_module": "@jupyter-widgets/base",
            "overflow": null,
            "_model_module_version": "1.2.0",
            "_view_count": null,
            "flex_flow": null,
            "width": null,
            "min_width": null,
            "border": null,
            "align_items": null,
            "bottom": null,
            "_model_module": "@jupyter-widgets/base",
            "top": null,
            "grid_column": null,
            "overflow_y": null,
            "overflow_x": null,
            "grid_auto_flow": null,
            "grid_area": null,
            "grid_template_columns": null,
            "flex": null,
            "_model_name": "LayoutModel",
            "justify_items": null,
            "grid_row": null,
            "max_height": null,
            "align_content": null,
            "visibility": null,
            "align_self": null,
            "height": null,
            "min_height": null,
            "padding": null,
            "grid_auto_rows": null,
            "grid_gap": null,
            "max_width": null,
            "order": null,
            "_view_module_version": "1.2.0",
            "grid_template_areas": null,
            "object_position": null,
            "object_fit": null,
            "grid_auto_columns": null,
            "margin": null,
            "display": null,
            "left": null
          }
        },
        "6ccdfaa8f088486aa49ffc5bf63228ff": {
          "model_module": "@jupyter-widgets/controls",
          "model_name": "DescriptionStyleModel",
          "state": {
            "_view_name": "StyleView",
            "_model_name": "DescriptionStyleModel",
            "description_width": "",
            "_view_module": "@jupyter-widgets/base",
            "_model_module_version": "1.5.0",
            "_view_count": null,
            "_view_module_version": "1.2.0",
            "_model_module": "@jupyter-widgets/controls"
          }
        },
        "95b5b73d9f97436da639a12a424798db": {
          "model_module": "@jupyter-widgets/base",
          "model_name": "LayoutModel",
          "state": {
            "_view_name": "LayoutView",
            "grid_template_rows": null,
            "right": null,
            "justify_content": null,
            "_view_module": "@jupyter-widgets/base",
            "overflow": null,
            "_model_module_version": "1.2.0",
            "_view_count": null,
            "flex_flow": null,
            "width": null,
            "min_width": null,
            "border": null,
            "align_items": null,
            "bottom": null,
            "_model_module": "@jupyter-widgets/base",
            "top": null,
            "grid_column": null,
            "overflow_y": null,
            "overflow_x": null,
            "grid_auto_flow": null,
            "grid_area": null,
            "grid_template_columns": null,
            "flex": null,
            "_model_name": "LayoutModel",
            "justify_items": null,
            "grid_row": null,
            "max_height": null,
            "align_content": null,
            "visibility": null,
            "align_self": null,
            "height": null,
            "min_height": null,
            "padding": null,
            "grid_auto_rows": null,
            "grid_gap": null,
            "max_width": null,
            "order": null,
            "_view_module_version": "1.2.0",
            "grid_template_areas": null,
            "object_position": null,
            "object_fit": null,
            "grid_auto_columns": null,
            "margin": null,
            "display": null,
            "left": null
          }
        },
        "c8a0302ada014f878ed3ad076a9bc295": {
          "model_module": "@jupyter-widgets/controls",
          "model_name": "HBoxModel",
          "state": {
            "_view_name": "HBoxView",
            "_dom_classes": [],
            "_model_name": "HBoxModel",
            "_view_module": "@jupyter-widgets/controls",
            "_model_module_version": "1.5.0",
            "_view_count": null,
            "_view_module_version": "1.5.0",
            "box_style": "",
            "layout": "IPY_MODEL_f5bd39e6dd6244c39268248b6a66516f",
            "_model_module": "@jupyter-widgets/controls",
            "children": [
              "IPY_MODEL_9f9da721477044c4ab759e60d3f0f5e4",
              "IPY_MODEL_8989612564bd4b8f9308832fb9fa3a7d"
            ]
          }
        },
        "f5bd39e6dd6244c39268248b6a66516f": {
          "model_module": "@jupyter-widgets/base",
          "model_name": "LayoutModel",
          "state": {
            "_view_name": "LayoutView",
            "grid_template_rows": null,
            "right": null,
            "justify_content": null,
            "_view_module": "@jupyter-widgets/base",
            "overflow": null,
            "_model_module_version": "1.2.0",
            "_view_count": null,
            "flex_flow": null,
            "width": null,
            "min_width": null,
            "border": null,
            "align_items": null,
            "bottom": null,
            "_model_module": "@jupyter-widgets/base",
            "top": null,
            "grid_column": null,
            "overflow_y": null,
            "overflow_x": null,
            "grid_auto_flow": null,
            "grid_area": null,
            "grid_template_columns": null,
            "flex": null,
            "_model_name": "LayoutModel",
            "justify_items": null,
            "grid_row": null,
            "max_height": null,
            "align_content": null,
            "visibility": null,
            "align_self": null,
            "height": null,
            "min_height": null,
            "padding": null,
            "grid_auto_rows": null,
            "grid_gap": null,
            "max_width": null,
            "order": null,
            "_view_module_version": "1.2.0",
            "grid_template_areas": null,
            "object_position": null,
            "object_fit": null,
            "grid_auto_columns": null,
            "margin": null,
            "display": null,
            "left": null
          }
        },
        "9f9da721477044c4ab759e60d3f0f5e4": {
          "model_module": "@jupyter-widgets/controls",
          "model_name": "FloatProgressModel",
          "state": {
            "_view_name": "ProgressView",
            "style": "IPY_MODEL_09cbdf54fd37445ca0e95785676570e3",
            "_dom_classes": [],
            "description": "100%",
            "_model_name": "FloatProgressModel",
            "bar_style": "success",
            "max": 500,
            "_view_module": "@jupyter-widgets/controls",
            "_model_module_version": "1.5.0",
            "value": 500,
            "_view_count": null,
            "_view_module_version": "1.5.0",
            "orientation": "horizontal",
            "min": 0,
            "description_tooltip": null,
            "_model_module": "@jupyter-widgets/controls",
            "layout": "IPY_MODEL_951b507696fa49f0b83cd79b3f02de4e"
          }
        },
        "8989612564bd4b8f9308832fb9fa3a7d": {
          "model_module": "@jupyter-widgets/controls",
          "model_name": "HTMLModel",
          "state": {
            "_view_name": "HTMLView",
            "style": "IPY_MODEL_aaca2fbcebbf4d8286e8fce94d3b4e0f",
            "_dom_classes": [],
            "description": "",
            "_model_name": "HTMLModel",
            "placeholder": "​",
            "_view_module": "@jupyter-widgets/controls",
            "_model_module_version": "1.5.0",
            "value": " 500/500 [01:17&lt;00:00,  6.49it/s]",
            "_view_count": null,
            "_view_module_version": "1.5.0",
            "description_tooltip": null,
            "_model_module": "@jupyter-widgets/controls",
            "layout": "IPY_MODEL_bd53b14caa9545eab814ca7695721626"
          }
        },
        "09cbdf54fd37445ca0e95785676570e3": {
          "model_module": "@jupyter-widgets/controls",
          "model_name": "ProgressStyleModel",
          "state": {
            "_view_name": "StyleView",
            "_model_name": "ProgressStyleModel",
            "description_width": "initial",
            "_view_module": "@jupyter-widgets/base",
            "_model_module_version": "1.5.0",
            "_view_count": null,
            "_view_module_version": "1.2.0",
            "bar_color": null,
            "_model_module": "@jupyter-widgets/controls"
          }
        },
        "951b507696fa49f0b83cd79b3f02de4e": {
          "model_module": "@jupyter-widgets/base",
          "model_name": "LayoutModel",
          "state": {
            "_view_name": "LayoutView",
            "grid_template_rows": null,
            "right": null,
            "justify_content": null,
            "_view_module": "@jupyter-widgets/base",
            "overflow": null,
            "_model_module_version": "1.2.0",
            "_view_count": null,
            "flex_flow": null,
            "width": null,
            "min_width": null,
            "border": null,
            "align_items": null,
            "bottom": null,
            "_model_module": "@jupyter-widgets/base",
            "top": null,
            "grid_column": null,
            "overflow_y": null,
            "overflow_x": null,
            "grid_auto_flow": null,
            "grid_area": null,
            "grid_template_columns": null,
            "flex": null,
            "_model_name": "LayoutModel",
            "justify_items": null,
            "grid_row": null,
            "max_height": null,
            "align_content": null,
            "visibility": null,
            "align_self": null,
            "height": null,
            "min_height": null,
            "padding": null,
            "grid_auto_rows": null,
            "grid_gap": null,
            "max_width": null,
            "order": null,
            "_view_module_version": "1.2.0",
            "grid_template_areas": null,
            "object_position": null,
            "object_fit": null,
            "grid_auto_columns": null,
            "margin": null,
            "display": null,
            "left": null
          }
        },
        "aaca2fbcebbf4d8286e8fce94d3b4e0f": {
          "model_module": "@jupyter-widgets/controls",
          "model_name": "DescriptionStyleModel",
          "state": {
            "_view_name": "StyleView",
            "_model_name": "DescriptionStyleModel",
            "description_width": "",
            "_view_module": "@jupyter-widgets/base",
            "_model_module_version": "1.5.0",
            "_view_count": null,
            "_view_module_version": "1.2.0",
            "_model_module": "@jupyter-widgets/controls"
          }
        },
        "bd53b14caa9545eab814ca7695721626": {
          "model_module": "@jupyter-widgets/base",
          "model_name": "LayoutModel",
          "state": {
            "_view_name": "LayoutView",
            "grid_template_rows": null,
            "right": null,
            "justify_content": null,
            "_view_module": "@jupyter-widgets/base",
            "overflow": null,
            "_model_module_version": "1.2.0",
            "_view_count": null,
            "flex_flow": null,
            "width": null,
            "min_width": null,
            "border": null,
            "align_items": null,
            "bottom": null,
            "_model_module": "@jupyter-widgets/base",
            "top": null,
            "grid_column": null,
            "overflow_y": null,
            "overflow_x": null,
            "grid_auto_flow": null,
            "grid_area": null,
            "grid_template_columns": null,
            "flex": null,
            "_model_name": "LayoutModel",
            "justify_items": null,
            "grid_row": null,
            "max_height": null,
            "align_content": null,
            "visibility": null,
            "align_self": null,
            "height": null,
            "min_height": null,
            "padding": null,
            "grid_auto_rows": null,
            "grid_gap": null,
            "max_width": null,
            "order": null,
            "_view_module_version": "1.2.0",
            "grid_template_areas": null,
            "object_position": null,
            "object_fit": null,
            "grid_auto_columns": null,
            "margin": null,
            "display": null,
            "left": null
          }
        },
        "e76605814e3a40909760ad1e5b2a1a56": {
          "model_module": "@jupyter-widgets/controls",
          "model_name": "HBoxModel",
          "state": {
            "_view_name": "HBoxView",
            "_dom_classes": [],
            "_model_name": "HBoxModel",
            "_view_module": "@jupyter-widgets/controls",
            "_model_module_version": "1.5.0",
            "_view_count": null,
            "_view_module_version": "1.5.0",
            "box_style": "",
            "layout": "IPY_MODEL_42a7c9e9419b4b7a9eaa79b74faed5fb",
            "_model_module": "@jupyter-widgets/controls",
            "children": [
              "IPY_MODEL_c1bfac29d62540d48020b69a7e1464c1",
              "IPY_MODEL_58f503a6852b4a80a9a2b4f6c1440cff"
            ]
          }
        },
        "42a7c9e9419b4b7a9eaa79b74faed5fb": {
          "model_module": "@jupyter-widgets/base",
          "model_name": "LayoutModel",
          "state": {
            "_view_name": "LayoutView",
            "grid_template_rows": null,
            "right": null,
            "justify_content": null,
            "_view_module": "@jupyter-widgets/base",
            "overflow": null,
            "_model_module_version": "1.2.0",
            "_view_count": null,
            "flex_flow": null,
            "width": null,
            "min_width": null,
            "border": null,
            "align_items": null,
            "bottom": null,
            "_model_module": "@jupyter-widgets/base",
            "top": null,
            "grid_column": null,
            "overflow_y": null,
            "overflow_x": null,
            "grid_auto_flow": null,
            "grid_area": null,
            "grid_template_columns": null,
            "flex": null,
            "_model_name": "LayoutModel",
            "justify_items": null,
            "grid_row": null,
            "max_height": null,
            "align_content": null,
            "visibility": null,
            "align_self": null,
            "height": null,
            "min_height": null,
            "padding": null,
            "grid_auto_rows": null,
            "grid_gap": null,
            "max_width": null,
            "order": null,
            "_view_module_version": "1.2.0",
            "grid_template_areas": null,
            "object_position": null,
            "object_fit": null,
            "grid_auto_columns": null,
            "margin": null,
            "display": null,
            "left": null
          }
        },
        "c1bfac29d62540d48020b69a7e1464c1": {
          "model_module": "@jupyter-widgets/controls",
          "model_name": "FloatProgressModel",
          "state": {
            "_view_name": "ProgressView",
            "style": "IPY_MODEL_ed42477cfe7e4b60a2e75cae83621621",
            "_dom_classes": [],
            "description": "100%",
            "_model_name": "FloatProgressModel",
            "bar_style": "success",
            "max": 500,
            "_view_module": "@jupyter-widgets/controls",
            "_model_module_version": "1.5.0",
            "value": 500,
            "_view_count": null,
            "_view_module_version": "1.5.0",
            "orientation": "horizontal",
            "min": 0,
            "description_tooltip": null,
            "_model_module": "@jupyter-widgets/controls",
            "layout": "IPY_MODEL_8bb3b865101c4ffcab039fe13dec492f"
          }
        },
        "58f503a6852b4a80a9a2b4f6c1440cff": {
          "model_module": "@jupyter-widgets/controls",
          "model_name": "HTMLModel",
          "state": {
            "_view_name": "HTMLView",
            "style": "IPY_MODEL_c8478d762fa5422f8952c9d1d484b3c2",
            "_dom_classes": [],
            "description": "",
            "_model_name": "HTMLModel",
            "placeholder": "​",
            "_view_module": "@jupyter-widgets/controls",
            "_model_module_version": "1.5.0",
            "value": " 500/500 [00:57&lt;00:00,  8.66it/s]",
            "_view_count": null,
            "_view_module_version": "1.5.0",
            "description_tooltip": null,
            "_model_module": "@jupyter-widgets/controls",
            "layout": "IPY_MODEL_820642145d464e0daf29275ced583a78"
          }
        },
        "ed42477cfe7e4b60a2e75cae83621621": {
          "model_module": "@jupyter-widgets/controls",
          "model_name": "ProgressStyleModel",
          "state": {
            "_view_name": "StyleView",
            "_model_name": "ProgressStyleModel",
            "description_width": "initial",
            "_view_module": "@jupyter-widgets/base",
            "_model_module_version": "1.5.0",
            "_view_count": null,
            "_view_module_version": "1.2.0",
            "bar_color": null,
            "_model_module": "@jupyter-widgets/controls"
          }
        },
        "8bb3b865101c4ffcab039fe13dec492f": {
          "model_module": "@jupyter-widgets/base",
          "model_name": "LayoutModel",
          "state": {
            "_view_name": "LayoutView",
            "grid_template_rows": null,
            "right": null,
            "justify_content": null,
            "_view_module": "@jupyter-widgets/base",
            "overflow": null,
            "_model_module_version": "1.2.0",
            "_view_count": null,
            "flex_flow": null,
            "width": null,
            "min_width": null,
            "border": null,
            "align_items": null,
            "bottom": null,
            "_model_module": "@jupyter-widgets/base",
            "top": null,
            "grid_column": null,
            "overflow_y": null,
            "overflow_x": null,
            "grid_auto_flow": null,
            "grid_area": null,
            "grid_template_columns": null,
            "flex": null,
            "_model_name": "LayoutModel",
            "justify_items": null,
            "grid_row": null,
            "max_height": null,
            "align_content": null,
            "visibility": null,
            "align_self": null,
            "height": null,
            "min_height": null,
            "padding": null,
            "grid_auto_rows": null,
            "grid_gap": null,
            "max_width": null,
            "order": null,
            "_view_module_version": "1.2.0",
            "grid_template_areas": null,
            "object_position": null,
            "object_fit": null,
            "grid_auto_columns": null,
            "margin": null,
            "display": null,
            "left": null
          }
        },
        "c8478d762fa5422f8952c9d1d484b3c2": {
          "model_module": "@jupyter-widgets/controls",
          "model_name": "DescriptionStyleModel",
          "state": {
            "_view_name": "StyleView",
            "_model_name": "DescriptionStyleModel",
            "description_width": "",
            "_view_module": "@jupyter-widgets/base",
            "_model_module_version": "1.5.0",
            "_view_count": null,
            "_view_module_version": "1.2.0",
            "_model_module": "@jupyter-widgets/controls"
          }
        },
        "820642145d464e0daf29275ced583a78": {
          "model_module": "@jupyter-widgets/base",
          "model_name": "LayoutModel",
          "state": {
            "_view_name": "LayoutView",
            "grid_template_rows": null,
            "right": null,
            "justify_content": null,
            "_view_module": "@jupyter-widgets/base",
            "overflow": null,
            "_model_module_version": "1.2.0",
            "_view_count": null,
            "flex_flow": null,
            "width": null,
            "min_width": null,
            "border": null,
            "align_items": null,
            "bottom": null,
            "_model_module": "@jupyter-widgets/base",
            "top": null,
            "grid_column": null,
            "overflow_y": null,
            "overflow_x": null,
            "grid_auto_flow": null,
            "grid_area": null,
            "grid_template_columns": null,
            "flex": null,
            "_model_name": "LayoutModel",
            "justify_items": null,
            "grid_row": null,
            "max_height": null,
            "align_content": null,
            "visibility": null,
            "align_self": null,
            "height": null,
            "min_height": null,
            "padding": null,
            "grid_auto_rows": null,
            "grid_gap": null,
            "max_width": null,
            "order": null,
            "_view_module_version": "1.2.0",
            "grid_template_areas": null,
            "object_position": null,
            "object_fit": null,
            "grid_auto_columns": null,
            "margin": null,
            "display": null,
            "left": null
          }
        },
        "888231d221124944a44c69ed8e0f2ef2": {
          "model_module": "@jupyter-widgets/controls",
          "model_name": "HBoxModel",
          "state": {
            "_view_name": "HBoxView",
            "_dom_classes": [],
            "_model_name": "HBoxModel",
            "_view_module": "@jupyter-widgets/controls",
            "_model_module_version": "1.5.0",
            "_view_count": null,
            "_view_module_version": "1.5.0",
            "box_style": "",
            "layout": "IPY_MODEL_89810427dcd54372ba0cf00cd96c4508",
            "_model_module": "@jupyter-widgets/controls",
            "children": [
              "IPY_MODEL_81becf123bcc4bd9a45f67a70a86745f",
              "IPY_MODEL_690e9c24a0864d8099cf9df3e2fa304e"
            ]
          }
        },
        "89810427dcd54372ba0cf00cd96c4508": {
          "model_module": "@jupyter-widgets/base",
          "model_name": "LayoutModel",
          "state": {
            "_view_name": "LayoutView",
            "grid_template_rows": null,
            "right": null,
            "justify_content": null,
            "_view_module": "@jupyter-widgets/base",
            "overflow": null,
            "_model_module_version": "1.2.0",
            "_view_count": null,
            "flex_flow": null,
            "width": null,
            "min_width": null,
            "border": null,
            "align_items": null,
            "bottom": null,
            "_model_module": "@jupyter-widgets/base",
            "top": null,
            "grid_column": null,
            "overflow_y": null,
            "overflow_x": null,
            "grid_auto_flow": null,
            "grid_area": null,
            "grid_template_columns": null,
            "flex": null,
            "_model_name": "LayoutModel",
            "justify_items": null,
            "grid_row": null,
            "max_height": null,
            "align_content": null,
            "visibility": null,
            "align_self": null,
            "height": null,
            "min_height": null,
            "padding": null,
            "grid_auto_rows": null,
            "grid_gap": null,
            "max_width": null,
            "order": null,
            "_view_module_version": "1.2.0",
            "grid_template_areas": null,
            "object_position": null,
            "object_fit": null,
            "grid_auto_columns": null,
            "margin": null,
            "display": null,
            "left": null
          }
        },
        "81becf123bcc4bd9a45f67a70a86745f": {
          "model_module": "@jupyter-widgets/controls",
          "model_name": "FloatProgressModel",
          "state": {
            "_view_name": "ProgressView",
            "style": "IPY_MODEL_dd0028c39ff74d66bddbf3eb99bcf347",
            "_dom_classes": [],
            "description": "100%",
            "_model_name": "FloatProgressModel",
            "bar_style": "success",
            "max": 500,
            "_view_module": "@jupyter-widgets/controls",
            "_model_module_version": "1.5.0",
            "value": 500,
            "_view_count": null,
            "_view_module_version": "1.5.0",
            "orientation": "horizontal",
            "min": 0,
            "description_tooltip": null,
            "_model_module": "@jupyter-widgets/controls",
            "layout": "IPY_MODEL_36c271bc553b40bb8c0cd1f99ac5cf57"
          }
        },
        "690e9c24a0864d8099cf9df3e2fa304e": {
          "model_module": "@jupyter-widgets/controls",
          "model_name": "HTMLModel",
          "state": {
            "_view_name": "HTMLView",
            "style": "IPY_MODEL_a5acf17e674048e8b8b5a76be73fa3bc",
            "_dom_classes": [],
            "description": "",
            "_model_name": "HTMLModel",
            "placeholder": "​",
            "_view_module": "@jupyter-widgets/controls",
            "_model_module_version": "1.5.0",
            "value": " 500/500 [00:38&lt;00:00, 12.94it/s]",
            "_view_count": null,
            "_view_module_version": "1.5.0",
            "description_tooltip": null,
            "_model_module": "@jupyter-widgets/controls",
            "layout": "IPY_MODEL_b084ebe8d64e477db72fe07818cabf47"
          }
        },
        "dd0028c39ff74d66bddbf3eb99bcf347": {
          "model_module": "@jupyter-widgets/controls",
          "model_name": "ProgressStyleModel",
          "state": {
            "_view_name": "StyleView",
            "_model_name": "ProgressStyleModel",
            "description_width": "initial",
            "_view_module": "@jupyter-widgets/base",
            "_model_module_version": "1.5.0",
            "_view_count": null,
            "_view_module_version": "1.2.0",
            "bar_color": null,
            "_model_module": "@jupyter-widgets/controls"
          }
        },
        "36c271bc553b40bb8c0cd1f99ac5cf57": {
          "model_module": "@jupyter-widgets/base",
          "model_name": "LayoutModel",
          "state": {
            "_view_name": "LayoutView",
            "grid_template_rows": null,
            "right": null,
            "justify_content": null,
            "_view_module": "@jupyter-widgets/base",
            "overflow": null,
            "_model_module_version": "1.2.0",
            "_view_count": null,
            "flex_flow": null,
            "width": null,
            "min_width": null,
            "border": null,
            "align_items": null,
            "bottom": null,
            "_model_module": "@jupyter-widgets/base",
            "top": null,
            "grid_column": null,
            "overflow_y": null,
            "overflow_x": null,
            "grid_auto_flow": null,
            "grid_area": null,
            "grid_template_columns": null,
            "flex": null,
            "_model_name": "LayoutModel",
            "justify_items": null,
            "grid_row": null,
            "max_height": null,
            "align_content": null,
            "visibility": null,
            "align_self": null,
            "height": null,
            "min_height": null,
            "padding": null,
            "grid_auto_rows": null,
            "grid_gap": null,
            "max_width": null,
            "order": null,
            "_view_module_version": "1.2.0",
            "grid_template_areas": null,
            "object_position": null,
            "object_fit": null,
            "grid_auto_columns": null,
            "margin": null,
            "display": null,
            "left": null
          }
        },
        "a5acf17e674048e8b8b5a76be73fa3bc": {
          "model_module": "@jupyter-widgets/controls",
          "model_name": "DescriptionStyleModel",
          "state": {
            "_view_name": "StyleView",
            "_model_name": "DescriptionStyleModel",
            "description_width": "",
            "_view_module": "@jupyter-widgets/base",
            "_model_module_version": "1.5.0",
            "_view_count": null,
            "_view_module_version": "1.2.0",
            "_model_module": "@jupyter-widgets/controls"
          }
        },
        "b084ebe8d64e477db72fe07818cabf47": {
          "model_module": "@jupyter-widgets/base",
          "model_name": "LayoutModel",
          "state": {
            "_view_name": "LayoutView",
            "grid_template_rows": null,
            "right": null,
            "justify_content": null,
            "_view_module": "@jupyter-widgets/base",
            "overflow": null,
            "_model_module_version": "1.2.0",
            "_view_count": null,
            "flex_flow": null,
            "width": null,
            "min_width": null,
            "border": null,
            "align_items": null,
            "bottom": null,
            "_model_module": "@jupyter-widgets/base",
            "top": null,
            "grid_column": null,
            "overflow_y": null,
            "overflow_x": null,
            "grid_auto_flow": null,
            "grid_area": null,
            "grid_template_columns": null,
            "flex": null,
            "_model_name": "LayoutModel",
            "justify_items": null,
            "grid_row": null,
            "max_height": null,
            "align_content": null,
            "visibility": null,
            "align_self": null,
            "height": null,
            "min_height": null,
            "padding": null,
            "grid_auto_rows": null,
            "grid_gap": null,
            "max_width": null,
            "order": null,
            "_view_module_version": "1.2.0",
            "grid_template_areas": null,
            "object_position": null,
            "object_fit": null,
            "grid_auto_columns": null,
            "margin": null,
            "display": null,
            "left": null
          }
        },
        "591f730e3e204b0ab3cc6f4e3e8ff6ef": {
          "model_module": "@jupyter-widgets/controls",
          "model_name": "HBoxModel",
          "state": {
            "_view_name": "HBoxView",
            "_dom_classes": [],
            "_model_name": "HBoxModel",
            "_view_module": "@jupyter-widgets/controls",
            "_model_module_version": "1.5.0",
            "_view_count": null,
            "_view_module_version": "1.5.0",
            "box_style": "",
            "layout": "IPY_MODEL_78effcc6c88a4fcab6469f0485ca2ab5",
            "_model_module": "@jupyter-widgets/controls",
            "children": [
              "IPY_MODEL_b8075e1608cd47ee85c2cf08375c3825",
              "IPY_MODEL_15040e209e074ef7ab415f97dd829e70"
            ]
          }
        },
        "78effcc6c88a4fcab6469f0485ca2ab5": {
          "model_module": "@jupyter-widgets/base",
          "model_name": "LayoutModel",
          "state": {
            "_view_name": "LayoutView",
            "grid_template_rows": null,
            "right": null,
            "justify_content": null,
            "_view_module": "@jupyter-widgets/base",
            "overflow": null,
            "_model_module_version": "1.2.0",
            "_view_count": null,
            "flex_flow": null,
            "width": null,
            "min_width": null,
            "border": null,
            "align_items": null,
            "bottom": null,
            "_model_module": "@jupyter-widgets/base",
            "top": null,
            "grid_column": null,
            "overflow_y": null,
            "overflow_x": null,
            "grid_auto_flow": null,
            "grid_area": null,
            "grid_template_columns": null,
            "flex": null,
            "_model_name": "LayoutModel",
            "justify_items": null,
            "grid_row": null,
            "max_height": null,
            "align_content": null,
            "visibility": null,
            "align_self": null,
            "height": null,
            "min_height": null,
            "padding": null,
            "grid_auto_rows": null,
            "grid_gap": null,
            "max_width": null,
            "order": null,
            "_view_module_version": "1.2.0",
            "grid_template_areas": null,
            "object_position": null,
            "object_fit": null,
            "grid_auto_columns": null,
            "margin": null,
            "display": null,
            "left": null
          }
        },
        "b8075e1608cd47ee85c2cf08375c3825": {
          "model_module": "@jupyter-widgets/controls",
          "model_name": "FloatProgressModel",
          "state": {
            "_view_name": "ProgressView",
            "style": "IPY_MODEL_1a49c1eed4e346ad9f8864e116d5ba7f",
            "_dom_classes": [],
            "description": "100%",
            "_model_name": "FloatProgressModel",
            "bar_style": "success",
            "max": 500,
            "_view_module": "@jupyter-widgets/controls",
            "_model_module_version": "1.5.0",
            "value": 500,
            "_view_count": null,
            "_view_module_version": "1.5.0",
            "orientation": "horizontal",
            "min": 0,
            "description_tooltip": null,
            "_model_module": "@jupyter-widgets/controls",
            "layout": "IPY_MODEL_5341d15d23f6455eb611eddc3ff4738f"
          }
        },
        "15040e209e074ef7ab415f97dd829e70": {
          "model_module": "@jupyter-widgets/controls",
          "model_name": "HTMLModel",
          "state": {
            "_view_name": "HTMLView",
            "style": "IPY_MODEL_7a4f3b78f77e4ebbabe8713026eab19c",
            "_dom_classes": [],
            "description": "",
            "_model_name": "HTMLModel",
            "placeholder": "​",
            "_view_module": "@jupyter-widgets/controls",
            "_model_module_version": "1.5.0",
            "value": " 500/500 [00:19&lt;00:00, 25.82it/s]",
            "_view_count": null,
            "_view_module_version": "1.5.0",
            "description_tooltip": null,
            "_model_module": "@jupyter-widgets/controls",
            "layout": "IPY_MODEL_80c3c3b7e547414484b76bdf0e916dee"
          }
        },
        "1a49c1eed4e346ad9f8864e116d5ba7f": {
          "model_module": "@jupyter-widgets/controls",
          "model_name": "ProgressStyleModel",
          "state": {
            "_view_name": "StyleView",
            "_model_name": "ProgressStyleModel",
            "description_width": "initial",
            "_view_module": "@jupyter-widgets/base",
            "_model_module_version": "1.5.0",
            "_view_count": null,
            "_view_module_version": "1.2.0",
            "bar_color": null,
            "_model_module": "@jupyter-widgets/controls"
          }
        },
        "5341d15d23f6455eb611eddc3ff4738f": {
          "model_module": "@jupyter-widgets/base",
          "model_name": "LayoutModel",
          "state": {
            "_view_name": "LayoutView",
            "grid_template_rows": null,
            "right": null,
            "justify_content": null,
            "_view_module": "@jupyter-widgets/base",
            "overflow": null,
            "_model_module_version": "1.2.0",
            "_view_count": null,
            "flex_flow": null,
            "width": null,
            "min_width": null,
            "border": null,
            "align_items": null,
            "bottom": null,
            "_model_module": "@jupyter-widgets/base",
            "top": null,
            "grid_column": null,
            "overflow_y": null,
            "overflow_x": null,
            "grid_auto_flow": null,
            "grid_area": null,
            "grid_template_columns": null,
            "flex": null,
            "_model_name": "LayoutModel",
            "justify_items": null,
            "grid_row": null,
            "max_height": null,
            "align_content": null,
            "visibility": null,
            "align_self": null,
            "height": null,
            "min_height": null,
            "padding": null,
            "grid_auto_rows": null,
            "grid_gap": null,
            "max_width": null,
            "order": null,
            "_view_module_version": "1.2.0",
            "grid_template_areas": null,
            "object_position": null,
            "object_fit": null,
            "grid_auto_columns": null,
            "margin": null,
            "display": null,
            "left": null
          }
        },
        "7a4f3b78f77e4ebbabe8713026eab19c": {
          "model_module": "@jupyter-widgets/controls",
          "model_name": "DescriptionStyleModel",
          "state": {
            "_view_name": "StyleView",
            "_model_name": "DescriptionStyleModel",
            "description_width": "",
            "_view_module": "@jupyter-widgets/base",
            "_model_module_version": "1.5.0",
            "_view_count": null,
            "_view_module_version": "1.2.0",
            "_model_module": "@jupyter-widgets/controls"
          }
        },
        "80c3c3b7e547414484b76bdf0e916dee": {
          "model_module": "@jupyter-widgets/base",
          "model_name": "LayoutModel",
          "state": {
            "_view_name": "LayoutView",
            "grid_template_rows": null,
            "right": null,
            "justify_content": null,
            "_view_module": "@jupyter-widgets/base",
            "overflow": null,
            "_model_module_version": "1.2.0",
            "_view_count": null,
            "flex_flow": null,
            "width": null,
            "min_width": null,
            "border": null,
            "align_items": null,
            "bottom": null,
            "_model_module": "@jupyter-widgets/base",
            "top": null,
            "grid_column": null,
            "overflow_y": null,
            "overflow_x": null,
            "grid_auto_flow": null,
            "grid_area": null,
            "grid_template_columns": null,
            "flex": null,
            "_model_name": "LayoutModel",
            "justify_items": null,
            "grid_row": null,
            "max_height": null,
            "align_content": null,
            "visibility": null,
            "align_self": null,
            "height": null,
            "min_height": null,
            "padding": null,
            "grid_auto_rows": null,
            "grid_gap": null,
            "max_width": null,
            "order": null,
            "_view_module_version": "1.2.0",
            "grid_template_areas": null,
            "object_position": null,
            "object_fit": null,
            "grid_auto_columns": null,
            "margin": null,
            "display": null,
            "left": null
          }
        },
        "be51a121c8ad4d1b95a3d99acee06ddc": {
          "model_module": "@jupyter-widgets/controls",
          "model_name": "HBoxModel",
          "state": {
            "_view_name": "HBoxView",
            "_dom_classes": [],
            "_model_name": "HBoxModel",
            "_view_module": "@jupyter-widgets/controls",
            "_model_module_version": "1.5.0",
            "_view_count": null,
            "_view_module_version": "1.5.0",
            "box_style": "",
            "layout": "IPY_MODEL_d4c0e79479aa4011a8d15dc83aa8261d",
            "_model_module": "@jupyter-widgets/controls",
            "children": [
              "IPY_MODEL_d5b8036914034932be81307d7232495a",
              "IPY_MODEL_a74d352482c54e4ea1a01e78dcf69475"
            ]
          }
        },
        "d4c0e79479aa4011a8d15dc83aa8261d": {
          "model_module": "@jupyter-widgets/base",
          "model_name": "LayoutModel",
          "state": {
            "_view_name": "LayoutView",
            "grid_template_rows": null,
            "right": null,
            "justify_content": null,
            "_view_module": "@jupyter-widgets/base",
            "overflow": null,
            "_model_module_version": "1.2.0",
            "_view_count": null,
            "flex_flow": null,
            "width": null,
            "min_width": null,
            "border": null,
            "align_items": null,
            "bottom": null,
            "_model_module": "@jupyter-widgets/base",
            "top": null,
            "grid_column": null,
            "overflow_y": null,
            "overflow_x": null,
            "grid_auto_flow": null,
            "grid_area": null,
            "grid_template_columns": null,
            "flex": null,
            "_model_name": "LayoutModel",
            "justify_items": null,
            "grid_row": null,
            "max_height": null,
            "align_content": null,
            "visibility": null,
            "align_self": null,
            "height": null,
            "min_height": null,
            "padding": null,
            "grid_auto_rows": null,
            "grid_gap": null,
            "max_width": null,
            "order": null,
            "_view_module_version": "1.2.0",
            "grid_template_areas": null,
            "object_position": null,
            "object_fit": null,
            "grid_auto_columns": null,
            "margin": null,
            "display": null,
            "left": null
          }
        },
        "d5b8036914034932be81307d7232495a": {
          "model_module": "@jupyter-widgets/controls",
          "model_name": "FloatProgressModel",
          "state": {
            "_view_name": "ProgressView",
            "style": "IPY_MODEL_81d593cfc0b4432999e38c8b98ff471f",
            "_dom_classes": [],
            "description": "100%",
            "_model_name": "FloatProgressModel",
            "bar_style": "success",
            "max": 3,
            "_view_module": "@jupyter-widgets/controls",
            "_model_module_version": "1.5.0",
            "value": 3,
            "_view_count": null,
            "_view_module_version": "1.5.0",
            "orientation": "horizontal",
            "min": 0,
            "description_tooltip": null,
            "_model_module": "@jupyter-widgets/controls",
            "layout": "IPY_MODEL_f259cef86b884434bfcfdf999cfcdd27"
          }
        },
        "a74d352482c54e4ea1a01e78dcf69475": {
          "model_module": "@jupyter-widgets/controls",
          "model_name": "HTMLModel",
          "state": {
            "_view_name": "HTMLView",
            "style": "IPY_MODEL_d33de128e55741adacd27e911050878f",
            "_dom_classes": [],
            "description": "",
            "_model_name": "HTMLModel",
            "placeholder": "​",
            "_view_module": "@jupyter-widgets/controls",
            "_model_module_version": "1.5.0",
            "value": " 3/3 [00:23&lt;00:00,  7.99s/it]",
            "_view_count": null,
            "_view_module_version": "1.5.0",
            "description_tooltip": null,
            "_model_module": "@jupyter-widgets/controls",
            "layout": "IPY_MODEL_72fc665a9cb041b8ac29b3ecc6aa9877"
          }
        },
        "81d593cfc0b4432999e38c8b98ff471f": {
          "model_module": "@jupyter-widgets/controls",
          "model_name": "ProgressStyleModel",
          "state": {
            "_view_name": "StyleView",
            "_model_name": "ProgressStyleModel",
            "description_width": "initial",
            "_view_module": "@jupyter-widgets/base",
            "_model_module_version": "1.5.0",
            "_view_count": null,
            "_view_module_version": "1.2.0",
            "bar_color": null,
            "_model_module": "@jupyter-widgets/controls"
          }
        },
        "f259cef86b884434bfcfdf999cfcdd27": {
          "model_module": "@jupyter-widgets/base",
          "model_name": "LayoutModel",
          "state": {
            "_view_name": "LayoutView",
            "grid_template_rows": null,
            "right": null,
            "justify_content": null,
            "_view_module": "@jupyter-widgets/base",
            "overflow": null,
            "_model_module_version": "1.2.0",
            "_view_count": null,
            "flex_flow": null,
            "width": null,
            "min_width": null,
            "border": null,
            "align_items": null,
            "bottom": null,
            "_model_module": "@jupyter-widgets/base",
            "top": null,
            "grid_column": null,
            "overflow_y": null,
            "overflow_x": null,
            "grid_auto_flow": null,
            "grid_area": null,
            "grid_template_columns": null,
            "flex": null,
            "_model_name": "LayoutModel",
            "justify_items": null,
            "grid_row": null,
            "max_height": null,
            "align_content": null,
            "visibility": null,
            "align_self": null,
            "height": null,
            "min_height": null,
            "padding": null,
            "grid_auto_rows": null,
            "grid_gap": null,
            "max_width": null,
            "order": null,
            "_view_module_version": "1.2.0",
            "grid_template_areas": null,
            "object_position": null,
            "object_fit": null,
            "grid_auto_columns": null,
            "margin": null,
            "display": null,
            "left": null
          }
        },
        "d33de128e55741adacd27e911050878f": {
          "model_module": "@jupyter-widgets/controls",
          "model_name": "DescriptionStyleModel",
          "state": {
            "_view_name": "StyleView",
            "_model_name": "DescriptionStyleModel",
            "description_width": "",
            "_view_module": "@jupyter-widgets/base",
            "_model_module_version": "1.5.0",
            "_view_count": null,
            "_view_module_version": "1.2.0",
            "_model_module": "@jupyter-widgets/controls"
          }
        },
        "72fc665a9cb041b8ac29b3ecc6aa9877": {
          "model_module": "@jupyter-widgets/base",
          "model_name": "LayoutModel",
          "state": {
            "_view_name": "LayoutView",
            "grid_template_rows": null,
            "right": null,
            "justify_content": null,
            "_view_module": "@jupyter-widgets/base",
            "overflow": null,
            "_model_module_version": "1.2.0",
            "_view_count": null,
            "flex_flow": null,
            "width": null,
            "min_width": null,
            "border": null,
            "align_items": null,
            "bottom": null,
            "_model_module": "@jupyter-widgets/base",
            "top": null,
            "grid_column": null,
            "overflow_y": null,
            "overflow_x": null,
            "grid_auto_flow": null,
            "grid_area": null,
            "grid_template_columns": null,
            "flex": null,
            "_model_name": "LayoutModel",
            "justify_items": null,
            "grid_row": null,
            "max_height": null,
            "align_content": null,
            "visibility": null,
            "align_self": null,
            "height": null,
            "min_height": null,
            "padding": null,
            "grid_auto_rows": null,
            "grid_gap": null,
            "max_width": null,
            "order": null,
            "_view_module_version": "1.2.0",
            "grid_template_areas": null,
            "object_position": null,
            "object_fit": null,
            "grid_auto_columns": null,
            "margin": null,
            "display": null,
            "left": null
          }
        },
        "f2a3279df8814987a2dce095cbb669ba": {
          "model_module": "@jupyter-widgets/controls",
          "model_name": "HBoxModel",
          "state": {
            "_view_name": "HBoxView",
            "_dom_classes": [],
            "_model_name": "HBoxModel",
            "_view_module": "@jupyter-widgets/controls",
            "_model_module_version": "1.5.0",
            "_view_count": null,
            "_view_module_version": "1.5.0",
            "box_style": "",
            "layout": "IPY_MODEL_00d55274b6424b8bb375c54dfa58ff89",
            "_model_module": "@jupyter-widgets/controls",
            "children": [
              "IPY_MODEL_c9a27d9f0a92482396e167766d520de6",
              "IPY_MODEL_f9e9ad6b4df149a6bbf4a030cf8ce649"
            ]
          }
        },
        "00d55274b6424b8bb375c54dfa58ff89": {
          "model_module": "@jupyter-widgets/base",
          "model_name": "LayoutModel",
          "state": {
            "_view_name": "LayoutView",
            "grid_template_rows": null,
            "right": null,
            "justify_content": null,
            "_view_module": "@jupyter-widgets/base",
            "overflow": null,
            "_model_module_version": "1.2.0",
            "_view_count": null,
            "flex_flow": null,
            "width": null,
            "min_width": null,
            "border": null,
            "align_items": null,
            "bottom": null,
            "_model_module": "@jupyter-widgets/base",
            "top": null,
            "grid_column": null,
            "overflow_y": null,
            "overflow_x": null,
            "grid_auto_flow": null,
            "grid_area": null,
            "grid_template_columns": null,
            "flex": null,
            "_model_name": "LayoutModel",
            "justify_items": null,
            "grid_row": null,
            "max_height": null,
            "align_content": null,
            "visibility": null,
            "align_self": null,
            "height": null,
            "min_height": null,
            "padding": null,
            "grid_auto_rows": null,
            "grid_gap": null,
            "max_width": null,
            "order": null,
            "_view_module_version": "1.2.0",
            "grid_template_areas": null,
            "object_position": null,
            "object_fit": null,
            "grid_auto_columns": null,
            "margin": null,
            "display": null,
            "left": null
          }
        },
        "c9a27d9f0a92482396e167766d520de6": {
          "model_module": "@jupyter-widgets/controls",
          "model_name": "FloatProgressModel",
          "state": {
            "_view_name": "ProgressView",
            "style": "IPY_MODEL_2c44d648781f41e49c99bd6292bc88f2",
            "_dom_classes": [],
            "description": "100%",
            "_model_name": "FloatProgressModel",
            "bar_style": "success",
            "max": 100,
            "_view_module": "@jupyter-widgets/controls",
            "_model_module_version": "1.5.0",
            "value": 100,
            "_view_count": null,
            "_view_module_version": "1.5.0",
            "orientation": "horizontal",
            "min": 0,
            "description_tooltip": null,
            "_model_module": "@jupyter-widgets/controls",
            "layout": "IPY_MODEL_970783f0b32a42ce8f6da466b485b78e"
          }
        },
        "f9e9ad6b4df149a6bbf4a030cf8ce649": {
          "model_module": "@jupyter-widgets/controls",
          "model_name": "HTMLModel",
          "state": {
            "_view_name": "HTMLView",
            "style": "IPY_MODEL_884e7b7e09ae467e89f7e163137c2fbd",
            "_dom_classes": [],
            "description": "",
            "_model_name": "HTMLModel",
            "placeholder": "​",
            "_view_module": "@jupyter-widgets/controls",
            "_model_module_version": "1.5.0",
            "value": " 100/100 [00:23&lt;00:00,  4.18it/s]",
            "_view_count": null,
            "_view_module_version": "1.5.0",
            "description_tooltip": null,
            "_model_module": "@jupyter-widgets/controls",
            "layout": "IPY_MODEL_8caa369cd00c4f65bb1e3965910e975d"
          }
        },
        "2c44d648781f41e49c99bd6292bc88f2": {
          "model_module": "@jupyter-widgets/controls",
          "model_name": "ProgressStyleModel",
          "state": {
            "_view_name": "StyleView",
            "_model_name": "ProgressStyleModel",
            "description_width": "initial",
            "_view_module": "@jupyter-widgets/base",
            "_model_module_version": "1.5.0",
            "_view_count": null,
            "_view_module_version": "1.2.0",
            "bar_color": null,
            "_model_module": "@jupyter-widgets/controls"
          }
        },
        "970783f0b32a42ce8f6da466b485b78e": {
          "model_module": "@jupyter-widgets/base",
          "model_name": "LayoutModel",
          "state": {
            "_view_name": "LayoutView",
            "grid_template_rows": null,
            "right": null,
            "justify_content": null,
            "_view_module": "@jupyter-widgets/base",
            "overflow": null,
            "_model_module_version": "1.2.0",
            "_view_count": null,
            "flex_flow": null,
            "width": null,
            "min_width": null,
            "border": null,
            "align_items": null,
            "bottom": null,
            "_model_module": "@jupyter-widgets/base",
            "top": null,
            "grid_column": null,
            "overflow_y": null,
            "overflow_x": null,
            "grid_auto_flow": null,
            "grid_area": null,
            "grid_template_columns": null,
            "flex": null,
            "_model_name": "LayoutModel",
            "justify_items": null,
            "grid_row": null,
            "max_height": null,
            "align_content": null,
            "visibility": null,
            "align_self": null,
            "height": null,
            "min_height": null,
            "padding": null,
            "grid_auto_rows": null,
            "grid_gap": null,
            "max_width": null,
            "order": null,
            "_view_module_version": "1.2.0",
            "grid_template_areas": null,
            "object_position": null,
            "object_fit": null,
            "grid_auto_columns": null,
            "margin": null,
            "display": null,
            "left": null
          }
        },
        "884e7b7e09ae467e89f7e163137c2fbd": {
          "model_module": "@jupyter-widgets/controls",
          "model_name": "DescriptionStyleModel",
          "state": {
            "_view_name": "StyleView",
            "_model_name": "DescriptionStyleModel",
            "description_width": "",
            "_view_module": "@jupyter-widgets/base",
            "_model_module_version": "1.5.0",
            "_view_count": null,
            "_view_module_version": "1.2.0",
            "_model_module": "@jupyter-widgets/controls"
          }
        },
        "8caa369cd00c4f65bb1e3965910e975d": {
          "model_module": "@jupyter-widgets/base",
          "model_name": "LayoutModel",
          "state": {
            "_view_name": "LayoutView",
            "grid_template_rows": null,
            "right": null,
            "justify_content": null,
            "_view_module": "@jupyter-widgets/base",
            "overflow": null,
            "_model_module_version": "1.2.0",
            "_view_count": null,
            "flex_flow": null,
            "width": null,
            "min_width": null,
            "border": null,
            "align_items": null,
            "bottom": null,
            "_model_module": "@jupyter-widgets/base",
            "top": null,
            "grid_column": null,
            "overflow_y": null,
            "overflow_x": null,
            "grid_auto_flow": null,
            "grid_area": null,
            "grid_template_columns": null,
            "flex": null,
            "_model_name": "LayoutModel",
            "justify_items": null,
            "grid_row": null,
            "max_height": null,
            "align_content": null,
            "visibility": null,
            "align_self": null,
            "height": null,
            "min_height": null,
            "padding": null,
            "grid_auto_rows": null,
            "grid_gap": null,
            "max_width": null,
            "order": null,
            "_view_module_version": "1.2.0",
            "grid_template_areas": null,
            "object_position": null,
            "object_fit": null,
            "grid_auto_columns": null,
            "margin": null,
            "display": null,
            "left": null
          }
        },
        "35c25e4018bd46869b3744254140883d": {
          "model_module": "@jupyter-widgets/controls",
          "model_name": "HBoxModel",
          "state": {
            "_view_name": "HBoxView",
            "_dom_classes": [],
            "_model_name": "HBoxModel",
            "_view_module": "@jupyter-widgets/controls",
            "_model_module_version": "1.5.0",
            "_view_count": null,
            "_view_module_version": "1.5.0",
            "box_style": "",
            "layout": "IPY_MODEL_d3630bafb3c94ad2879df19ade6526a8",
            "_model_module": "@jupyter-widgets/controls",
            "children": [
              "IPY_MODEL_2d99a7283743450b880844c6bd4c10c2",
              "IPY_MODEL_b49c65eab32642cb8a410adbc702d4f8"
            ]
          }
        },
        "d3630bafb3c94ad2879df19ade6526a8": {
          "model_module": "@jupyter-widgets/base",
          "model_name": "LayoutModel",
          "state": {
            "_view_name": "LayoutView",
            "grid_template_rows": null,
            "right": null,
            "justify_content": null,
            "_view_module": "@jupyter-widgets/base",
            "overflow": null,
            "_model_module_version": "1.2.0",
            "_view_count": null,
            "flex_flow": null,
            "width": null,
            "min_width": null,
            "border": null,
            "align_items": null,
            "bottom": null,
            "_model_module": "@jupyter-widgets/base",
            "top": null,
            "grid_column": null,
            "overflow_y": null,
            "overflow_x": null,
            "grid_auto_flow": null,
            "grid_area": null,
            "grid_template_columns": null,
            "flex": null,
            "_model_name": "LayoutModel",
            "justify_items": null,
            "grid_row": null,
            "max_height": null,
            "align_content": null,
            "visibility": null,
            "align_self": null,
            "height": null,
            "min_height": null,
            "padding": null,
            "grid_auto_rows": null,
            "grid_gap": null,
            "max_width": null,
            "order": null,
            "_view_module_version": "1.2.0",
            "grid_template_areas": null,
            "object_position": null,
            "object_fit": null,
            "grid_auto_columns": null,
            "margin": null,
            "display": null,
            "left": null
          }
        },
        "2d99a7283743450b880844c6bd4c10c2": {
          "model_module": "@jupyter-widgets/controls",
          "model_name": "FloatProgressModel",
          "state": {
            "_view_name": "ProgressView",
            "style": "IPY_MODEL_b277041763d0433abccba1347ac7ea9e",
            "_dom_classes": [],
            "description": "100%",
            "_model_name": "FloatProgressModel",
            "bar_style": "success",
            "max": 200,
            "_view_module": "@jupyter-widgets/controls",
            "_model_module_version": "1.5.0",
            "value": 200,
            "_view_count": null,
            "_view_module_version": "1.5.0",
            "orientation": "horizontal",
            "min": 0,
            "description_tooltip": null,
            "_model_module": "@jupyter-widgets/controls",
            "layout": "IPY_MODEL_3107923e34444d7f827d493c96dd0657"
          }
        },
        "b49c65eab32642cb8a410adbc702d4f8": {
          "model_module": "@jupyter-widgets/controls",
          "model_name": "HTMLModel",
          "state": {
            "_view_name": "HTMLView",
            "style": "IPY_MODEL_54aa7583b3854896aef9f9c8d76f93dd",
            "_dom_classes": [],
            "description": "",
            "_model_name": "HTMLModel",
            "placeholder": "​",
            "_view_module": "@jupyter-widgets/controls",
            "_model_module_version": "1.5.0",
            "value": " 200/200 [00:19&lt;00:00, 10.23it/s]",
            "_view_count": null,
            "_view_module_version": "1.5.0",
            "description_tooltip": null,
            "_model_module": "@jupyter-widgets/controls",
            "layout": "IPY_MODEL_9cb48abb81a642d0893c59d395570d39"
          }
        },
        "b277041763d0433abccba1347ac7ea9e": {
          "model_module": "@jupyter-widgets/controls",
          "model_name": "ProgressStyleModel",
          "state": {
            "_view_name": "StyleView",
            "_model_name": "ProgressStyleModel",
            "description_width": "initial",
            "_view_module": "@jupyter-widgets/base",
            "_model_module_version": "1.5.0",
            "_view_count": null,
            "_view_module_version": "1.2.0",
            "bar_color": null,
            "_model_module": "@jupyter-widgets/controls"
          }
        },
        "3107923e34444d7f827d493c96dd0657": {
          "model_module": "@jupyter-widgets/base",
          "model_name": "LayoutModel",
          "state": {
            "_view_name": "LayoutView",
            "grid_template_rows": null,
            "right": null,
            "justify_content": null,
            "_view_module": "@jupyter-widgets/base",
            "overflow": null,
            "_model_module_version": "1.2.0",
            "_view_count": null,
            "flex_flow": null,
            "width": null,
            "min_width": null,
            "border": null,
            "align_items": null,
            "bottom": null,
            "_model_module": "@jupyter-widgets/base",
            "top": null,
            "grid_column": null,
            "overflow_y": null,
            "overflow_x": null,
            "grid_auto_flow": null,
            "grid_area": null,
            "grid_template_columns": null,
            "flex": null,
            "_model_name": "LayoutModel",
            "justify_items": null,
            "grid_row": null,
            "max_height": null,
            "align_content": null,
            "visibility": null,
            "align_self": null,
            "height": null,
            "min_height": null,
            "padding": null,
            "grid_auto_rows": null,
            "grid_gap": null,
            "max_width": null,
            "order": null,
            "_view_module_version": "1.2.0",
            "grid_template_areas": null,
            "object_position": null,
            "object_fit": null,
            "grid_auto_columns": null,
            "margin": null,
            "display": null,
            "left": null
          }
        },
        "54aa7583b3854896aef9f9c8d76f93dd": {
          "model_module": "@jupyter-widgets/controls",
          "model_name": "DescriptionStyleModel",
          "state": {
            "_view_name": "StyleView",
            "_model_name": "DescriptionStyleModel",
            "description_width": "",
            "_view_module": "@jupyter-widgets/base",
            "_model_module_version": "1.5.0",
            "_view_count": null,
            "_view_module_version": "1.2.0",
            "_model_module": "@jupyter-widgets/controls"
          }
        },
        "9cb48abb81a642d0893c59d395570d39": {
          "model_module": "@jupyter-widgets/base",
          "model_name": "LayoutModel",
          "state": {
            "_view_name": "LayoutView",
            "grid_template_rows": null,
            "right": null,
            "justify_content": null,
            "_view_module": "@jupyter-widgets/base",
            "overflow": null,
            "_model_module_version": "1.2.0",
            "_view_count": null,
            "flex_flow": null,
            "width": null,
            "min_width": null,
            "border": null,
            "align_items": null,
            "bottom": null,
            "_model_module": "@jupyter-widgets/base",
            "top": null,
            "grid_column": null,
            "overflow_y": null,
            "overflow_x": null,
            "grid_auto_flow": null,
            "grid_area": null,
            "grid_template_columns": null,
            "flex": null,
            "_model_name": "LayoutModel",
            "justify_items": null,
            "grid_row": null,
            "max_height": null,
            "align_content": null,
            "visibility": null,
            "align_self": null,
            "height": null,
            "min_height": null,
            "padding": null,
            "grid_auto_rows": null,
            "grid_gap": null,
            "max_width": null,
            "order": null,
            "_view_module_version": "1.2.0",
            "grid_template_areas": null,
            "object_position": null,
            "object_fit": null,
            "grid_auto_columns": null,
            "margin": null,
            "display": null,
            "left": null
          }
        },
        "9dc224b75bfb4fa88ba11fa11e4a9898": {
          "model_module": "@jupyter-widgets/controls",
          "model_name": "HBoxModel",
          "state": {
            "_view_name": "HBoxView",
            "_dom_classes": [],
            "_model_name": "HBoxModel",
            "_view_module": "@jupyter-widgets/controls",
            "_model_module_version": "1.5.0",
            "_view_count": null,
            "_view_module_version": "1.5.0",
            "box_style": "",
            "layout": "IPY_MODEL_79a98b953d374bcfaebdef4b596a4e04",
            "_model_module": "@jupyter-widgets/controls",
            "children": [
              "IPY_MODEL_f292da71798940af8fc67681bd5105d8",
              "IPY_MODEL_4d5a562a94214725902139ff45fcd2a4"
            ]
          }
        },
        "79a98b953d374bcfaebdef4b596a4e04": {
          "model_module": "@jupyter-widgets/base",
          "model_name": "LayoutModel",
          "state": {
            "_view_name": "LayoutView",
            "grid_template_rows": null,
            "right": null,
            "justify_content": null,
            "_view_module": "@jupyter-widgets/base",
            "overflow": null,
            "_model_module_version": "1.2.0",
            "_view_count": null,
            "flex_flow": null,
            "width": null,
            "min_width": null,
            "border": null,
            "align_items": null,
            "bottom": null,
            "_model_module": "@jupyter-widgets/base",
            "top": null,
            "grid_column": null,
            "overflow_y": null,
            "overflow_x": null,
            "grid_auto_flow": null,
            "grid_area": null,
            "grid_template_columns": null,
            "flex": null,
            "_model_name": "LayoutModel",
            "justify_items": null,
            "grid_row": null,
            "max_height": null,
            "align_content": null,
            "visibility": null,
            "align_self": null,
            "height": null,
            "min_height": null,
            "padding": null,
            "grid_auto_rows": null,
            "grid_gap": null,
            "max_width": null,
            "order": null,
            "_view_module_version": "1.2.0",
            "grid_template_areas": null,
            "object_position": null,
            "object_fit": null,
            "grid_auto_columns": null,
            "margin": null,
            "display": null,
            "left": null
          }
        },
        "f292da71798940af8fc67681bd5105d8": {
          "model_module": "@jupyter-widgets/controls",
          "model_name": "FloatProgressModel",
          "state": {
            "_view_name": "ProgressView",
            "style": "IPY_MODEL_94e3dd0310b64901bd1da6d27f2b7be1",
            "_dom_classes": [],
            "description": "100%",
            "_model_name": "FloatProgressModel",
            "bar_style": "success",
            "max": 300,
            "_view_module": "@jupyter-widgets/controls",
            "_model_module_version": "1.5.0",
            "value": 300,
            "_view_count": null,
            "_view_module_version": "1.5.0",
            "orientation": "horizontal",
            "min": 0,
            "description_tooltip": null,
            "_model_module": "@jupyter-widgets/controls",
            "layout": "IPY_MODEL_09707b43835e4af88cb21f07ffabea04"
          }
        },
        "4d5a562a94214725902139ff45fcd2a4": {
          "model_module": "@jupyter-widgets/controls",
          "model_name": "HTMLModel",
          "state": {
            "_view_name": "HTMLView",
            "style": "IPY_MODEL_00730ad827b84cdeb0b0cfe77ced617f",
            "_dom_classes": [],
            "description": "",
            "_model_name": "HTMLModel",
            "placeholder": "​",
            "_view_module": "@jupyter-widgets/controls",
            "_model_module_version": "1.5.0",
            "value": " 300/300 [00:11&lt;00:00, 25.62it/s]",
            "_view_count": null,
            "_view_module_version": "1.5.0",
            "description_tooltip": null,
            "_model_module": "@jupyter-widgets/controls",
            "layout": "IPY_MODEL_085bd95ce14748f9b067268b4c56f297"
          }
        },
        "94e3dd0310b64901bd1da6d27f2b7be1": {
          "model_module": "@jupyter-widgets/controls",
          "model_name": "ProgressStyleModel",
          "state": {
            "_view_name": "StyleView",
            "_model_name": "ProgressStyleModel",
            "description_width": "initial",
            "_view_module": "@jupyter-widgets/base",
            "_model_module_version": "1.5.0",
            "_view_count": null,
            "_view_module_version": "1.2.0",
            "bar_color": null,
            "_model_module": "@jupyter-widgets/controls"
          }
        },
        "09707b43835e4af88cb21f07ffabea04": {
          "model_module": "@jupyter-widgets/base",
          "model_name": "LayoutModel",
          "state": {
            "_view_name": "LayoutView",
            "grid_template_rows": null,
            "right": null,
            "justify_content": null,
            "_view_module": "@jupyter-widgets/base",
            "overflow": null,
            "_model_module_version": "1.2.0",
            "_view_count": null,
            "flex_flow": null,
            "width": null,
            "min_width": null,
            "border": null,
            "align_items": null,
            "bottom": null,
            "_model_module": "@jupyter-widgets/base",
            "top": null,
            "grid_column": null,
            "overflow_y": null,
            "overflow_x": null,
            "grid_auto_flow": null,
            "grid_area": null,
            "grid_template_columns": null,
            "flex": null,
            "_model_name": "LayoutModel",
            "justify_items": null,
            "grid_row": null,
            "max_height": null,
            "align_content": null,
            "visibility": null,
            "align_self": null,
            "height": null,
            "min_height": null,
            "padding": null,
            "grid_auto_rows": null,
            "grid_gap": null,
            "max_width": null,
            "order": null,
            "_view_module_version": "1.2.0",
            "grid_template_areas": null,
            "object_position": null,
            "object_fit": null,
            "grid_auto_columns": null,
            "margin": null,
            "display": null,
            "left": null
          }
        },
        "00730ad827b84cdeb0b0cfe77ced617f": {
          "model_module": "@jupyter-widgets/controls",
          "model_name": "DescriptionStyleModel",
          "state": {
            "_view_name": "StyleView",
            "_model_name": "DescriptionStyleModel",
            "description_width": "",
            "_view_module": "@jupyter-widgets/base",
            "_model_module_version": "1.5.0",
            "_view_count": null,
            "_view_module_version": "1.2.0",
            "_model_module": "@jupyter-widgets/controls"
          }
        },
        "085bd95ce14748f9b067268b4c56f297": {
          "model_module": "@jupyter-widgets/base",
          "model_name": "LayoutModel",
          "state": {
            "_view_name": "LayoutView",
            "grid_template_rows": null,
            "right": null,
            "justify_content": null,
            "_view_module": "@jupyter-widgets/base",
            "overflow": null,
            "_model_module_version": "1.2.0",
            "_view_count": null,
            "flex_flow": null,
            "width": null,
            "min_width": null,
            "border": null,
            "align_items": null,
            "bottom": null,
            "_model_module": "@jupyter-widgets/base",
            "top": null,
            "grid_column": null,
            "overflow_y": null,
            "overflow_x": null,
            "grid_auto_flow": null,
            "grid_area": null,
            "grid_template_columns": null,
            "flex": null,
            "_model_name": "LayoutModel",
            "justify_items": null,
            "grid_row": null,
            "max_height": null,
            "align_content": null,
            "visibility": null,
            "align_self": null,
            "height": null,
            "min_height": null,
            "padding": null,
            "grid_auto_rows": null,
            "grid_gap": null,
            "max_width": null,
            "order": null,
            "_view_module_version": "1.2.0",
            "grid_template_areas": null,
            "object_position": null,
            "object_fit": null,
            "grid_auto_columns": null,
            "margin": null,
            "display": null,
            "left": null
          }
        },
        "af8024fb306e4de2be54ae1c8bb166c7": {
          "model_module": "@jupyter-widgets/controls",
          "model_name": "HBoxModel",
          "state": {
            "_view_name": "HBoxView",
            "_dom_classes": [],
            "_model_name": "HBoxModel",
            "_view_module": "@jupyter-widgets/controls",
            "_model_module_version": "1.5.0",
            "_view_count": null,
            "_view_module_version": "1.5.0",
            "box_style": "",
            "layout": "IPY_MODEL_648fd7b53a584315aed271064a91dfa6",
            "_model_module": "@jupyter-widgets/controls",
            "children": [
              "IPY_MODEL_85662f1c745748fbb09c60f5fa61acd5",
              "IPY_MODEL_72eb3b253ff747b99d01574952cc283e"
            ]
          }
        },
        "648fd7b53a584315aed271064a91dfa6": {
          "model_module": "@jupyter-widgets/base",
          "model_name": "LayoutModel",
          "state": {
            "_view_name": "LayoutView",
            "grid_template_rows": null,
            "right": null,
            "justify_content": null,
            "_view_module": "@jupyter-widgets/base",
            "overflow": null,
            "_model_module_version": "1.2.0",
            "_view_count": null,
            "flex_flow": null,
            "width": null,
            "min_width": null,
            "border": null,
            "align_items": null,
            "bottom": null,
            "_model_module": "@jupyter-widgets/base",
            "top": null,
            "grid_column": null,
            "overflow_y": null,
            "overflow_x": null,
            "grid_auto_flow": null,
            "grid_area": null,
            "grid_template_columns": null,
            "flex": null,
            "_model_name": "LayoutModel",
            "justify_items": null,
            "grid_row": null,
            "max_height": null,
            "align_content": null,
            "visibility": null,
            "align_self": null,
            "height": null,
            "min_height": null,
            "padding": null,
            "grid_auto_rows": null,
            "grid_gap": null,
            "max_width": null,
            "order": null,
            "_view_module_version": "1.2.0",
            "grid_template_areas": null,
            "object_position": null,
            "object_fit": null,
            "grid_auto_columns": null,
            "margin": null,
            "display": null,
            "left": null
          }
        },
        "85662f1c745748fbb09c60f5fa61acd5": {
          "model_module": "@jupyter-widgets/controls",
          "model_name": "FloatProgressModel",
          "state": {
            "_view_name": "ProgressView",
            "style": "IPY_MODEL_f941a23de6d344a2ba428a42c40bbc92",
            "_dom_classes": [],
            "description": "100%",
            "_model_name": "FloatProgressModel",
            "bar_style": "success",
            "max": 200,
            "_view_module": "@jupyter-widgets/controls",
            "_model_module_version": "1.5.0",
            "value": 200,
            "_view_count": null,
            "_view_module_version": "1.5.0",
            "orientation": "horizontal",
            "min": 0,
            "description_tooltip": null,
            "_model_module": "@jupyter-widgets/controls",
            "layout": "IPY_MODEL_ba1dfa6328684e8595af0a8f2bd754b5"
          }
        },
        "72eb3b253ff747b99d01574952cc283e": {
          "model_module": "@jupyter-widgets/controls",
          "model_name": "HTMLModel",
          "state": {
            "_view_name": "HTMLView",
            "style": "IPY_MODEL_7f7fb4154e364b36be7f37b7594bd102",
            "_dom_classes": [],
            "description": "",
            "_model_name": "HTMLModel",
            "placeholder": "​",
            "_view_module": "@jupyter-widgets/controls",
            "_model_module_version": "1.5.0",
            "value": " 200/200 [00:07&lt;00:00, 25.81it/s]",
            "_view_count": null,
            "_view_module_version": "1.5.0",
            "description_tooltip": null,
            "_model_module": "@jupyter-widgets/controls",
            "layout": "IPY_MODEL_ae3e62511c654996beabaa50407576f4"
          }
        },
        "f941a23de6d344a2ba428a42c40bbc92": {
          "model_module": "@jupyter-widgets/controls",
          "model_name": "ProgressStyleModel",
          "state": {
            "_view_name": "StyleView",
            "_model_name": "ProgressStyleModel",
            "description_width": "initial",
            "_view_module": "@jupyter-widgets/base",
            "_model_module_version": "1.5.0",
            "_view_count": null,
            "_view_module_version": "1.2.0",
            "bar_color": null,
            "_model_module": "@jupyter-widgets/controls"
          }
        },
        "ba1dfa6328684e8595af0a8f2bd754b5": {
          "model_module": "@jupyter-widgets/base",
          "model_name": "LayoutModel",
          "state": {
            "_view_name": "LayoutView",
            "grid_template_rows": null,
            "right": null,
            "justify_content": null,
            "_view_module": "@jupyter-widgets/base",
            "overflow": null,
            "_model_module_version": "1.2.0",
            "_view_count": null,
            "flex_flow": null,
            "width": null,
            "min_width": null,
            "border": null,
            "align_items": null,
            "bottom": null,
            "_model_module": "@jupyter-widgets/base",
            "top": null,
            "grid_column": null,
            "overflow_y": null,
            "overflow_x": null,
            "grid_auto_flow": null,
            "grid_area": null,
            "grid_template_columns": null,
            "flex": null,
            "_model_name": "LayoutModel",
            "justify_items": null,
            "grid_row": null,
            "max_height": null,
            "align_content": null,
            "visibility": null,
            "align_self": null,
            "height": null,
            "min_height": null,
            "padding": null,
            "grid_auto_rows": null,
            "grid_gap": null,
            "max_width": null,
            "order": null,
            "_view_module_version": "1.2.0",
            "grid_template_areas": null,
            "object_position": null,
            "object_fit": null,
            "grid_auto_columns": null,
            "margin": null,
            "display": null,
            "left": null
          }
        },
        "7f7fb4154e364b36be7f37b7594bd102": {
          "model_module": "@jupyter-widgets/controls",
          "model_name": "DescriptionStyleModel",
          "state": {
            "_view_name": "StyleView",
            "_model_name": "DescriptionStyleModel",
            "description_width": "",
            "_view_module": "@jupyter-widgets/base",
            "_model_module_version": "1.5.0",
            "_view_count": null,
            "_view_module_version": "1.2.0",
            "_model_module": "@jupyter-widgets/controls"
          }
        },
        "ae3e62511c654996beabaa50407576f4": {
          "model_module": "@jupyter-widgets/base",
          "model_name": "LayoutModel",
          "state": {
            "_view_name": "LayoutView",
            "grid_template_rows": null,
            "right": null,
            "justify_content": null,
            "_view_module": "@jupyter-widgets/base",
            "overflow": null,
            "_model_module_version": "1.2.0",
            "_view_count": null,
            "flex_flow": null,
            "width": null,
            "min_width": null,
            "border": null,
            "align_items": null,
            "bottom": null,
            "_model_module": "@jupyter-widgets/base",
            "top": null,
            "grid_column": null,
            "overflow_y": null,
            "overflow_x": null,
            "grid_auto_flow": null,
            "grid_area": null,
            "grid_template_columns": null,
            "flex": null,
            "_model_name": "LayoutModel",
            "justify_items": null,
            "grid_row": null,
            "max_height": null,
            "align_content": null,
            "visibility": null,
            "align_self": null,
            "height": null,
            "min_height": null,
            "padding": null,
            "grid_auto_rows": null,
            "grid_gap": null,
            "max_width": null,
            "order": null,
            "_view_module_version": "1.2.0",
            "grid_template_areas": null,
            "object_position": null,
            "object_fit": null,
            "grid_auto_columns": null,
            "margin": null,
            "display": null,
            "left": null
          }
        },
        "41c7baf2db10401498b486227c9c1e79": {
          "model_module": "@jupyter-widgets/controls",
          "model_name": "HBoxModel",
          "state": {
            "_view_name": "HBoxView",
            "_dom_classes": [],
            "_model_name": "HBoxModel",
            "_view_module": "@jupyter-widgets/controls",
            "_model_module_version": "1.5.0",
            "_view_count": null,
            "_view_module_version": "1.5.0",
            "box_style": "",
            "layout": "IPY_MODEL_e13f2c895e4f4fb49a4a6a7cfaf31526",
            "_model_module": "@jupyter-widgets/controls",
            "children": [
              "IPY_MODEL_3747a81762b84835bd9f0b690cd14235",
              "IPY_MODEL_62674630f7a642c3967678e38423ac7f"
            ]
          }
        },
        "e13f2c895e4f4fb49a4a6a7cfaf31526": {
          "model_module": "@jupyter-widgets/base",
          "model_name": "LayoutModel",
          "state": {
            "_view_name": "LayoutView",
            "grid_template_rows": null,
            "right": null,
            "justify_content": null,
            "_view_module": "@jupyter-widgets/base",
            "overflow": null,
            "_model_module_version": "1.2.0",
            "_view_count": null,
            "flex_flow": null,
            "width": null,
            "min_width": null,
            "border": null,
            "align_items": null,
            "bottom": null,
            "_model_module": "@jupyter-widgets/base",
            "top": null,
            "grid_column": null,
            "overflow_y": null,
            "overflow_x": null,
            "grid_auto_flow": null,
            "grid_area": null,
            "grid_template_columns": null,
            "flex": null,
            "_model_name": "LayoutModel",
            "justify_items": null,
            "grid_row": null,
            "max_height": null,
            "align_content": null,
            "visibility": null,
            "align_self": null,
            "height": null,
            "min_height": null,
            "padding": null,
            "grid_auto_rows": null,
            "grid_gap": null,
            "max_width": null,
            "order": null,
            "_view_module_version": "1.2.0",
            "grid_template_areas": null,
            "object_position": null,
            "object_fit": null,
            "grid_auto_columns": null,
            "margin": null,
            "display": null,
            "left": null
          }
        },
        "3747a81762b84835bd9f0b690cd14235": {
          "model_module": "@jupyter-widgets/controls",
          "model_name": "FloatProgressModel",
          "state": {
            "_view_name": "ProgressView",
            "style": "IPY_MODEL_83aa664ba9384032886a16bc37d0da30",
            "_dom_classes": [],
            "description": "100%",
            "_model_name": "FloatProgressModel",
            "bar_style": "success",
            "max": 3,
            "_view_module": "@jupyter-widgets/controls",
            "_model_module_version": "1.5.0",
            "value": 3,
            "_view_count": null,
            "_view_module_version": "1.5.0",
            "orientation": "horizontal",
            "min": 0,
            "description_tooltip": null,
            "_model_module": "@jupyter-widgets/controls",
            "layout": "IPY_MODEL_46caf2fd5fdc4897af0e1abd1a887caa"
          }
        },
        "62674630f7a642c3967678e38423ac7f": {
          "model_module": "@jupyter-widgets/controls",
          "model_name": "HTMLModel",
          "state": {
            "_view_name": "HTMLView",
            "style": "IPY_MODEL_e5bee9ea24c844049ecbe7cd62bd73ec",
            "_dom_classes": [],
            "description": "",
            "_model_name": "HTMLModel",
            "placeholder": "​",
            "_view_module": "@jupyter-widgets/controls",
            "_model_module_version": "1.5.0",
            "value": " 3/3 [03:10&lt;00:00, 63.46s/it]",
            "_view_count": null,
            "_view_module_version": "1.5.0",
            "description_tooltip": null,
            "_model_module": "@jupyter-widgets/controls",
            "layout": "IPY_MODEL_e9c0107b68ee490e977a6ea9c58f7a96"
          }
        },
        "83aa664ba9384032886a16bc37d0da30": {
          "model_module": "@jupyter-widgets/controls",
          "model_name": "ProgressStyleModel",
          "state": {
            "_view_name": "StyleView",
            "_model_name": "ProgressStyleModel",
            "description_width": "initial",
            "_view_module": "@jupyter-widgets/base",
            "_model_module_version": "1.5.0",
            "_view_count": null,
            "_view_module_version": "1.2.0",
            "bar_color": null,
            "_model_module": "@jupyter-widgets/controls"
          }
        },
        "46caf2fd5fdc4897af0e1abd1a887caa": {
          "model_module": "@jupyter-widgets/base",
          "model_name": "LayoutModel",
          "state": {
            "_view_name": "LayoutView",
            "grid_template_rows": null,
            "right": null,
            "justify_content": null,
            "_view_module": "@jupyter-widgets/base",
            "overflow": null,
            "_model_module_version": "1.2.0",
            "_view_count": null,
            "flex_flow": null,
            "width": null,
            "min_width": null,
            "border": null,
            "align_items": null,
            "bottom": null,
            "_model_module": "@jupyter-widgets/base",
            "top": null,
            "grid_column": null,
            "overflow_y": null,
            "overflow_x": null,
            "grid_auto_flow": null,
            "grid_area": null,
            "grid_template_columns": null,
            "flex": null,
            "_model_name": "LayoutModel",
            "justify_items": null,
            "grid_row": null,
            "max_height": null,
            "align_content": null,
            "visibility": null,
            "align_self": null,
            "height": null,
            "min_height": null,
            "padding": null,
            "grid_auto_rows": null,
            "grid_gap": null,
            "max_width": null,
            "order": null,
            "_view_module_version": "1.2.0",
            "grid_template_areas": null,
            "object_position": null,
            "object_fit": null,
            "grid_auto_columns": null,
            "margin": null,
            "display": null,
            "left": null
          }
        },
        "e5bee9ea24c844049ecbe7cd62bd73ec": {
          "model_module": "@jupyter-widgets/controls",
          "model_name": "DescriptionStyleModel",
          "state": {
            "_view_name": "StyleView",
            "_model_name": "DescriptionStyleModel",
            "description_width": "",
            "_view_module": "@jupyter-widgets/base",
            "_model_module_version": "1.5.0",
            "_view_count": null,
            "_view_module_version": "1.2.0",
            "_model_module": "@jupyter-widgets/controls"
          }
        },
        "e9c0107b68ee490e977a6ea9c58f7a96": {
          "model_module": "@jupyter-widgets/base",
          "model_name": "LayoutModel",
          "state": {
            "_view_name": "LayoutView",
            "grid_template_rows": null,
            "right": null,
            "justify_content": null,
            "_view_module": "@jupyter-widgets/base",
            "overflow": null,
            "_model_module_version": "1.2.0",
            "_view_count": null,
            "flex_flow": null,
            "width": null,
            "min_width": null,
            "border": null,
            "align_items": null,
            "bottom": null,
            "_model_module": "@jupyter-widgets/base",
            "top": null,
            "grid_column": null,
            "overflow_y": null,
            "overflow_x": null,
            "grid_auto_flow": null,
            "grid_area": null,
            "grid_template_columns": null,
            "flex": null,
            "_model_name": "LayoutModel",
            "justify_items": null,
            "grid_row": null,
            "max_height": null,
            "align_content": null,
            "visibility": null,
            "align_self": null,
            "height": null,
            "min_height": null,
            "padding": null,
            "grid_auto_rows": null,
            "grid_gap": null,
            "max_width": null,
            "order": null,
            "_view_module_version": "1.2.0",
            "grid_template_areas": null,
            "object_position": null,
            "object_fit": null,
            "grid_auto_columns": null,
            "margin": null,
            "display": null,
            "left": null
          }
        },
        "f53f6ee914984633983a2663a4e80177": {
          "model_module": "@jupyter-widgets/controls",
          "model_name": "HBoxModel",
          "state": {
            "_view_name": "HBoxView",
            "_dom_classes": [],
            "_model_name": "HBoxModel",
            "_view_module": "@jupyter-widgets/controls",
            "_model_module_version": "1.5.0",
            "_view_count": null,
            "_view_module_version": "1.5.0",
            "box_style": "",
            "layout": "IPY_MODEL_c3a7eb68a4aa4948870bd4a2e1e63d7a",
            "_model_module": "@jupyter-widgets/controls",
            "children": [
              "IPY_MODEL_01839d510ceb4d77800c1251801a3b87",
              "IPY_MODEL_e63454c95bcf42ec8f7f7f8d89099ced"
            ]
          }
        },
        "c3a7eb68a4aa4948870bd4a2e1e63d7a": {
          "model_module": "@jupyter-widgets/base",
          "model_name": "LayoutModel",
          "state": {
            "_view_name": "LayoutView",
            "grid_template_rows": null,
            "right": null,
            "justify_content": null,
            "_view_module": "@jupyter-widgets/base",
            "overflow": null,
            "_model_module_version": "1.2.0",
            "_view_count": null,
            "flex_flow": null,
            "width": null,
            "min_width": null,
            "border": null,
            "align_items": null,
            "bottom": null,
            "_model_module": "@jupyter-widgets/base",
            "top": null,
            "grid_column": null,
            "overflow_y": null,
            "overflow_x": null,
            "grid_auto_flow": null,
            "grid_area": null,
            "grid_template_columns": null,
            "flex": null,
            "_model_name": "LayoutModel",
            "justify_items": null,
            "grid_row": null,
            "max_height": null,
            "align_content": null,
            "visibility": null,
            "align_self": null,
            "height": null,
            "min_height": null,
            "padding": null,
            "grid_auto_rows": null,
            "grid_gap": null,
            "max_width": null,
            "order": null,
            "_view_module_version": "1.2.0",
            "grid_template_areas": null,
            "object_position": null,
            "object_fit": null,
            "grid_auto_columns": null,
            "margin": null,
            "display": null,
            "left": null
          }
        },
        "01839d510ceb4d77800c1251801a3b87": {
          "model_module": "@jupyter-widgets/controls",
          "model_name": "FloatProgressModel",
          "state": {
            "_view_name": "ProgressView",
            "style": "IPY_MODEL_fad3bda4bd4c4d24adfb910f2e50789a",
            "_dom_classes": [],
            "description": "100%",
            "_model_name": "FloatProgressModel",
            "bar_style": "success",
            "max": 50,
            "_view_module": "@jupyter-widgets/controls",
            "_model_module_version": "1.5.0",
            "value": 50,
            "_view_count": null,
            "_view_module_version": "1.5.0",
            "orientation": "horizontal",
            "min": 0,
            "description_tooltip": null,
            "_model_module": "@jupyter-widgets/controls",
            "layout": "IPY_MODEL_85105caa213f465fa0b67291ff292e69"
          }
        },
        "e63454c95bcf42ec8f7f7f8d89099ced": {
          "model_module": "@jupyter-widgets/controls",
          "model_name": "HTMLModel",
          "state": {
            "_view_name": "HTMLView",
            "style": "IPY_MODEL_e476d353994d49d89ca5a856b894eaf2",
            "_dom_classes": [],
            "description": "",
            "_model_name": "HTMLModel",
            "placeholder": "​",
            "_view_module": "@jupyter-widgets/controls",
            "_model_module_version": "1.5.0",
            "value": " 50/50 [01:02&lt;00:00,  1.26s/it]",
            "_view_count": null,
            "_view_module_version": "1.5.0",
            "description_tooltip": null,
            "_model_module": "@jupyter-widgets/controls",
            "layout": "IPY_MODEL_8b28c8dd324c44e5a8ed95efaad0be01"
          }
        },
        "fad3bda4bd4c4d24adfb910f2e50789a": {
          "model_module": "@jupyter-widgets/controls",
          "model_name": "ProgressStyleModel",
          "state": {
            "_view_name": "StyleView",
            "_model_name": "ProgressStyleModel",
            "description_width": "initial",
            "_view_module": "@jupyter-widgets/base",
            "_model_module_version": "1.5.0",
            "_view_count": null,
            "_view_module_version": "1.2.0",
            "bar_color": null,
            "_model_module": "@jupyter-widgets/controls"
          }
        },
        "85105caa213f465fa0b67291ff292e69": {
          "model_module": "@jupyter-widgets/base",
          "model_name": "LayoutModel",
          "state": {
            "_view_name": "LayoutView",
            "grid_template_rows": null,
            "right": null,
            "justify_content": null,
            "_view_module": "@jupyter-widgets/base",
            "overflow": null,
            "_model_module_version": "1.2.0",
            "_view_count": null,
            "flex_flow": null,
            "width": null,
            "min_width": null,
            "border": null,
            "align_items": null,
            "bottom": null,
            "_model_module": "@jupyter-widgets/base",
            "top": null,
            "grid_column": null,
            "overflow_y": null,
            "overflow_x": null,
            "grid_auto_flow": null,
            "grid_area": null,
            "grid_template_columns": null,
            "flex": null,
            "_model_name": "LayoutModel",
            "justify_items": null,
            "grid_row": null,
            "max_height": null,
            "align_content": null,
            "visibility": null,
            "align_self": null,
            "height": null,
            "min_height": null,
            "padding": null,
            "grid_auto_rows": null,
            "grid_gap": null,
            "max_width": null,
            "order": null,
            "_view_module_version": "1.2.0",
            "grid_template_areas": null,
            "object_position": null,
            "object_fit": null,
            "grid_auto_columns": null,
            "margin": null,
            "display": null,
            "left": null
          }
        },
        "e476d353994d49d89ca5a856b894eaf2": {
          "model_module": "@jupyter-widgets/controls",
          "model_name": "DescriptionStyleModel",
          "state": {
            "_view_name": "StyleView",
            "_model_name": "DescriptionStyleModel",
            "description_width": "",
            "_view_module": "@jupyter-widgets/base",
            "_model_module_version": "1.5.0",
            "_view_count": null,
            "_view_module_version": "1.2.0",
            "_model_module": "@jupyter-widgets/controls"
          }
        },
        "8b28c8dd324c44e5a8ed95efaad0be01": {
          "model_module": "@jupyter-widgets/base",
          "model_name": "LayoutModel",
          "state": {
            "_view_name": "LayoutView",
            "grid_template_rows": null,
            "right": null,
            "justify_content": null,
            "_view_module": "@jupyter-widgets/base",
            "overflow": null,
            "_model_module_version": "1.2.0",
            "_view_count": null,
            "flex_flow": null,
            "width": null,
            "min_width": null,
            "border": null,
            "align_items": null,
            "bottom": null,
            "_model_module": "@jupyter-widgets/base",
            "top": null,
            "grid_column": null,
            "overflow_y": null,
            "overflow_x": null,
            "grid_auto_flow": null,
            "grid_area": null,
            "grid_template_columns": null,
            "flex": null,
            "_model_name": "LayoutModel",
            "justify_items": null,
            "grid_row": null,
            "max_height": null,
            "align_content": null,
            "visibility": null,
            "align_self": null,
            "height": null,
            "min_height": null,
            "padding": null,
            "grid_auto_rows": null,
            "grid_gap": null,
            "max_width": null,
            "order": null,
            "_view_module_version": "1.2.0",
            "grid_template_areas": null,
            "object_position": null,
            "object_fit": null,
            "grid_auto_columns": null,
            "margin": null,
            "display": null,
            "left": null
          }
        },
        "bdc577a29ef3488a9e3fc989214c958e": {
          "model_module": "@jupyter-widgets/controls",
          "model_name": "HBoxModel",
          "state": {
            "_view_name": "HBoxView",
            "_dom_classes": [],
            "_model_name": "HBoxModel",
            "_view_module": "@jupyter-widgets/controls",
            "_model_module_version": "1.5.0",
            "_view_count": null,
            "_view_module_version": "1.5.0",
            "box_style": "",
            "layout": "IPY_MODEL_6ce1495de28144f0b71f63d9e3bdcfdb",
            "_model_module": "@jupyter-widgets/controls",
            "children": [
              "IPY_MODEL_1de62feaecfa46b2bad1a2a255cd8786",
              "IPY_MODEL_1a4475a52740423b9b1cbe8028d6986a"
            ]
          }
        },
        "6ce1495de28144f0b71f63d9e3bdcfdb": {
          "model_module": "@jupyter-widgets/base",
          "model_name": "LayoutModel",
          "state": {
            "_view_name": "LayoutView",
            "grid_template_rows": null,
            "right": null,
            "justify_content": null,
            "_view_module": "@jupyter-widgets/base",
            "overflow": null,
            "_model_module_version": "1.2.0",
            "_view_count": null,
            "flex_flow": null,
            "width": null,
            "min_width": null,
            "border": null,
            "align_items": null,
            "bottom": null,
            "_model_module": "@jupyter-widgets/base",
            "top": null,
            "grid_column": null,
            "overflow_y": null,
            "overflow_x": null,
            "grid_auto_flow": null,
            "grid_area": null,
            "grid_template_columns": null,
            "flex": null,
            "_model_name": "LayoutModel",
            "justify_items": null,
            "grid_row": null,
            "max_height": null,
            "align_content": null,
            "visibility": null,
            "align_self": null,
            "height": null,
            "min_height": null,
            "padding": null,
            "grid_auto_rows": null,
            "grid_gap": null,
            "max_width": null,
            "order": null,
            "_view_module_version": "1.2.0",
            "grid_template_areas": null,
            "object_position": null,
            "object_fit": null,
            "grid_auto_columns": null,
            "margin": null,
            "display": null,
            "left": null
          }
        },
        "1de62feaecfa46b2bad1a2a255cd8786": {
          "model_module": "@jupyter-widgets/controls",
          "model_name": "FloatProgressModel",
          "state": {
            "_view_name": "ProgressView",
            "style": "IPY_MODEL_9024a8cea03d42ed8247420a999baadc",
            "_dom_classes": [],
            "description": "100%",
            "_model_name": "FloatProgressModel",
            "bar_style": "success",
            "max": 50,
            "_view_module": "@jupyter-widgets/controls",
            "_model_module_version": "1.5.0",
            "value": 50,
            "_view_count": null,
            "_view_module_version": "1.5.0",
            "orientation": "horizontal",
            "min": 0,
            "description_tooltip": null,
            "_model_module": "@jupyter-widgets/controls",
            "layout": "IPY_MODEL_473a56a3be0b417780687b806b88b53e"
          }
        },
        "1a4475a52740423b9b1cbe8028d6986a": {
          "model_module": "@jupyter-widgets/controls",
          "model_name": "HTMLModel",
          "state": {
            "_view_name": "HTMLView",
            "style": "IPY_MODEL_9ae82fed853d41eba3b0071e60a02e37",
            "_dom_classes": [],
            "description": "",
            "_model_name": "HTMLModel",
            "placeholder": "​",
            "_view_module": "@jupyter-widgets/controls",
            "_model_module_version": "1.5.0",
            "value": " 50/50 [02:07&lt;00:00,  2.55s/it]",
            "_view_count": null,
            "_view_module_version": "1.5.0",
            "description_tooltip": null,
            "_model_module": "@jupyter-widgets/controls",
            "layout": "IPY_MODEL_d8997498d4a04ec898dec61a436c1c9a"
          }
        },
        "9024a8cea03d42ed8247420a999baadc": {
          "model_module": "@jupyter-widgets/controls",
          "model_name": "ProgressStyleModel",
          "state": {
            "_view_name": "StyleView",
            "_model_name": "ProgressStyleModel",
            "description_width": "initial",
            "_view_module": "@jupyter-widgets/base",
            "_model_module_version": "1.5.0",
            "_view_count": null,
            "_view_module_version": "1.2.0",
            "bar_color": null,
            "_model_module": "@jupyter-widgets/controls"
          }
        },
        "473a56a3be0b417780687b806b88b53e": {
          "model_module": "@jupyter-widgets/base",
          "model_name": "LayoutModel",
          "state": {
            "_view_name": "LayoutView",
            "grid_template_rows": null,
            "right": null,
            "justify_content": null,
            "_view_module": "@jupyter-widgets/base",
            "overflow": null,
            "_model_module_version": "1.2.0",
            "_view_count": null,
            "flex_flow": null,
            "width": null,
            "min_width": null,
            "border": null,
            "align_items": null,
            "bottom": null,
            "_model_module": "@jupyter-widgets/base",
            "top": null,
            "grid_column": null,
            "overflow_y": null,
            "overflow_x": null,
            "grid_auto_flow": null,
            "grid_area": null,
            "grid_template_columns": null,
            "flex": null,
            "_model_name": "LayoutModel",
            "justify_items": null,
            "grid_row": null,
            "max_height": null,
            "align_content": null,
            "visibility": null,
            "align_self": null,
            "height": null,
            "min_height": null,
            "padding": null,
            "grid_auto_rows": null,
            "grid_gap": null,
            "max_width": null,
            "order": null,
            "_view_module_version": "1.2.0",
            "grid_template_areas": null,
            "object_position": null,
            "object_fit": null,
            "grid_auto_columns": null,
            "margin": null,
            "display": null,
            "left": null
          }
        },
        "9ae82fed853d41eba3b0071e60a02e37": {
          "model_module": "@jupyter-widgets/controls",
          "model_name": "DescriptionStyleModel",
          "state": {
            "_view_name": "StyleView",
            "_model_name": "DescriptionStyleModel",
            "description_width": "",
            "_view_module": "@jupyter-widgets/base",
            "_model_module_version": "1.5.0",
            "_view_count": null,
            "_view_module_version": "1.2.0",
            "_model_module": "@jupyter-widgets/controls"
          }
        },
        "d8997498d4a04ec898dec61a436c1c9a": {
          "model_module": "@jupyter-widgets/base",
          "model_name": "LayoutModel",
          "state": {
            "_view_name": "LayoutView",
            "grid_template_rows": null,
            "right": null,
            "justify_content": null,
            "_view_module": "@jupyter-widgets/base",
            "overflow": null,
            "_model_module_version": "1.2.0",
            "_view_count": null,
            "flex_flow": null,
            "width": null,
            "min_width": null,
            "border": null,
            "align_items": null,
            "bottom": null,
            "_model_module": "@jupyter-widgets/base",
            "top": null,
            "grid_column": null,
            "overflow_y": null,
            "overflow_x": null,
            "grid_auto_flow": null,
            "grid_area": null,
            "grid_template_columns": null,
            "flex": null,
            "_model_name": "LayoutModel",
            "justify_items": null,
            "grid_row": null,
            "max_height": null,
            "align_content": null,
            "visibility": null,
            "align_self": null,
            "height": null,
            "min_height": null,
            "padding": null,
            "grid_auto_rows": null,
            "grid_gap": null,
            "max_width": null,
            "order": null,
            "_view_module_version": "1.2.0",
            "grid_template_areas": null,
            "object_position": null,
            "object_fit": null,
            "grid_auto_columns": null,
            "margin": null,
            "display": null,
            "left": null
          }
        },
        "5cdfaef3ebc04a50a36a7c8c7532e765": {
          "model_module": "@jupyter-widgets/controls",
          "model_name": "HBoxModel",
          "state": {
            "_view_name": "HBoxView",
            "_dom_classes": [],
            "_model_name": "HBoxModel",
            "_view_module": "@jupyter-widgets/controls",
            "_model_module_version": "1.5.0",
            "_view_count": null,
            "_view_module_version": "1.5.0",
            "box_style": "",
            "layout": "IPY_MODEL_b039d25d9cb74cd78c15eb2ea96e3aa1",
            "_model_module": "@jupyter-widgets/controls",
            "children": [
              "IPY_MODEL_d521f834df654b85813a8bbc7d497dd4",
              "IPY_MODEL_bf53d700d0824d87ab502153d310ebca"
            ]
          }
        },
        "b039d25d9cb74cd78c15eb2ea96e3aa1": {
          "model_module": "@jupyter-widgets/base",
          "model_name": "LayoutModel",
          "state": {
            "_view_name": "LayoutView",
            "grid_template_rows": null,
            "right": null,
            "justify_content": null,
            "_view_module": "@jupyter-widgets/base",
            "overflow": null,
            "_model_module_version": "1.2.0",
            "_view_count": null,
            "flex_flow": null,
            "width": null,
            "min_width": null,
            "border": null,
            "align_items": null,
            "bottom": null,
            "_model_module": "@jupyter-widgets/base",
            "top": null,
            "grid_column": null,
            "overflow_y": null,
            "overflow_x": null,
            "grid_auto_flow": null,
            "grid_area": null,
            "grid_template_columns": null,
            "flex": null,
            "_model_name": "LayoutModel",
            "justify_items": null,
            "grid_row": null,
            "max_height": null,
            "align_content": null,
            "visibility": null,
            "align_self": null,
            "height": null,
            "min_height": null,
            "padding": null,
            "grid_auto_rows": null,
            "grid_gap": null,
            "max_width": null,
            "order": null,
            "_view_module_version": "1.2.0",
            "grid_template_areas": null,
            "object_position": null,
            "object_fit": null,
            "grid_auto_columns": null,
            "margin": null,
            "display": null,
            "left": null
          }
        },
        "d521f834df654b85813a8bbc7d497dd4": {
          "model_module": "@jupyter-widgets/controls",
          "model_name": "FloatProgressModel",
          "state": {
            "_view_name": "ProgressView",
            "style": "IPY_MODEL_59d0cc75bc74430193e9bb7c0b486f4d",
            "_dom_classes": [],
            "description": "100%",
            "_model_name": "FloatProgressModel",
            "bar_style": "success",
            "max": 50,
            "_view_module": "@jupyter-widgets/controls",
            "_model_module_version": "1.5.0",
            "value": 50,
            "_view_count": null,
            "_view_module_version": "1.5.0",
            "orientation": "horizontal",
            "min": 0,
            "description_tooltip": null,
            "_model_module": "@jupyter-widgets/controls",
            "layout": "IPY_MODEL_3959dfb6f640436395b3834c5c6dbc1a"
          }
        },
        "bf53d700d0824d87ab502153d310ebca": {
          "model_module": "@jupyter-widgets/controls",
          "model_name": "HTMLModel",
          "state": {
            "_view_name": "HTMLView",
            "style": "IPY_MODEL_5266b2cc1c3c469b92eb9c7f1c13054b",
            "_dom_classes": [],
            "description": "",
            "_model_name": "HTMLModel",
            "placeholder": "​",
            "_view_module": "@jupyter-widgets/controls",
            "_model_module_version": "1.5.0",
            "value": " 50/50 [01:04&lt;00:00,  1.29s/it]",
            "_view_count": null,
            "_view_module_version": "1.5.0",
            "description_tooltip": null,
            "_model_module": "@jupyter-widgets/controls",
            "layout": "IPY_MODEL_54467b3999024c999153d1f6403091aa"
          }
        },
        "59d0cc75bc74430193e9bb7c0b486f4d": {
          "model_module": "@jupyter-widgets/controls",
          "model_name": "ProgressStyleModel",
          "state": {
            "_view_name": "StyleView",
            "_model_name": "ProgressStyleModel",
            "description_width": "initial",
            "_view_module": "@jupyter-widgets/base",
            "_model_module_version": "1.5.0",
            "_view_count": null,
            "_view_module_version": "1.2.0",
            "bar_color": null,
            "_model_module": "@jupyter-widgets/controls"
          }
        },
        "3959dfb6f640436395b3834c5c6dbc1a": {
          "model_module": "@jupyter-widgets/base",
          "model_name": "LayoutModel",
          "state": {
            "_view_name": "LayoutView",
            "grid_template_rows": null,
            "right": null,
            "justify_content": null,
            "_view_module": "@jupyter-widgets/base",
            "overflow": null,
            "_model_module_version": "1.2.0",
            "_view_count": null,
            "flex_flow": null,
            "width": null,
            "min_width": null,
            "border": null,
            "align_items": null,
            "bottom": null,
            "_model_module": "@jupyter-widgets/base",
            "top": null,
            "grid_column": null,
            "overflow_y": null,
            "overflow_x": null,
            "grid_auto_flow": null,
            "grid_area": null,
            "grid_template_columns": null,
            "flex": null,
            "_model_name": "LayoutModel",
            "justify_items": null,
            "grid_row": null,
            "max_height": null,
            "align_content": null,
            "visibility": null,
            "align_self": null,
            "height": null,
            "min_height": null,
            "padding": null,
            "grid_auto_rows": null,
            "grid_gap": null,
            "max_width": null,
            "order": null,
            "_view_module_version": "1.2.0",
            "grid_template_areas": null,
            "object_position": null,
            "object_fit": null,
            "grid_auto_columns": null,
            "margin": null,
            "display": null,
            "left": null
          }
        },
        "5266b2cc1c3c469b92eb9c7f1c13054b": {
          "model_module": "@jupyter-widgets/controls",
          "model_name": "DescriptionStyleModel",
          "state": {
            "_view_name": "StyleView",
            "_model_name": "DescriptionStyleModel",
            "description_width": "",
            "_view_module": "@jupyter-widgets/base",
            "_model_module_version": "1.5.0",
            "_view_count": null,
            "_view_module_version": "1.2.0",
            "_model_module": "@jupyter-widgets/controls"
          }
        },
        "54467b3999024c999153d1f6403091aa": {
          "model_module": "@jupyter-widgets/base",
          "model_name": "LayoutModel",
          "state": {
            "_view_name": "LayoutView",
            "grid_template_rows": null,
            "right": null,
            "justify_content": null,
            "_view_module": "@jupyter-widgets/base",
            "overflow": null,
            "_model_module_version": "1.2.0",
            "_view_count": null,
            "flex_flow": null,
            "width": null,
            "min_width": null,
            "border": null,
            "align_items": null,
            "bottom": null,
            "_model_module": "@jupyter-widgets/base",
            "top": null,
            "grid_column": null,
            "overflow_y": null,
            "overflow_x": null,
            "grid_auto_flow": null,
            "grid_area": null,
            "grid_template_columns": null,
            "flex": null,
            "_model_name": "LayoutModel",
            "justify_items": null,
            "grid_row": null,
            "max_height": null,
            "align_content": null,
            "visibility": null,
            "align_self": null,
            "height": null,
            "min_height": null,
            "padding": null,
            "grid_auto_rows": null,
            "grid_gap": null,
            "max_width": null,
            "order": null,
            "_view_module_version": "1.2.0",
            "grid_template_areas": null,
            "object_position": null,
            "object_fit": null,
            "grid_auto_columns": null,
            "margin": null,
            "display": null,
            "left": null
          }
        },
        "d0f00b191d754d98a5c0a09b49e8c9e9": {
          "model_module": "@jupyter-widgets/controls",
          "model_name": "HBoxModel",
          "state": {
            "_view_name": "HBoxView",
            "_dom_classes": [],
            "_model_name": "HBoxModel",
            "_view_module": "@jupyter-widgets/controls",
            "_model_module_version": "1.5.0",
            "_view_count": null,
            "_view_module_version": "1.5.0",
            "box_style": "",
            "layout": "IPY_MODEL_e42cf23fa836429f88cacfdbd8423c41",
            "_model_module": "@jupyter-widgets/controls",
            "children": [
              "IPY_MODEL_71d309e2081149ac8bbe34e1bbc816ba",
              "IPY_MODEL_ce3db0abb6524c3494c92821ac7dda2b"
            ]
          }
        },
        "e42cf23fa836429f88cacfdbd8423c41": {
          "model_module": "@jupyter-widgets/base",
          "model_name": "LayoutModel",
          "state": {
            "_view_name": "LayoutView",
            "grid_template_rows": null,
            "right": null,
            "justify_content": null,
            "_view_module": "@jupyter-widgets/base",
            "overflow": null,
            "_model_module_version": "1.2.0",
            "_view_count": null,
            "flex_flow": null,
            "width": null,
            "min_width": null,
            "border": null,
            "align_items": null,
            "bottom": null,
            "_model_module": "@jupyter-widgets/base",
            "top": null,
            "grid_column": null,
            "overflow_y": null,
            "overflow_x": null,
            "grid_auto_flow": null,
            "grid_area": null,
            "grid_template_columns": null,
            "flex": null,
            "_model_name": "LayoutModel",
            "justify_items": null,
            "grid_row": null,
            "max_height": null,
            "align_content": null,
            "visibility": null,
            "align_self": null,
            "height": null,
            "min_height": null,
            "padding": null,
            "grid_auto_rows": null,
            "grid_gap": null,
            "max_width": null,
            "order": null,
            "_view_module_version": "1.2.0",
            "grid_template_areas": null,
            "object_position": null,
            "object_fit": null,
            "grid_auto_columns": null,
            "margin": null,
            "display": null,
            "left": null
          }
        },
        "71d309e2081149ac8bbe34e1bbc816ba": {
          "model_module": "@jupyter-widgets/controls",
          "model_name": "FloatProgressModel",
          "state": {
            "_view_name": "ProgressView",
            "style": "IPY_MODEL_b6ce5bb15c40420e9d7088134cbf262a",
            "_dom_classes": [],
            "description": "100%",
            "_model_name": "FloatProgressModel",
            "bar_style": "success",
            "max": 3,
            "_view_module": "@jupyter-widgets/controls",
            "_model_module_version": "1.5.0",
            "value": 3,
            "_view_count": null,
            "_view_module_version": "1.5.0",
            "orientation": "horizontal",
            "min": 0,
            "description_tooltip": null,
            "_model_module": "@jupyter-widgets/controls",
            "layout": "IPY_MODEL_fd477e5f79e64694a38040f3175c791f"
          }
        },
        "ce3db0abb6524c3494c92821ac7dda2b": {
          "model_module": "@jupyter-widgets/controls",
          "model_name": "HTMLModel",
          "state": {
            "_view_name": "HTMLView",
            "style": "IPY_MODEL_0c45b530012543be8a7529032a31d490",
            "_dom_classes": [],
            "description": "",
            "_model_name": "HTMLModel",
            "placeholder": "​",
            "_view_module": "@jupyter-widgets/controls",
            "_model_module_version": "1.5.0",
            "value": " 3/3 [04:46&lt;00:00, 95.49s/it]",
            "_view_count": null,
            "_view_module_version": "1.5.0",
            "description_tooltip": null,
            "_model_module": "@jupyter-widgets/controls",
            "layout": "IPY_MODEL_5f702973f15c438b8518b568efeb4583"
          }
        },
        "b6ce5bb15c40420e9d7088134cbf262a": {
          "model_module": "@jupyter-widgets/controls",
          "model_name": "ProgressStyleModel",
          "state": {
            "_view_name": "StyleView",
            "_model_name": "ProgressStyleModel",
            "description_width": "initial",
            "_view_module": "@jupyter-widgets/base",
            "_model_module_version": "1.5.0",
            "_view_count": null,
            "_view_module_version": "1.2.0",
            "bar_color": null,
            "_model_module": "@jupyter-widgets/controls"
          }
        },
        "fd477e5f79e64694a38040f3175c791f": {
          "model_module": "@jupyter-widgets/base",
          "model_name": "LayoutModel",
          "state": {
            "_view_name": "LayoutView",
            "grid_template_rows": null,
            "right": null,
            "justify_content": null,
            "_view_module": "@jupyter-widgets/base",
            "overflow": null,
            "_model_module_version": "1.2.0",
            "_view_count": null,
            "flex_flow": null,
            "width": null,
            "min_width": null,
            "border": null,
            "align_items": null,
            "bottom": null,
            "_model_module": "@jupyter-widgets/base",
            "top": null,
            "grid_column": null,
            "overflow_y": null,
            "overflow_x": null,
            "grid_auto_flow": null,
            "grid_area": null,
            "grid_template_columns": null,
            "flex": null,
            "_model_name": "LayoutModel",
            "justify_items": null,
            "grid_row": null,
            "max_height": null,
            "align_content": null,
            "visibility": null,
            "align_self": null,
            "height": null,
            "min_height": null,
            "padding": null,
            "grid_auto_rows": null,
            "grid_gap": null,
            "max_width": null,
            "order": null,
            "_view_module_version": "1.2.0",
            "grid_template_areas": null,
            "object_position": null,
            "object_fit": null,
            "grid_auto_columns": null,
            "margin": null,
            "display": null,
            "left": null
          }
        },
        "0c45b530012543be8a7529032a31d490": {
          "model_module": "@jupyter-widgets/controls",
          "model_name": "DescriptionStyleModel",
          "state": {
            "_view_name": "StyleView",
            "_model_name": "DescriptionStyleModel",
            "description_width": "",
            "_view_module": "@jupyter-widgets/base",
            "_model_module_version": "1.5.0",
            "_view_count": null,
            "_view_module_version": "1.2.0",
            "_model_module": "@jupyter-widgets/controls"
          }
        },
        "5f702973f15c438b8518b568efeb4583": {
          "model_module": "@jupyter-widgets/base",
          "model_name": "LayoutModel",
          "state": {
            "_view_name": "LayoutView",
            "grid_template_rows": null,
            "right": null,
            "justify_content": null,
            "_view_module": "@jupyter-widgets/base",
            "overflow": null,
            "_model_module_version": "1.2.0",
            "_view_count": null,
            "flex_flow": null,
            "width": null,
            "min_width": null,
            "border": null,
            "align_items": null,
            "bottom": null,
            "_model_module": "@jupyter-widgets/base",
            "top": null,
            "grid_column": null,
            "overflow_y": null,
            "overflow_x": null,
            "grid_auto_flow": null,
            "grid_area": null,
            "grid_template_columns": null,
            "flex": null,
            "_model_name": "LayoutModel",
            "justify_items": null,
            "grid_row": null,
            "max_height": null,
            "align_content": null,
            "visibility": null,
            "align_self": null,
            "height": null,
            "min_height": null,
            "padding": null,
            "grid_auto_rows": null,
            "grid_gap": null,
            "max_width": null,
            "order": null,
            "_view_module_version": "1.2.0",
            "grid_template_areas": null,
            "object_position": null,
            "object_fit": null,
            "grid_auto_columns": null,
            "margin": null,
            "display": null,
            "left": null
          }
        },
        "d0df6cd647944fa28d6ca72a8b74af8b": {
          "model_module": "@jupyter-widgets/controls",
          "model_name": "HBoxModel",
          "state": {
            "_view_name": "HBoxView",
            "_dom_classes": [],
            "_model_name": "HBoxModel",
            "_view_module": "@jupyter-widgets/controls",
            "_model_module_version": "1.5.0",
            "_view_count": null,
            "_view_module_version": "1.5.0",
            "box_style": "",
            "layout": "IPY_MODEL_acf07550af2945938bcad53b0df27c1e",
            "_model_module": "@jupyter-widgets/controls",
            "children": [
              "IPY_MODEL_7d1c8f930e914e52addfdf499dac2e3a",
              "IPY_MODEL_bf0eedfbb7f944e29782f0927ac4b2b7"
            ]
          }
        },
        "acf07550af2945938bcad53b0df27c1e": {
          "model_module": "@jupyter-widgets/base",
          "model_name": "LayoutModel",
          "state": {
            "_view_name": "LayoutView",
            "grid_template_rows": null,
            "right": null,
            "justify_content": null,
            "_view_module": "@jupyter-widgets/base",
            "overflow": null,
            "_model_module_version": "1.2.0",
            "_view_count": null,
            "flex_flow": null,
            "width": null,
            "min_width": null,
            "border": null,
            "align_items": null,
            "bottom": null,
            "_model_module": "@jupyter-widgets/base",
            "top": null,
            "grid_column": null,
            "overflow_y": null,
            "overflow_x": null,
            "grid_auto_flow": null,
            "grid_area": null,
            "grid_template_columns": null,
            "flex": null,
            "_model_name": "LayoutModel",
            "justify_items": null,
            "grid_row": null,
            "max_height": null,
            "align_content": null,
            "visibility": null,
            "align_self": null,
            "height": null,
            "min_height": null,
            "padding": null,
            "grid_auto_rows": null,
            "grid_gap": null,
            "max_width": null,
            "order": null,
            "_view_module_version": "1.2.0",
            "grid_template_areas": null,
            "object_position": null,
            "object_fit": null,
            "grid_auto_columns": null,
            "margin": null,
            "display": null,
            "left": null
          }
        },
        "7d1c8f930e914e52addfdf499dac2e3a": {
          "model_module": "@jupyter-widgets/controls",
          "model_name": "FloatProgressModel",
          "state": {
            "_view_name": "ProgressView",
            "style": "IPY_MODEL_a4aa4d789e95411aad48292bac90e018",
            "_dom_classes": [],
            "description": "100%",
            "_model_name": "FloatProgressModel",
            "bar_style": "success",
            "max": 25,
            "_view_module": "@jupyter-widgets/controls",
            "_model_module_version": "1.5.0",
            "value": 25,
            "_view_count": null,
            "_view_module_version": "1.5.0",
            "orientation": "horizontal",
            "min": 0,
            "description_tooltip": null,
            "_model_module": "@jupyter-widgets/controls",
            "layout": "IPY_MODEL_fce6af385eb44d8c8b3ab227f4ab6ee5"
          }
        },
        "bf0eedfbb7f944e29782f0927ac4b2b7": {
          "model_module": "@jupyter-widgets/controls",
          "model_name": "HTMLModel",
          "state": {
            "_view_name": "HTMLView",
            "style": "IPY_MODEL_db73fc0998b8410eaf647a6cbe3e7e3e",
            "_dom_classes": [],
            "description": "",
            "_model_name": "HTMLModel",
            "placeholder": "​",
            "_view_module": "@jupyter-widgets/controls",
            "_model_module_version": "1.5.0",
            "value": " 25/25 [04:46&lt;00:00, 11.46s/it]",
            "_view_count": null,
            "_view_module_version": "1.5.0",
            "description_tooltip": null,
            "_model_module": "@jupyter-widgets/controls",
            "layout": "IPY_MODEL_f70a2eaa15764c889e7d2619907c04ef"
          }
        },
        "a4aa4d789e95411aad48292bac90e018": {
          "model_module": "@jupyter-widgets/controls",
          "model_name": "ProgressStyleModel",
          "state": {
            "_view_name": "StyleView",
            "_model_name": "ProgressStyleModel",
            "description_width": "initial",
            "_view_module": "@jupyter-widgets/base",
            "_model_module_version": "1.5.0",
            "_view_count": null,
            "_view_module_version": "1.2.0",
            "bar_color": null,
            "_model_module": "@jupyter-widgets/controls"
          }
        },
        "fce6af385eb44d8c8b3ab227f4ab6ee5": {
          "model_module": "@jupyter-widgets/base",
          "model_name": "LayoutModel",
          "state": {
            "_view_name": "LayoutView",
            "grid_template_rows": null,
            "right": null,
            "justify_content": null,
            "_view_module": "@jupyter-widgets/base",
            "overflow": null,
            "_model_module_version": "1.2.0",
            "_view_count": null,
            "flex_flow": null,
            "width": null,
            "min_width": null,
            "border": null,
            "align_items": null,
            "bottom": null,
            "_model_module": "@jupyter-widgets/base",
            "top": null,
            "grid_column": null,
            "overflow_y": null,
            "overflow_x": null,
            "grid_auto_flow": null,
            "grid_area": null,
            "grid_template_columns": null,
            "flex": null,
            "_model_name": "LayoutModel",
            "justify_items": null,
            "grid_row": null,
            "max_height": null,
            "align_content": null,
            "visibility": null,
            "align_self": null,
            "height": null,
            "min_height": null,
            "padding": null,
            "grid_auto_rows": null,
            "grid_gap": null,
            "max_width": null,
            "order": null,
            "_view_module_version": "1.2.0",
            "grid_template_areas": null,
            "object_position": null,
            "object_fit": null,
            "grid_auto_columns": null,
            "margin": null,
            "display": null,
            "left": null
          }
        },
        "db73fc0998b8410eaf647a6cbe3e7e3e": {
          "model_module": "@jupyter-widgets/controls",
          "model_name": "DescriptionStyleModel",
          "state": {
            "_view_name": "StyleView",
            "_model_name": "DescriptionStyleModel",
            "description_width": "",
            "_view_module": "@jupyter-widgets/base",
            "_model_module_version": "1.5.0",
            "_view_count": null,
            "_view_module_version": "1.2.0",
            "_model_module": "@jupyter-widgets/controls"
          }
        },
        "f70a2eaa15764c889e7d2619907c04ef": {
          "model_module": "@jupyter-widgets/base",
          "model_name": "LayoutModel",
          "state": {
            "_view_name": "LayoutView",
            "grid_template_rows": null,
            "right": null,
            "justify_content": null,
            "_view_module": "@jupyter-widgets/base",
            "overflow": null,
            "_model_module_version": "1.2.0",
            "_view_count": null,
            "flex_flow": null,
            "width": null,
            "min_width": null,
            "border": null,
            "align_items": null,
            "bottom": null,
            "_model_module": "@jupyter-widgets/base",
            "top": null,
            "grid_column": null,
            "overflow_y": null,
            "overflow_x": null,
            "grid_auto_flow": null,
            "grid_area": null,
            "grid_template_columns": null,
            "flex": null,
            "_model_name": "LayoutModel",
            "justify_items": null,
            "grid_row": null,
            "max_height": null,
            "align_content": null,
            "visibility": null,
            "align_self": null,
            "height": null,
            "min_height": null,
            "padding": null,
            "grid_auto_rows": null,
            "grid_gap": null,
            "max_width": null,
            "order": null,
            "_view_module_version": "1.2.0",
            "grid_template_areas": null,
            "object_position": null,
            "object_fit": null,
            "grid_auto_columns": null,
            "margin": null,
            "display": null,
            "left": null
          }
        },
        "dc7e698932ec410c9d4da39ba5e33541": {
          "model_module": "@jupyter-widgets/controls",
          "model_name": "HBoxModel",
          "state": {
            "_view_name": "HBoxView",
            "_dom_classes": [],
            "_model_name": "HBoxModel",
            "_view_module": "@jupyter-widgets/controls",
            "_model_module_version": "1.5.0",
            "_view_count": null,
            "_view_module_version": "1.5.0",
            "box_style": "",
            "layout": "IPY_MODEL_78cfdb99a50d4b7c970c1c3793b89bac",
            "_model_module": "@jupyter-widgets/controls",
            "children": [
              "IPY_MODEL_a62684f1a3c745c690b4d5fed208775a",
              "IPY_MODEL_16d56c3b54924adc9991aa166df9958d"
            ]
          }
        },
        "78cfdb99a50d4b7c970c1c3793b89bac": {
          "model_module": "@jupyter-widgets/base",
          "model_name": "LayoutModel",
          "state": {
            "_view_name": "LayoutView",
            "grid_template_rows": null,
            "right": null,
            "justify_content": null,
            "_view_module": "@jupyter-widgets/base",
            "overflow": null,
            "_model_module_version": "1.2.0",
            "_view_count": null,
            "flex_flow": null,
            "width": null,
            "min_width": null,
            "border": null,
            "align_items": null,
            "bottom": null,
            "_model_module": "@jupyter-widgets/base",
            "top": null,
            "grid_column": null,
            "overflow_y": null,
            "overflow_x": null,
            "grid_auto_flow": null,
            "grid_area": null,
            "grid_template_columns": null,
            "flex": null,
            "_model_name": "LayoutModel",
            "justify_items": null,
            "grid_row": null,
            "max_height": null,
            "align_content": null,
            "visibility": null,
            "align_self": null,
            "height": null,
            "min_height": null,
            "padding": null,
            "grid_auto_rows": null,
            "grid_gap": null,
            "max_width": null,
            "order": null,
            "_view_module_version": "1.2.0",
            "grid_template_areas": null,
            "object_position": null,
            "object_fit": null,
            "grid_auto_columns": null,
            "margin": null,
            "display": null,
            "left": null
          }
        },
        "a62684f1a3c745c690b4d5fed208775a": {
          "model_module": "@jupyter-widgets/controls",
          "model_name": "FloatProgressModel",
          "state": {
            "_view_name": "ProgressView",
            "style": "IPY_MODEL_df334f09b83e4df0af1fc7389da98446",
            "_dom_classes": [],
            "description": "100%",
            "_model_name": "FloatProgressModel",
            "bar_style": "success",
            "max": 75,
            "_view_module": "@jupyter-widgets/controls",
            "_model_module_version": "1.5.0",
            "value": 75,
            "_view_count": null,
            "_view_module_version": "1.5.0",
            "orientation": "horizontal",
            "min": 0,
            "description_tooltip": null,
            "_model_module": "@jupyter-widgets/controls",
            "layout": "IPY_MODEL_e27d2640a15f44fbb1c02b7e3330731d"
          }
        },
        "16d56c3b54924adc9991aa166df9958d": {
          "model_module": "@jupyter-widgets/controls",
          "model_name": "HTMLModel",
          "state": {
            "_view_name": "HTMLView",
            "style": "IPY_MODEL_423444a475c24e7fb211913fc1413d58",
            "_dom_classes": [],
            "description": "",
            "_model_name": "HTMLModel",
            "placeholder": "​",
            "_view_module": "@jupyter-widgets/controls",
            "_model_module_version": "1.5.0",
            "value": " 75/75 [04:14&lt;00:00,  3.39s/it]",
            "_view_count": null,
            "_view_module_version": "1.5.0",
            "description_tooltip": null,
            "_model_module": "@jupyter-widgets/controls",
            "layout": "IPY_MODEL_95dbd7fb534e408fbeb8627646fae92d"
          }
        },
        "df334f09b83e4df0af1fc7389da98446": {
          "model_module": "@jupyter-widgets/controls",
          "model_name": "ProgressStyleModel",
          "state": {
            "_view_name": "StyleView",
            "_model_name": "ProgressStyleModel",
            "description_width": "initial",
            "_view_module": "@jupyter-widgets/base",
            "_model_module_version": "1.5.0",
            "_view_count": null,
            "_view_module_version": "1.2.0",
            "bar_color": null,
            "_model_module": "@jupyter-widgets/controls"
          }
        },
        "e27d2640a15f44fbb1c02b7e3330731d": {
          "model_module": "@jupyter-widgets/base",
          "model_name": "LayoutModel",
          "state": {
            "_view_name": "LayoutView",
            "grid_template_rows": null,
            "right": null,
            "justify_content": null,
            "_view_module": "@jupyter-widgets/base",
            "overflow": null,
            "_model_module_version": "1.2.0",
            "_view_count": null,
            "flex_flow": null,
            "width": null,
            "min_width": null,
            "border": null,
            "align_items": null,
            "bottom": null,
            "_model_module": "@jupyter-widgets/base",
            "top": null,
            "grid_column": null,
            "overflow_y": null,
            "overflow_x": null,
            "grid_auto_flow": null,
            "grid_area": null,
            "grid_template_columns": null,
            "flex": null,
            "_model_name": "LayoutModel",
            "justify_items": null,
            "grid_row": null,
            "max_height": null,
            "align_content": null,
            "visibility": null,
            "align_self": null,
            "height": null,
            "min_height": null,
            "padding": null,
            "grid_auto_rows": null,
            "grid_gap": null,
            "max_width": null,
            "order": null,
            "_view_module_version": "1.2.0",
            "grid_template_areas": null,
            "object_position": null,
            "object_fit": null,
            "grid_auto_columns": null,
            "margin": null,
            "display": null,
            "left": null
          }
        },
        "423444a475c24e7fb211913fc1413d58": {
          "model_module": "@jupyter-widgets/controls",
          "model_name": "DescriptionStyleModel",
          "state": {
            "_view_name": "StyleView",
            "_model_name": "DescriptionStyleModel",
            "description_width": "",
            "_view_module": "@jupyter-widgets/base",
            "_model_module_version": "1.5.0",
            "_view_count": null,
            "_view_module_version": "1.2.0",
            "_model_module": "@jupyter-widgets/controls"
          }
        },
        "95dbd7fb534e408fbeb8627646fae92d": {
          "model_module": "@jupyter-widgets/base",
          "model_name": "LayoutModel",
          "state": {
            "_view_name": "LayoutView",
            "grid_template_rows": null,
            "right": null,
            "justify_content": null,
            "_view_module": "@jupyter-widgets/base",
            "overflow": null,
            "_model_module_version": "1.2.0",
            "_view_count": null,
            "flex_flow": null,
            "width": null,
            "min_width": null,
            "border": null,
            "align_items": null,
            "bottom": null,
            "_model_module": "@jupyter-widgets/base",
            "top": null,
            "grid_column": null,
            "overflow_y": null,
            "overflow_x": null,
            "grid_auto_flow": null,
            "grid_area": null,
            "grid_template_columns": null,
            "flex": null,
            "_model_name": "LayoutModel",
            "justify_items": null,
            "grid_row": null,
            "max_height": null,
            "align_content": null,
            "visibility": null,
            "align_self": null,
            "height": null,
            "min_height": null,
            "padding": null,
            "grid_auto_rows": null,
            "grid_gap": null,
            "max_width": null,
            "order": null,
            "_view_module_version": "1.2.0",
            "grid_template_areas": null,
            "object_position": null,
            "object_fit": null,
            "grid_auto_columns": null,
            "margin": null,
            "display": null,
            "left": null
          }
        },
        "4aab02db269b43bcbc78031455ca4433": {
          "model_module": "@jupyter-widgets/controls",
          "model_name": "HBoxModel",
          "state": {
            "_view_name": "HBoxView",
            "_dom_classes": [],
            "_model_name": "HBoxModel",
            "_view_module": "@jupyter-widgets/controls",
            "_model_module_version": "1.5.0",
            "_view_count": null,
            "_view_module_version": "1.5.0",
            "box_style": "",
            "layout": "IPY_MODEL_bd306ca6015a46e1868bc52575164b4c",
            "_model_module": "@jupyter-widgets/controls",
            "children": [
              "IPY_MODEL_9bab4a59ffd349baa1e9347b379e940c",
              "IPY_MODEL_e63b3a6d713345a88463d334e87a1220"
            ]
          }
        },
        "bd306ca6015a46e1868bc52575164b4c": {
          "model_module": "@jupyter-widgets/base",
          "model_name": "LayoutModel",
          "state": {
            "_view_name": "LayoutView",
            "grid_template_rows": null,
            "right": null,
            "justify_content": null,
            "_view_module": "@jupyter-widgets/base",
            "overflow": null,
            "_model_module_version": "1.2.0",
            "_view_count": null,
            "flex_flow": null,
            "width": null,
            "min_width": null,
            "border": null,
            "align_items": null,
            "bottom": null,
            "_model_module": "@jupyter-widgets/base",
            "top": null,
            "grid_column": null,
            "overflow_y": null,
            "overflow_x": null,
            "grid_auto_flow": null,
            "grid_area": null,
            "grid_template_columns": null,
            "flex": null,
            "_model_name": "LayoutModel",
            "justify_items": null,
            "grid_row": null,
            "max_height": null,
            "align_content": null,
            "visibility": null,
            "align_self": null,
            "height": null,
            "min_height": null,
            "padding": null,
            "grid_auto_rows": null,
            "grid_gap": null,
            "max_width": null,
            "order": null,
            "_view_module_version": "1.2.0",
            "grid_template_areas": null,
            "object_position": null,
            "object_fit": null,
            "grid_auto_columns": null,
            "margin": null,
            "display": null,
            "left": null
          }
        },
        "9bab4a59ffd349baa1e9347b379e940c": {
          "model_module": "@jupyter-widgets/controls",
          "model_name": "FloatProgressModel",
          "state": {
            "_view_name": "ProgressView",
            "style": "IPY_MODEL_10daa9e99dd24441a268282d8c2771e5",
            "_dom_classes": [],
            "description": "100%",
            "_model_name": "FloatProgressModel",
            "bar_style": "success",
            "max": 125,
            "_view_module": "@jupyter-widgets/controls",
            "_model_module_version": "1.5.0",
            "value": 125,
            "_view_count": null,
            "_view_module_version": "1.5.0",
            "orientation": "horizontal",
            "min": 0,
            "description_tooltip": null,
            "_model_module": "@jupyter-widgets/controls",
            "layout": "IPY_MODEL_2508f35e5f5146c0a44cb29e6421168a"
          }
        },
        "e63b3a6d713345a88463d334e87a1220": {
          "model_module": "@jupyter-widgets/controls",
          "model_name": "HTMLModel",
          "state": {
            "_view_name": "HTMLView",
            "style": "IPY_MODEL_e29b0b60e6af4a94b0dcf510eab14d1e",
            "_dom_classes": [],
            "description": "",
            "_model_name": "HTMLModel",
            "placeholder": "​",
            "_view_module": "@jupyter-widgets/controls",
            "_model_module_version": "1.5.0",
            "value": " 125/125 [02:39&lt;00:00,  1.27s/it]",
            "_view_count": null,
            "_view_module_version": "1.5.0",
            "description_tooltip": null,
            "_model_module": "@jupyter-widgets/controls",
            "layout": "IPY_MODEL_f36fe0b328434f769ed4ce370894d8f1"
          }
        },
        "10daa9e99dd24441a268282d8c2771e5": {
          "model_module": "@jupyter-widgets/controls",
          "model_name": "ProgressStyleModel",
          "state": {
            "_view_name": "StyleView",
            "_model_name": "ProgressStyleModel",
            "description_width": "initial",
            "_view_module": "@jupyter-widgets/base",
            "_model_module_version": "1.5.0",
            "_view_count": null,
            "_view_module_version": "1.2.0",
            "bar_color": null,
            "_model_module": "@jupyter-widgets/controls"
          }
        },
        "2508f35e5f5146c0a44cb29e6421168a": {
          "model_module": "@jupyter-widgets/base",
          "model_name": "LayoutModel",
          "state": {
            "_view_name": "LayoutView",
            "grid_template_rows": null,
            "right": null,
            "justify_content": null,
            "_view_module": "@jupyter-widgets/base",
            "overflow": null,
            "_model_module_version": "1.2.0",
            "_view_count": null,
            "flex_flow": null,
            "width": null,
            "min_width": null,
            "border": null,
            "align_items": null,
            "bottom": null,
            "_model_module": "@jupyter-widgets/base",
            "top": null,
            "grid_column": null,
            "overflow_y": null,
            "overflow_x": null,
            "grid_auto_flow": null,
            "grid_area": null,
            "grid_template_columns": null,
            "flex": null,
            "_model_name": "LayoutModel",
            "justify_items": null,
            "grid_row": null,
            "max_height": null,
            "align_content": null,
            "visibility": null,
            "align_self": null,
            "height": null,
            "min_height": null,
            "padding": null,
            "grid_auto_rows": null,
            "grid_gap": null,
            "max_width": null,
            "order": null,
            "_view_module_version": "1.2.0",
            "grid_template_areas": null,
            "object_position": null,
            "object_fit": null,
            "grid_auto_columns": null,
            "margin": null,
            "display": null,
            "left": null
          }
        },
        "e29b0b60e6af4a94b0dcf510eab14d1e": {
          "model_module": "@jupyter-widgets/controls",
          "model_name": "DescriptionStyleModel",
          "state": {
            "_view_name": "StyleView",
            "_model_name": "DescriptionStyleModel",
            "description_width": "",
            "_view_module": "@jupyter-widgets/base",
            "_model_module_version": "1.5.0",
            "_view_count": null,
            "_view_module_version": "1.2.0",
            "_model_module": "@jupyter-widgets/controls"
          }
        },
        "f36fe0b328434f769ed4ce370894d8f1": {
          "model_module": "@jupyter-widgets/base",
          "model_name": "LayoutModel",
          "state": {
            "_view_name": "LayoutView",
            "grid_template_rows": null,
            "right": null,
            "justify_content": null,
            "_view_module": "@jupyter-widgets/base",
            "overflow": null,
            "_model_module_version": "1.2.0",
            "_view_count": null,
            "flex_flow": null,
            "width": null,
            "min_width": null,
            "border": null,
            "align_items": null,
            "bottom": null,
            "_model_module": "@jupyter-widgets/base",
            "top": null,
            "grid_column": null,
            "overflow_y": null,
            "overflow_x": null,
            "grid_auto_flow": null,
            "grid_area": null,
            "grid_template_columns": null,
            "flex": null,
            "_model_name": "LayoutModel",
            "justify_items": null,
            "grid_row": null,
            "max_height": null,
            "align_content": null,
            "visibility": null,
            "align_self": null,
            "height": null,
            "min_height": null,
            "padding": null,
            "grid_auto_rows": null,
            "grid_gap": null,
            "max_width": null,
            "order": null,
            "_view_module_version": "1.2.0",
            "grid_template_areas": null,
            "object_position": null,
            "object_fit": null,
            "grid_auto_columns": null,
            "margin": null,
            "display": null,
            "left": null
          }
        },
        "3d4690bf19ce4b69b15f17b47504f081": {
          "model_module": "@jupyter-widgets/controls",
          "model_name": "HBoxModel",
          "state": {
            "_view_name": "HBoxView",
            "_dom_classes": [],
            "_model_name": "HBoxModel",
            "_view_module": "@jupyter-widgets/controls",
            "_model_module_version": "1.5.0",
            "_view_count": null,
            "_view_module_version": "1.5.0",
            "box_style": "",
            "layout": "IPY_MODEL_51f3d26939ca469f94aacb739247f5e1",
            "_model_module": "@jupyter-widgets/controls",
            "children": [
              "IPY_MODEL_03b3e747a822471fa3af951bf3bdd51b",
              "IPY_MODEL_2174a7bef3fd44c39809b665d37b2aa8"
            ]
          }
        },
        "51f3d26939ca469f94aacb739247f5e1": {
          "model_module": "@jupyter-widgets/base",
          "model_name": "LayoutModel",
          "state": {
            "_view_name": "LayoutView",
            "grid_template_rows": null,
            "right": null,
            "justify_content": null,
            "_view_module": "@jupyter-widgets/base",
            "overflow": null,
            "_model_module_version": "1.2.0",
            "_view_count": null,
            "flex_flow": null,
            "width": null,
            "min_width": null,
            "border": null,
            "align_items": null,
            "bottom": null,
            "_model_module": "@jupyter-widgets/base",
            "top": null,
            "grid_column": null,
            "overflow_y": null,
            "overflow_x": null,
            "grid_auto_flow": null,
            "grid_area": null,
            "grid_template_columns": null,
            "flex": null,
            "_model_name": "LayoutModel",
            "justify_items": null,
            "grid_row": null,
            "max_height": null,
            "align_content": null,
            "visibility": null,
            "align_self": null,
            "height": null,
            "min_height": null,
            "padding": null,
            "grid_auto_rows": null,
            "grid_gap": null,
            "max_width": null,
            "order": null,
            "_view_module_version": "1.2.0",
            "grid_template_areas": null,
            "object_position": null,
            "object_fit": null,
            "grid_auto_columns": null,
            "margin": null,
            "display": null,
            "left": null
          }
        },
        "03b3e747a822471fa3af951bf3bdd51b": {
          "model_module": "@jupyter-widgets/controls",
          "model_name": "FloatProgressModel",
          "state": {
            "_view_name": "ProgressView",
            "style": "IPY_MODEL_1974454e36cb4dda9e103710be431238",
            "_dom_classes": [],
            "description": "100%",
            "_model_name": "FloatProgressModel",
            "bar_style": "success",
            "max": 125,
            "_view_module": "@jupyter-widgets/controls",
            "_model_module_version": "1.5.0",
            "value": 125,
            "_view_count": null,
            "_view_module_version": "1.5.0",
            "orientation": "horizontal",
            "min": 0,
            "description_tooltip": null,
            "_model_module": "@jupyter-widgets/controls",
            "layout": "IPY_MODEL_4ea537bbf3c74dc4b1d5957858baf8e3"
          }
        },
        "2174a7bef3fd44c39809b665d37b2aa8": {
          "model_module": "@jupyter-widgets/controls",
          "model_name": "HTMLModel",
          "state": {
            "_view_name": "HTMLView",
            "style": "IPY_MODEL_75142ecef85d49f6995c17f860bb63cc",
            "_dom_classes": [],
            "description": "",
            "_model_name": "HTMLModel",
            "placeholder": "​",
            "_view_module": "@jupyter-widgets/controls",
            "_model_module_version": "1.5.0",
            "value": " 125/125 [02:36&lt;00:00,  1.26s/it]",
            "_view_count": null,
            "_view_module_version": "1.5.0",
            "description_tooltip": null,
            "_model_module": "@jupyter-widgets/controls",
            "layout": "IPY_MODEL_f536065a2b3948c4813a1ed3bc7324ee"
          }
        },
        "1974454e36cb4dda9e103710be431238": {
          "model_module": "@jupyter-widgets/controls",
          "model_name": "ProgressStyleModel",
          "state": {
            "_view_name": "StyleView",
            "_model_name": "ProgressStyleModel",
            "description_width": "initial",
            "_view_module": "@jupyter-widgets/base",
            "_model_module_version": "1.5.0",
            "_view_count": null,
            "_view_module_version": "1.2.0",
            "bar_color": null,
            "_model_module": "@jupyter-widgets/controls"
          }
        },
        "4ea537bbf3c74dc4b1d5957858baf8e3": {
          "model_module": "@jupyter-widgets/base",
          "model_name": "LayoutModel",
          "state": {
            "_view_name": "LayoutView",
            "grid_template_rows": null,
            "right": null,
            "justify_content": null,
            "_view_module": "@jupyter-widgets/base",
            "overflow": null,
            "_model_module_version": "1.2.0",
            "_view_count": null,
            "flex_flow": null,
            "width": null,
            "min_width": null,
            "border": null,
            "align_items": null,
            "bottom": null,
            "_model_module": "@jupyter-widgets/base",
            "top": null,
            "grid_column": null,
            "overflow_y": null,
            "overflow_x": null,
            "grid_auto_flow": null,
            "grid_area": null,
            "grid_template_columns": null,
            "flex": null,
            "_model_name": "LayoutModel",
            "justify_items": null,
            "grid_row": null,
            "max_height": null,
            "align_content": null,
            "visibility": null,
            "align_self": null,
            "height": null,
            "min_height": null,
            "padding": null,
            "grid_auto_rows": null,
            "grid_gap": null,
            "max_width": null,
            "order": null,
            "_view_module_version": "1.2.0",
            "grid_template_areas": null,
            "object_position": null,
            "object_fit": null,
            "grid_auto_columns": null,
            "margin": null,
            "display": null,
            "left": null
          }
        },
        "75142ecef85d49f6995c17f860bb63cc": {
          "model_module": "@jupyter-widgets/controls",
          "model_name": "DescriptionStyleModel",
          "state": {
            "_view_name": "StyleView",
            "_model_name": "DescriptionStyleModel",
            "description_width": "",
            "_view_module": "@jupyter-widgets/base",
            "_model_module_version": "1.5.0",
            "_view_count": null,
            "_view_module_version": "1.2.0",
            "_model_module": "@jupyter-widgets/controls"
          }
        },
        "f536065a2b3948c4813a1ed3bc7324ee": {
          "model_module": "@jupyter-widgets/base",
          "model_name": "LayoutModel",
          "state": {
            "_view_name": "LayoutView",
            "grid_template_rows": null,
            "right": null,
            "justify_content": null,
            "_view_module": "@jupyter-widgets/base",
            "overflow": null,
            "_model_module_version": "1.2.0",
            "_view_count": null,
            "flex_flow": null,
            "width": null,
            "min_width": null,
            "border": null,
            "align_items": null,
            "bottom": null,
            "_model_module": "@jupyter-widgets/base",
            "top": null,
            "grid_column": null,
            "overflow_y": null,
            "overflow_x": null,
            "grid_auto_flow": null,
            "grid_area": null,
            "grid_template_columns": null,
            "flex": null,
            "_model_name": "LayoutModel",
            "justify_items": null,
            "grid_row": null,
            "max_height": null,
            "align_content": null,
            "visibility": null,
            "align_self": null,
            "height": null,
            "min_height": null,
            "padding": null,
            "grid_auto_rows": null,
            "grid_gap": null,
            "max_width": null,
            "order": null,
            "_view_module_version": "1.2.0",
            "grid_template_areas": null,
            "object_position": null,
            "object_fit": null,
            "grid_auto_columns": null,
            "margin": null,
            "display": null,
            "left": null
          }
        }
      }
    }
  },
  "cells": [
    {
      "cell_type": "markdown",
      "metadata": {
        "id": "XTWoCoOLISPB"
      },
      "source": [
        "# Project Phase II: Gender & Speaker Recognition\n",
        "- Hayat Awais Malik (21100016)\n",
        "- Muhammad Junaid (21100025)\n",
        "- Muhammad Sabeeh Rehman (21100186)\n",
        "- Muhammad Shehryaar Sharif (21100146)\n",
        "- Rabeeya Hamid (21100105)"
      ]
    },
    {
      "cell_type": "code",
      "metadata": {
        "id": "3Y2IH2BnT5Kk",
        "colab": {
          "base_uri": "https://localhost:8080/"
        },
        "outputId": "ebc475b9-daae-4d3c-d1d1-d2892b4ec582"
      },
      "source": [
        "!pip install python_speech_features"
      ],
      "execution_count": 1,
      "outputs": [
        {
          "output_type": "stream",
          "text": [
            "Requirement already satisfied: python_speech_features in /usr/local/lib/python3.6/dist-packages (0.6)\n"
          ],
          "name": "stdout"
        }
      ]
    },
    {
      "cell_type": "code",
      "metadata": {
        "id": "bDhcDh3_Zj-n"
      },
      "source": [
        "import python_speech_features as mfcc\n",
        "from scipy.io.wavfile import read\n",
        "import numpy as np\n",
        "import os\n",
        "import matplotlib.pyplot as plt\n",
        "import time\n",
        "from tqdm.notebook import tqdm\n",
        "from sklearn.metrics import accuracy_score,confusion_matrix,classification_report"
      ],
      "execution_count": 2,
      "outputs": []
    },
    {
      "cell_type": "markdown",
      "metadata": {
        "id": "rcPjKnnPI3as"
      },
      "source": [
        "## Downloading Dataset"
      ]
    },
    {
      "cell_type": "code",
      "metadata": {
        "colab": {
          "base_uri": "https://localhost:8080/"
        },
        "id": "b9XiZbT6Ag40",
        "outputId": "1cd24a1b-2d63-411a-9429-a886073c2f13"
      },
      "source": [
        "!gdown --id 1GbfEJ4JnTGthMs4RP5z17BrCQm6YxtEG"
      ],
      "execution_count": 3,
      "outputs": [
        {
          "output_type": "stream",
          "text": [
            "Downloading...\n",
            "From: https://drive.google.com/uc?id=1GbfEJ4JnTGthMs4RP5z17BrCQm6YxtEG\n",
            "To: /content/LUMS_FALL2020_PROJECT_DATA.zip\n",
            "802MB [00:05, 141MB/s]\n"
          ],
          "name": "stdout"
        }
      ]
    },
    {
      "cell_type": "code",
      "metadata": {
        "id": "zamtWUeZTb_n"
      },
      "source": [
        "!unzip /content/LUMS_FALL2020_PROJECT_DATA.zip -d /content/dataset_project"
      ],
      "execution_count": null,
      "outputs": []
    },
    {
      "cell_type": "markdown",
      "metadata": {
        "id": "cvOsibEjTSVE"
      },
      "source": [
        "## File Reading & Feature Extraction"
      ]
    },
    {
      "cell_type": "code",
      "metadata": {
        "id": "MX2wxspwZnj1"
      },
      "source": [
        "# Function to extract audio features\n",
        "def get_MFCC(audio, sr):\n",
        "    features = mfcc.mfcc(audio, sr, 0.025, 0.01, 13, appendEnergy = True)\n",
        "    return np.mean(features, axis=0)"
      ],
      "execution_count": 5,
      "outputs": []
    },
    {
      "cell_type": "code",
      "metadata": {
        "id": "3Epl0hagZ62Z"
      },
      "source": [
        "sr, audio = read('/content/dataset_project/Gender_Recognition/Test/SPK083_M/1.wav')\n",
        "features = get_MFCC(audio, sr)"
      ],
      "execution_count": 6,
      "outputs": []
    },
    {
      "cell_type": "code",
      "metadata": {
        "id": "yn2HkDzOaSIl"
      },
      "source": [
        "Gender_Recognition_path='/content/dataset_project/Gender_Recognition/'\n",
        "Speaker_Recognition_path='/content/dataset_project/Speaker_Recognition/'\n",
        "\n",
        "Train_data_GR=[]\n",
        "Test_data_GR=[]\n",
        "Valid_data_GR=[]\n",
        "\n",
        "labels_Train_data_GR=[]\n",
        "labels_Test_data_GR=[]\n",
        "labels_Valid_data_GR=[]\n",
        "\n",
        "Train_data_SR=[]\n",
        "Test_data_SR=[]\n",
        "Valid_data_SR=[]\n",
        "\n",
        "labels_Train_data_SR=[]\n",
        "labels_Test_data_SR=[]\n",
        "labels_Valid_data_SR=[]\n",
        "\n",
        "Data_types_GR = os.listdir(Gender_Recognition_path)\n",
        "Data_types_SR = os.listdir(Speaker_Recognition_path)\n",
        "\n",
        "train_folder_GR=os.listdir(Gender_Recognition_path+\"/\"+Data_types_GR[2])\n",
        "test_folder_GR=os.listdir(Gender_Recognition_path+\"/\"+Data_types_GR[1])\n",
        "valid_folder_GR=os.listdir(Gender_Recognition_path+\"/\"+Data_types_GR[0])\n",
        "\n",
        "train_folder_SR=os.listdir(Speaker_Recognition_path+\"/\"+Data_types_SR[2])\n",
        "test_folder_SR=os.listdir(Speaker_Recognition_path+\"/\"+Data_types_SR[1])\n",
        "valid_folder_SR=os.listdir(Speaker_Recognition_path+\"/\"+Data_types_SR[0])\n",
        "\n",
        "# print(Data_types_SR)\n",
        "# print(Data_types_GR)\n",
        "\n",
        "#training features for Gender Recognition\n",
        "for folder in train_folder_GR:\n",
        "  if folder[-1] ==\"M\":\n",
        "    [labels_Train_data_GR.append(0) for i in range(10)]\n",
        "  else:\n",
        "    [labels_Train_data_GR.append(1) for i in range(10)]\n",
        "  \n",
        "  vn_folder=os.listdir(Gender_Recognition_path+\"/\"+Data_types_GR[2]+\"/\"+folder)\n",
        "  for vn in vn_folder:\n",
        "    sr, audio = read(Gender_Recognition_path+\"/\"+Data_types_GR[2]+\"/\"+folder+\"/\"+vn)\n",
        "    features = get_MFCC(audio, sr)\n",
        "    # print (features.shape)\n",
        "    Train_data_GR.append(features)\n",
        "\n",
        "#testing features for Gender Recognition\n",
        "for folder in test_folder_GR:\n",
        "  if folder[-1] ==\"M\":\n",
        "    [labels_Test_data_GR.append(0) for i in range(10)]\n",
        "  else:\n",
        "    [labels_Test_data_GR.append(1) for i in range(10)]\n",
        "    \n",
        "  vn_folder=os.listdir(Gender_Recognition_path+\"/\"+Data_types_GR[1]+\"/\"+folder)\n",
        "  for vn in vn_folder:\n",
        "    sr, audio = read(Gender_Recognition_path+\"/\"+Data_types_GR[1]+\"/\"+folder+\"/\"+vn)\n",
        "    features = get_MFCC(audio, sr)\n",
        "    # print (features.shape)\n",
        "    Test_data_GR.append(features)\n",
        "\n",
        "#Validation features for Gender Recognition\n",
        "for folder in valid_folder_GR:\n",
        "  if folder[-1] ==\"M\":\n",
        "    [labels_Valid_data_GR.append(0) for i in range(10)]\n",
        "  else:\n",
        "    [labels_Valid_data_GR.append(1) for i in range(10)]\n",
        "\n",
        "  vn_folder=os.listdir(Gender_Recognition_path+\"/\"+Data_types_GR[0]+\"/\"+folder)\n",
        "  for vn in vn_folder:\n",
        "    sr, audio = read(Gender_Recognition_path+\"/\"+Data_types_GR[0]+\"/\"+folder+\"/\"+vn)\n",
        "    features = get_MFCC(audio, sr)\n",
        "    # print (features.shape)\n",
        "    Valid_data_GR.append(features)\n",
        "\n",
        "\n",
        "#training features for Speaker Recognition\n",
        "for folder in train_folder_SR:\n",
        "  [labels_Train_data_SR.append(int(folder[3:6]) - 1) for i in range(6)]\n",
        "  vn_folder=os.listdir(Speaker_Recognition_path+\"/\"+Data_types_SR[2]+\"/\"+folder)\n",
        "  for vn in vn_folder:\n",
        "    sr, audio = read(Speaker_Recognition_path+\"/\"+Data_types_SR[2]+\"/\"+folder+\"/\"+vn)\n",
        "    features = get_MFCC(audio, sr)\n",
        "    # print (features.shape)\n",
        "    Train_data_SR.append(features)\n",
        "\n",
        "#testing features for Speaker Recognition\n",
        "for folder in test_folder_SR:\n",
        "  [labels_Test_data_SR.append(int(folder[3:6]) - 1) for i in range(2)]\n",
        "  vn_folder=os.listdir(Speaker_Recognition_path+\"/\"+Data_types_SR[1]+\"/\"+folder)\n",
        "  for vn in vn_folder:\n",
        "    sr, audio = read(Speaker_Recognition_path+\"/\"+Data_types_SR[1]+\"/\"+folder+\"/\"+vn)\n",
        "    features = get_MFCC(audio, sr)\n",
        "    # print (features.shape)\n",
        "    Test_data_SR.append(features)\n",
        "\n",
        "#Validation features for Speaker Recognition\n",
        "for folder in valid_folder_SR:\n",
        "  [labels_Valid_data_SR.append(int(folder[3:6]) - 1) for i in range(2)]\n",
        "  vn_folder=os.listdir(Speaker_Recognition_path+\"/\"+Data_types_SR[0]+\"/\"+folder)\n",
        "  for vn in vn_folder:\n",
        "    sr, audio = read(Speaker_Recognition_path+\"/\"+Data_types_SR[0]+\"/\"+folder+\"/\"+vn)\n",
        "    features = get_MFCC(audio, sr)\n",
        "    # print (features.shape)\n",
        "    Valid_data_SR.append(features)\n",
        "\n",
        "\n",
        "Train_data_GR=np.array(Train_data_GR)\n",
        "Train_data_SR=np.array(Train_data_SR)\n",
        "\n",
        "Test_data_GR=np.array(Test_data_GR)\n",
        "Test_data_SR=np.array(Test_data_SR)\n",
        "\n",
        "Valid_data_GR=np.array(Valid_data_GR)\n",
        "Valid_data_SR=np.array(Valid_data_SR)\n",
        "\n",
        "\n",
        "\n",
        "labels_Train_data_GR=np.array(labels_Train_data_GR)\n",
        "labels_Train_data_SR=np.array(labels_Train_data_SR)\n",
        "\n",
        "labels_Test_data_GR=np.array(labels_Test_data_GR)\n",
        "labels_Test_data_SR=np.array(labels_Test_data_SR)\n",
        "\n",
        "labels_Valid_data_GR=np.array(labels_Valid_data_GR)\n",
        "labels_Valid_data_SR=np.array(labels_Valid_data_SR)\n",
        "\n",
        "\n",
        "# train_entries_positive = os.listdir('/content/dataset_ass4/Dataset/train/pos')\n",
        "# test_entries_negative = os.listdir('/content/dataset_ass4/Dataset/test/neg')\n",
        "# test_entries_positive = os.listdir('/content/dataset_ass4/Dataset/test/pos') "
      ],
      "execution_count": 7,
      "outputs": []
    },
    {
      "cell_type": "markdown",
      "metadata": {
        "id": "WakqfqQwJrYA"
      },
      "source": [
        "## Implementation Functions"
      ]
    },
    {
      "cell_type": "markdown",
      "metadata": {
        "id": "7h-fXbcSMNQB"
      },
      "source": [
        "### Helper Functions"
      ]
    },
    {
      "cell_type": "markdown",
      "metadata": {
        "id": "2FcYVcOuPPPc"
      },
      "source": [
        "#### Adding Bias\n",
        "*   Parameter: feature vector; size: m x n-1 matrix\n",
        "*   Returns: feature vector; size: m x n matrix"
      ]
    },
    {
      "cell_type": "code",
      "metadata": {
        "id": "zBC0mZCcPKvI"
      },
      "source": [
        "def append_bias(features):\n",
        "  features = np.insert(features, 0, 1, axis=1)\n",
        "  return features"
      ],
      "execution_count": 8,
      "outputs": []
    },
    {
      "cell_type": "markdown",
      "metadata": {
        "id": "i2C0WayVPh6G"
      },
      "source": [
        "#### Creating weights\n",
        "*   Parameter: scalars n and c\n",
        "*   Returns: weight vector; size: n x c matrix"
      ]
    },
    {
      "cell_type": "code",
      "metadata": {
        "id": "mh5lIEHOPmZX"
      },
      "source": [
        "def making_weights(n, c):\n",
        "  weights = []\n",
        "  for i in range(c):\n",
        "    weights_class = np.ones(n) \n",
        "    weights.append(weights_class)\n",
        "  weights = np.array(weights)\n",
        "  weights = weights.T\n",
        "  return weights"
      ],
      "execution_count": 9,
      "outputs": []
    },
    {
      "cell_type": "markdown",
      "metadata": {
        "id": "rHVGB_GIPrRU"
      },
      "source": [
        "#### Hypothesis Function\n",
        "*   Parameter: feature vector; size: m x n , weight vector; size: n x c\n",
        "*   Returns: weight vector; size: m x c matrix"
      ]
    },
    {
      "cell_type": "code",
      "metadata": {
        "id": "ICSyKbsWPqXH"
      },
      "source": [
        "def h_x(features, weights):\n",
        "  hypothesis_data = np.matmul(features, weights)\n",
        "  return hypothesis_data"
      ],
      "execution_count": 10,
      "outputs": []
    },
    {
      "cell_type": "markdown",
      "metadata": {
        "id": "Lwi5datffVWm"
      },
      "source": [
        "#### Softmax Function\n",
        "\n",
        "*   Parameter: hypothesis data (with bias) size; m x c matrix\n",
        "*   Returns: probability distribution over data; size: m x c matrix\n",
        "\n"
      ]
    },
    {
      "cell_type": "code",
      "metadata": {
        "id": "BLFV3V32d2xi"
      },
      "source": [
        "def soft_max(hyp_data):\n",
        "  shape = hyp_data.shape\n",
        "  m = shape[0]\n",
        "  c = shape[1]\n",
        "  softmax = np.zeros(shape)\n",
        "  for i in range(0, m):\n",
        "    sum = 0\n",
        "    for j in range(0, c): \n",
        "      softmax[i,j] = np.exp(hyp_data[i,j])\n",
        "      sum = sum + softmax[i,j]\n",
        "    softmax[i,:] = softmax[i,:]/sum\n",
        "  return softmax"
      ],
      "execution_count": 11,
      "outputs": []
    },
    {
      "cell_type": "markdown",
      "metadata": {
        "id": "-uxp9VBZQ6hm"
      },
      "source": [
        "#### Prediction Function\n",
        "\n",
        "*   Parameter: softmax array size; m x c matrix\n",
        "*   Returns: predicted array; size: m x 1 matrix\n"
      ]
    },
    {
      "cell_type": "code",
      "metadata": {
        "id": "_quusjVTQ2Wy"
      },
      "source": [
        "def prediction(softmax_arr):\n",
        "  return np.argmax(softmax_arr,axis=1)"
      ],
      "execution_count": 12,
      "outputs": []
    },
    {
      "cell_type": "markdown",
      "metadata": {
        "id": "M7wSBB_QPTzV"
      },
      "source": [
        "#### Cross Entropy Loss\n",
        "\n",
        "*   Parameters: \n",
        "\n",
        "  *   prob_dist: size= m x c \n",
        "  *   labels: size= m x 1 \n",
        "\n",
        "*   Returns: total loss over , size: scalar"
      ]
    },
    {
      "cell_type": "code",
      "metadata": {
        "id": "EHJ7v2rRPZYC"
      },
      "source": [
        "def ce_loss(labels, prob_dist):\n",
        "  loss = 0\n",
        "  shape = prob_dist.shape\n",
        "  m = shape[0]\n",
        "  c = shape[1]\n",
        "  for i in range(0, m):\n",
        "    for j in range(0, c):\n",
        "      if labels[i] == j:\n",
        "        loss = loss - np.log(prob_dist[i,j])\n",
        "  return loss/m"
      ],
      "execution_count": 13,
      "outputs": []
    },
    {
      "cell_type": "markdown",
      "metadata": {
        "id": "8Vi5kgztZ3Fj"
      },
      "source": [
        "#### Calculate Weight Deltas\n",
        "- parameters:\n",
        "    - features: feature vector (m, n)\n",
        "    - labels: Label vector (m, 1)\n",
        "    - prob_dist: probability distribution (m, c)\n",
        "    - alpha: scalar learning rate\n",
        "- returns: deltas to be updated (n, c)"
      ]
    },
    {
      "cell_type": "code",
      "metadata": {
        "id": "n2YN9hvPLlKT"
      },
      "source": [
        "def compute_weights(features, labels, prob_dist, alpha):\n",
        "  func1 = np.zeros(prob_dist.shape)\n",
        "  for i, row in enumerate(prob_dist):\n",
        "    func1[i, labels[i]] = 1\n",
        "  loss_der = np.zeros((features.shape[1], prob_dist.shape[1]))\n",
        "  for c in range(prob_dist.shape[1]):\n",
        "    for n in range(features.shape[1]):\n",
        "      prob_diff = (func1[:, c] - prob_dist[:, c])\n",
        "      sum_x=0\n",
        "      for m in range(features.shape[0]):\n",
        "        sum_x += features[m,n]* prob_diff[m]\n",
        "      loss_der[n, c] = sum_x\n",
        "  delta = (-alpha/features.shape[0]) * loss_der\n",
        "  return delta"
      ],
      "execution_count": 14,
      "outputs": []
    },
    {
      "cell_type": "markdown",
      "metadata": {
        "id": "sryMAWFtbltr"
      },
      "source": [
        "#### Gradient Descent\n",
        "- parameters:\n",
        "    - n_epoch: scalar\n",
        "    - alpha: scalar\n",
        "    - features: feature vector (m, n)\n",
        "    - labels: label vector (m, 1)\n",
        "    - weights: model weights (m, c)\n",
        "- returns:\n",
        "    - j: list representing training loss of length n_epoch\n",
        "    - weights: learned model weights (m, c)"
      ]
    },
    {
      "cell_type": "code",
      "metadata": {
        "id": "D0FBZZ6Ie-I1"
      },
      "source": [
        "def grad_descent(n_epoch,alpha,features,labels,weights):\n",
        "  j=[]\n",
        "  for epoch in tqdm(range(n_epoch)):\n",
        "    z=h_x(features,weights)\n",
        "    activations=soft_max(z)\n",
        "    deltas=compute_weights(features,labels,activations,alpha)\n",
        "    weights -=  deltas\n",
        "    j.append(ce_loss(labels,activations))\n",
        "  return j, weights"
      ],
      "execution_count": 15,
      "outputs": []
    },
    {
      "cell_type": "markdown",
      "metadata": {
        "id": "efZZa8Q0MR_7"
      },
      "source": [
        "### Multinomial LR Training\n",
        "- parameters:\n",
        "  - features: feature vector (m, n)\n",
        "  - labels: label vector (m, 1)\n",
        "  - n_epoch: scalar\n",
        "  - alpha: scalar\n",
        "- returns:\n",
        "  - loss: list of length n_epoch\n",
        "  - weights: weight vector (m, c)"
      ]
    },
    {
      "cell_type": "code",
      "metadata": {
        "id": "4UuL_kdfNnbV"
      },
      "source": [
        "def multinomial_lr_fit(features, labels, n_epoch=100, alpha=0.001):\n",
        "  features = append_bias(features)\n",
        "  m, n, c = features.shape[0], features.shape[1], len(set(labels))\n",
        "  weights = making_weights(n, c)\n",
        "  loss, weights = grad_descent(n_epoch, alpha, features, labels, weights)\n",
        "  return loss, weights"
      ],
      "execution_count": 16,
      "outputs": []
    },
    {
      "cell_type": "markdown",
      "metadata": {
        "id": "pmg0xugMOYT0"
      },
      "source": [
        "### Multinomial LR Evaluation\n",
        "- parameters:\n",
        "  - features: feature vector (m, n)\n",
        "  - labels: label vector (m, 1)\n",
        "  - weights: weight vector (m, c)\n",
        "- returns:\n",
        "  - loss: scalar\n",
        "  - predictions: prediction vector (m, 1)"
      ]
    },
    {
      "cell_type": "code",
      "metadata": {
        "id": "B0suDpbBO9Ee"
      },
      "source": [
        "def multinomial_lr_test(features, labels, weights):\n",
        "  loss = -1\n",
        "  rows = features.shape[0]\n",
        "  features = append_bias(features)\n",
        "  m, n, c = features.shape[0], features.shape[1], len(set(labels))\n",
        "  z = h_x(features,weights)\n",
        "  activations = soft_max(z)\n",
        "  loss = ce_loss(labels,activations)\n",
        "  predictions = prediction(activations)\n",
        "  return loss, predictions"
      ],
      "execution_count": 17,
      "outputs": []
    },
    {
      "cell_type": "markdown",
      "metadata": {
        "id": "DRjTgeRKrNGt"
      },
      "source": [
        "## Gender Recognition"
      ]
    },
    {
      "cell_type": "markdown",
      "metadata": {
        "id": "HtAwcL8XoA2C"
      },
      "source": [
        "### Hyper-Parameter Tuning\n",
        "Validating with different combinations of alpha and n_epoch"
      ]
    },
    {
      "cell_type": "markdown",
      "metadata": {
        "id": "IBe6TzihoXAy"
      },
      "source": [
        "#### Tuning alpha"
      ]
    },
    {
      "cell_type": "code",
      "metadata": {
        "colab": {
          "base_uri": "https://localhost:8080/",
          "height": 446,
          "referenced_widgets": [
            "49db641bb80c4924bdaeb70a8d48a408",
            "c0cd69f0d7a34967a0f82a1f45a6750e",
            "6c61fd2c34674480abad8e2d8583a3b5",
            "fb87c8c0fcb140b98d31de01f58524d6",
            "033351731c96472aa1b9c031bfbfa1c8",
            "d0dd4e9e41fe4b0aaa5722121e291ea2",
            "6ccdfaa8f088486aa49ffc5bf63228ff",
            "95b5b73d9f97436da639a12a424798db",
            "c8a0302ada014f878ed3ad076a9bc295",
            "f5bd39e6dd6244c39268248b6a66516f",
            "9f9da721477044c4ab759e60d3f0f5e4",
            "8989612564bd4b8f9308832fb9fa3a7d",
            "09cbdf54fd37445ca0e95785676570e3",
            "951b507696fa49f0b83cd79b3f02de4e",
            "aaca2fbcebbf4d8286e8fce94d3b4e0f",
            "bd53b14caa9545eab814ca7695721626",
            "e76605814e3a40909760ad1e5b2a1a56",
            "42a7c9e9419b4b7a9eaa79b74faed5fb",
            "c1bfac29d62540d48020b69a7e1464c1",
            "58f503a6852b4a80a9a2b4f6c1440cff",
            "ed42477cfe7e4b60a2e75cae83621621",
            "8bb3b865101c4ffcab039fe13dec492f",
            "c8478d762fa5422f8952c9d1d484b3c2",
            "820642145d464e0daf29275ced583a78",
            "888231d221124944a44c69ed8e0f2ef2",
            "89810427dcd54372ba0cf00cd96c4508",
            "81becf123bcc4bd9a45f67a70a86745f",
            "690e9c24a0864d8099cf9df3e2fa304e",
            "dd0028c39ff74d66bddbf3eb99bcf347",
            "36c271bc553b40bb8c0cd1f99ac5cf57",
            "a5acf17e674048e8b8b5a76be73fa3bc",
            "b084ebe8d64e477db72fe07818cabf47",
            "591f730e3e204b0ab3cc6f4e3e8ff6ef",
            "78effcc6c88a4fcab6469f0485ca2ab5",
            "b8075e1608cd47ee85c2cf08375c3825",
            "15040e209e074ef7ab415f97dd829e70",
            "1a49c1eed4e346ad9f8864e116d5ba7f",
            "5341d15d23f6455eb611eddc3ff4738f",
            "7a4f3b78f77e4ebbabe8713026eab19c",
            "80c3c3b7e547414484b76bdf0e916dee"
          ]
        },
        "id": "quzQW--OQTaK",
        "outputId": "bebbe8a7-9f24-4421-adbd-1a42907699d7"
      },
      "source": [
        "# Hyper-parameter tuning\n",
        "alphas = [1e-3, 1e-2, 1e-1, 1e-0]\n",
        "# alphas = np.logspace(-4, 1, 100)\n",
        "parameters = {\"f1score\":[],\"train\":[], \"eval\": [], \"best_alpha_loss\": alphas[0], \"best_alpha_f1\": alphas[0], \"best_n_epoch\": None, \"train_loss\": None, \"weights\": None, \"predictions\": None}\n",
        "print(\"Tuning Alpha\")\n",
        "for alpha in tqdm(alphas):\n",
        "  print(\"Training for alpha {}\".format(alpha))\n",
        "  epochs = 500\n",
        "  train_loss, model_weights = multinomial_lr_fit(Train_data_GR, labels_Train_data_GR, epochs, alpha) # Fitting model to training data\n",
        "  eval_loss, predictions = multinomial_lr_test(Valid_data_GR, labels_Valid_data_GR, model_weights) # Evaluating trained model on validation data\n",
        "  report = classification_report(labels_Valid_data_GR, predictions, output_dict = True)\n",
        "  macroF1 = report['macro avg']['f1-score']\n",
        "  parameters[\"train\"].append(train_loss[-1])\n",
        "  parameters[\"eval\"].append(eval_loss)\n",
        "  parameters[\"f1score\"].append(macroF1)\n",
        "  parameters[\"best_alpha_loss\"] = alpha if min(min(parameters[\"eval\"]), eval_loss) == eval_loss else parameters[\"best_alpha_loss\"]\n",
        "  parameters[\"best_alpha_f1\"] = alpha if max(max(parameters[\"f1score\"]), macroF1) == macroF1 else parameters[\"best_alpha_f1\"]\n",
        "  # parameters['weights'][alpha] = model_weights\n",
        "\n",
        "  print(\"Loss @ train: {}, eval: {}, f1-score: {}\".format(train_loss[-1], eval_loss, macroF1))\n",
        "\n",
        "# print(\"Minimum evaluation loss at alpha {}\".format(parameters[\"best_alpha\"]))"
      ],
      "execution_count": 18,
      "outputs": [
        {
          "output_type": "stream",
          "text": [
            "Tuning Alpha\n"
          ],
          "name": "stdout"
        },
        {
          "output_type": "display_data",
          "data": {
            "application/vnd.jupyter.widget-view+json": {
              "model_id": "49db641bb80c4924bdaeb70a8d48a408",
              "version_minor": 0,
              "version_major": 2
            },
            "text/plain": [
              "HBox(children=(FloatProgress(value=0.0, max=4.0), HTML(value='')))"
            ]
          },
          "metadata": {
            "tags": []
          }
        },
        {
          "output_type": "stream",
          "text": [
            "Training for alpha 0.001\n"
          ],
          "name": "stdout"
        },
        {
          "output_type": "display_data",
          "data": {
            "application/vnd.jupyter.widget-view+json": {
              "model_id": "c8a0302ada014f878ed3ad076a9bc295",
              "version_minor": 0,
              "version_major": 2
            },
            "text/plain": [
              "HBox(children=(FloatProgress(value=0.0, max=500.0), HTML(value='')))"
            ]
          },
          "metadata": {
            "tags": []
          }
        },
        {
          "output_type": "stream",
          "text": [
            "\n",
            "Loss @ train: 0.26737319139870147, eval: 0.378795065790651, f1-score: 0.6747034060466897\n",
            "Training for alpha 0.01\n"
          ],
          "name": "stdout"
        },
        {
          "output_type": "display_data",
          "data": {
            "application/vnd.jupyter.widget-view+json": {
              "model_id": "e76605814e3a40909760ad1e5b2a1a56",
              "version_minor": 0,
              "version_major": 2
            },
            "text/plain": [
              "HBox(children=(FloatProgress(value=0.0, max=500.0), HTML(value='')))"
            ]
          },
          "metadata": {
            "tags": []
          }
        },
        {
          "output_type": "stream",
          "text": [
            "\n",
            "Loss @ train: 0.26153484447960396, eval: 0.39399060883633313, f1-score: 0.6875\n",
            "Training for alpha 0.1\n"
          ],
          "name": "stdout"
        },
        {
          "output_type": "display_data",
          "data": {
            "application/vnd.jupyter.widget-view+json": {
              "model_id": "888231d221124944a44c69ed8e0f2ef2",
              "version_minor": 0,
              "version_major": 2
            },
            "text/plain": [
              "HBox(children=(FloatProgress(value=0.0, max=500.0), HTML(value='')))"
            ]
          },
          "metadata": {
            "tags": []
          }
        },
        {
          "output_type": "stream",
          "text": [
            "\n",
            "Loss @ train: 1.6020080273742983, eval: 1.504069884114244, f1-score: 0.8274416346705503\n",
            "Training for alpha 1.0\n"
          ],
          "name": "stdout"
        },
        {
          "output_type": "display_data",
          "data": {
            "application/vnd.jupyter.widget-view+json": {
              "model_id": "591f730e3e204b0ab3cc6f4e3e8ff6ef",
              "version_minor": 0,
              "version_major": 2
            },
            "text/plain": [
              "HBox(children=(FloatProgress(value=0.0, max=500.0), HTML(value='')))"
            ]
          },
          "metadata": {
            "tags": []
          }
        },
        {
          "output_type": "stream",
          "text": [
            "/usr/local/lib/python3.6/dist-packages/ipykernel_launcher.py:9: RuntimeWarning: divide by zero encountered in log\n",
            "  if __name__ == '__main__':\n"
          ],
          "name": "stderr"
        },
        {
          "output_type": "stream",
          "text": [
            "\n",
            "Loss @ train: 12.908616639925665, eval: 18.986591406308015, f1-score: 0.5779310344827586\n",
            "\n"
          ],
          "name": "stdout"
        }
      ]
    },
    {
      "cell_type": "code",
      "metadata": {
        "colab": {
          "base_uri": "https://localhost:8080/",
          "height": 545
        },
        "id": "CDBshsNhVrNl",
        "outputId": "2dd1c76e-f3de-4c0d-a17c-f934fb83c7f9"
      },
      "source": [
        "plt.plot(alphas, parameters[\"train\"], label=\"Train\")\n",
        "plt.plot(alphas, parameters[\"eval\"], label=\"Eval\")\n",
        "plt.legend()\n",
        "plt.title(\"Final loss over range of alphas\")\n",
        "plt.show()\n",
        "\n",
        "plt.plot(alphas, parameters[\"f1score\"], label= \"f1-score\")\n",
        "plt.legend()\n",
        "plt.title(\"F1-score with alphas\")\n",
        "plt.show()\n"
      ],
      "execution_count": 19,
      "outputs": [
        {
          "output_type": "display_data",
          "data": {
            "image/png": "[encoded data removed]",
            "text/plain": [
              "<Figure size 432x288 with 1 Axes>"
            ]
          },
          "metadata": {
            "tags": [],
            "needs_background": "light"
          }
        },
        {
          "output_type": "display_data",
          "data": {
            "image/png": "[encoded data removed]",
            "text/plain": [
              "<Figure size 432x288 with 1 Axes>"
            ]
          },
          "metadata": {
            "tags": [],
            "needs_background": "light"
          }
        }
      ]
    },
    {
      "cell_type": "code",
      "metadata": {
        "colab": {
          "base_uri": "https://localhost:8080/"
        },
        "id": "KdN7-5FmRhRA",
        "outputId": "998ba33a-061c-483e-ca91-8d145e8771d8"
      },
      "source": [
        "print(\"Highest Validation F1 score at : \", parameters['best_alpha_f1'])\n",
        "print(\"Lowest Validation Loss at : \", parameters['best_alpha_loss'])"
      ],
      "execution_count": 20,
      "outputs": [
        {
          "output_type": "stream",
          "text": [
            "Highest Validation F1 score at :  0.1\n",
            "Lowest Validation Loss at :  0.001\n"
          ],
          "name": "stdout"
        }
      ]
    },
    {
      "cell_type": "markdown",
      "metadata": {
        "id": "nlcCeBiZoThB"
      },
      "source": [
        "#### Tuning n_epoch"
      ]
    },
    {
      "cell_type": "code",
      "metadata": {
        "colab": {
          "base_uri": "https://localhost:8080/",
          "height": 330,
          "referenced_widgets": [
            "be51a121c8ad4d1b95a3d99acee06ddc",
            "d4c0e79479aa4011a8d15dc83aa8261d",
            "d5b8036914034932be81307d7232495a",
            "a74d352482c54e4ea1a01e78dcf69475",
            "81d593cfc0b4432999e38c8b98ff471f",
            "f259cef86b884434bfcfdf999cfcdd27",
            "d33de128e55741adacd27e911050878f",
            "72fc665a9cb041b8ac29b3ecc6aa9877",
            "f2a3279df8814987a2dce095cbb669ba",
            "00d55274b6424b8bb375c54dfa58ff89",
            "c9a27d9f0a92482396e167766d520de6",
            "f9e9ad6b4df149a6bbf4a030cf8ce649",
            "2c44d648781f41e49c99bd6292bc88f2",
            "970783f0b32a42ce8f6da466b485b78e",
            "884e7b7e09ae467e89f7e163137c2fbd",
            "8caa369cd00c4f65bb1e3965910e975d",
            "35c25e4018bd46869b3744254140883d",
            "d3630bafb3c94ad2879df19ade6526a8",
            "2d99a7283743450b880844c6bd4c10c2",
            "b49c65eab32642cb8a410adbc702d4f8",
            "b277041763d0433abccba1347ac7ea9e",
            "3107923e34444d7f827d493c96dd0657",
            "54aa7583b3854896aef9f9c8d76f93dd",
            "9cb48abb81a642d0893c59d395570d39",
            "9dc224b75bfb4fa88ba11fa11e4a9898",
            "79a98b953d374bcfaebdef4b596a4e04",
            "f292da71798940af8fc67681bd5105d8",
            "4d5a562a94214725902139ff45fcd2a4",
            "94e3dd0310b64901bd1da6d27f2b7be1",
            "09707b43835e4af88cb21f07ffabea04",
            "00730ad827b84cdeb0b0cfe77ced617f",
            "085bd95ce14748f9b067268b4c56f297"
          ]
        },
        "id": "YQs6E6jgoe0I",
        "outputId": "f4aabb0e-a718-4ffd-c22a-471dd637a59c"
      },
      "source": [
        "epochs = [epoch for epoch in range(100, 400, 100)]\n",
        "parameters[\"train\"] = []\n",
        "parameters[\"eval\"] = []\n",
        "parameters[\"best_n_epoch\"] = epochs[0]\n",
        "for n_epoch in tqdm(epochs):\n",
        "  print(\"Training for n_epoch {}\".format(n_epoch) )\n",
        "  alpha = parameters[\"best_alpha_f1\"]\n",
        "  train_loss, model_weights = multinomial_lr_fit(Train_data_GR, labels_Train_data_GR, n_epoch, alpha) # Fitting model to training data\n",
        "  eval_loss, predictions = multinomial_lr_test(Valid_data_GR, labels_Valid_data_GR, model_weights) # Evaluating trained model on validation data\n",
        "  parameters[\"train\"].append(train_loss[-1])\n",
        "  parameters[\"eval\"].append(eval_loss)\n",
        "  parameters[\"best_n_epoch\"] = n_epoch if min(min(parameters[\"eval\"]), eval_loss) == eval_loss else parameters[\"best_n_epoch\"]\n",
        "  if parameters[\"best_n_epoch\"] == n_epoch: \n",
        "    parameters[\"train_loss\"] = train_loss\n",
        "    parameters[\"weights\"] = model_weights\n",
        "    parameters[\"predictions\"] = predictions\n",
        "    \n",
        "  print(\"Loss @ train: {}, eval: {}\".format(train_loss[-1], eval_loss))\n",
        "\n",
        "print(\"Minimum evaluation loss at n_epoch {}\".format(parameters[\"best_n_epoch\"]))"
      ],
      "execution_count": 21,
      "outputs": [
        {
          "output_type": "display_data",
          "data": {
            "application/vnd.jupyter.widget-view+json": {
              "model_id": "be51a121c8ad4d1b95a3d99acee06ddc",
              "version_minor": 0,
              "version_major": 2
            },
            "text/plain": [
              "HBox(children=(FloatProgress(value=0.0, max=3.0), HTML(value='')))"
            ]
          },
          "metadata": {
            "tags": []
          }
        },
        {
          "output_type": "stream",
          "text": [
            "Training for n_epoch 100\n"
          ],
          "name": "stdout"
        },
        {
          "output_type": "display_data",
          "data": {
            "application/vnd.jupyter.widget-view+json": {
              "model_id": "f2a3279df8814987a2dce095cbb669ba",
              "version_minor": 0,
              "version_major": 2
            },
            "text/plain": [
              "HBox(children=(FloatProgress(value=0.0), HTML(value='')))"
            ]
          },
          "metadata": {
            "tags": []
          }
        },
        {
          "output_type": "stream",
          "text": [
            "\n",
            "Loss @ train: 1.61089257532865, eval: 1.5067008531461918\n",
            "Training for n_epoch 200\n"
          ],
          "name": "stdout"
        },
        {
          "output_type": "display_data",
          "data": {
            "application/vnd.jupyter.widget-view+json": {
              "model_id": "35c25e4018bd46869b3744254140883d",
              "version_minor": 0,
              "version_major": 2
            },
            "text/plain": [
              "HBox(children=(FloatProgress(value=0.0, max=200.0), HTML(value='')))"
            ]
          },
          "metadata": {
            "tags": []
          }
        },
        {
          "output_type": "stream",
          "text": [
            "\n",
            "Loss @ train: 1.6029013983899176, eval: 1.5030534818004766\n",
            "Training for n_epoch 300\n"
          ],
          "name": "stdout"
        },
        {
          "output_type": "display_data",
          "data": {
            "application/vnd.jupyter.widget-view+json": {
              "model_id": "9dc224b75bfb4fa88ba11fa11e4a9898",
              "version_minor": 0,
              "version_major": 2
            },
            "text/plain": [
              "HBox(children=(FloatProgress(value=0.0, max=300.0), HTML(value='')))"
            ]
          },
          "metadata": {
            "tags": []
          }
        },
        {
          "output_type": "stream",
          "text": [
            "\n",
            "Loss @ train: 1.6023789367336851, eval: 1.5032897322342427\n",
            "\n",
            "Minimum evaluation loss at n_epoch 200\n"
          ],
          "name": "stdout"
        }
      ]
    },
    {
      "cell_type": "code",
      "metadata": {
        "colab": {
          "base_uri": "https://localhost:8080/",
          "height": 298
        },
        "id": "zefYnAPHr5JH",
        "outputId": "64b07058-ddb1-4671-f2af-69b32ca1b783"
      },
      "source": [
        "plt.plot(epochs, parameters[\"train\"], label=\"Train\")\n",
        "plt.plot(epochs, parameters[\"eval\"], label=\"Eval\")\n",
        "plt.legend()\n",
        "plt.title(\"Final loss over range of epochs\")"
      ],
      "execution_count": 22,
      "outputs": [
        {
          "output_type": "execute_result",
          "data": {
            "text/plain": [
              "Text(0.5, 1.0, 'Final loss over range of epochs')"
            ]
          },
          "metadata": {
            "tags": []
          },
          "execution_count": 22
        },
        {
          "output_type": "display_data",
          "data": {
            "image/png": "[encoded data removed]",
            "text/plain": [
              "<Figure size 432x288 with 1 Axes>"
            ]
          },
          "metadata": {
            "tags": [],
            "needs_background": "light"
          }
        }
      ]
    },
    {
      "cell_type": "markdown",
      "metadata": {
        "id": "n_6hS1sYdpQS"
      },
      "source": [
        "### Evaluation"
      ]
    },
    {
      "cell_type": "code",
      "metadata": {
        "colab": {
          "base_uri": "https://localhost:8080/",
          "height": 380,
          "referenced_widgets": [
            "af8024fb306e4de2be54ae1c8bb166c7",
            "648fd7b53a584315aed271064a91dfa6",
            "85662f1c745748fbb09c60f5fa61acd5",
            "72eb3b253ff747b99d01574952cc283e",
            "f941a23de6d344a2ba428a42c40bbc92",
            "ba1dfa6328684e8595af0a8f2bd754b5",
            "7f7fb4154e364b36be7f37b7594bd102",
            "ae3e62511c654996beabaa50407576f4"
          ]
        },
        "id": "1gK8XfREjmbJ",
        "outputId": "24043213-4c79-4cdb-cee5-c4bca4293045"
      },
      "source": [
        "train_loss, model_weights = multinomial_lr_fit(Train_data_GR, labels_Train_data_GR, parameters['best_n_epoch'], parameters['best_alpha_f1'])\n",
        "eval_loss, predictions = multinomial_lr_test(Test_data_GR, labels_Test_data_GR, model_weights)\n",
        "print(\"Training Loss:\", train_loss[-1])\n",
        "print(\"Evaluation Loss:\", eval_loss)\n",
        "\n",
        "plt.plot(train_loss)\n",
        "plt.title(\"Final Training Loss\")"
      ],
      "execution_count": 23,
      "outputs": [
        {
          "output_type": "display_data",
          "data": {
            "application/vnd.jupyter.widget-view+json": {
              "model_id": "af8024fb306e4de2be54ae1c8bb166c7",
              "version_minor": 0,
              "version_major": 2
            },
            "text/plain": [
              "HBox(children=(FloatProgress(value=0.0, max=200.0), HTML(value='')))"
            ]
          },
          "metadata": {
            "tags": []
          }
        },
        {
          "output_type": "stream",
          "text": [
            "\n",
            "Training Loss: 1.6029013983899176\n",
            "Evaluation Loss: 2.191748928728806\n"
          ],
          "name": "stdout"
        },
        {
          "output_type": "execute_result",
          "data": {
            "text/plain": [
              "Text(0.5, 1.0, 'Final Training Loss')"
            ]
          },
          "metadata": {
            "tags": []
          },
          "execution_count": 23
        },
        {
          "output_type": "display_data",
          "data": {
            "image/png": "[encoded data removed]",
            "text/plain": [
              "<Figure size 432x288 with 1 Axes>"
            ]
          },
          "metadata": {
            "tags": [],
            "needs_background": "light"
          }
        }
      ]
    },
    {
      "cell_type": "code",
      "metadata": {
        "colab": {
          "base_uri": "https://localhost:8080/"
        },
        "id": "pWxxspP7lwjs",
        "outputId": "b1a5f550-b492-40e2-8961-2b8191b07beb"
      },
      "source": [
        "print(\"Report on test data\")\n",
        "print(classification_report(labels_Test_data_GR, predictions))\n",
        "print(confusion_matrix(labels_Test_data_GR, predictions))"
      ],
      "execution_count": 24,
      "outputs": [
        {
          "output_type": "stream",
          "text": [
            "Report on test data\n",
            "              precision    recall  f1-score   support\n",
            "\n",
            "           0       0.97      0.82      0.89       130\n",
            "           1       0.62      0.93      0.74        40\n",
            "\n",
            "    accuracy                           0.85       170\n",
            "   macro avg       0.79      0.87      0.82       170\n",
            "weighted avg       0.89      0.85      0.86       170\n",
            "\n",
            "[[107  23]\n",
            " [  3  37]]\n"
          ],
          "name": "stdout"
        }
      ]
    },
    {
      "cell_type": "markdown",
      "metadata": {
        "id": "7A6JSJcHDr1I"
      },
      "source": [
        "## Speaker Recognition\n"
      ]
    },
    {
      "cell_type": "markdown",
      "metadata": {
        "id": "Jx36R-BDepFY"
      },
      "source": [
        "### Hyper-Parameter Tuning\n",
        "Validating with different combinations of alpha and n_epoch"
      ]
    },
    {
      "cell_type": "markdown",
      "metadata": {
        "id": "bJEG--V6bjrk"
      },
      "source": [
        "#### Tuning alpha"
      ]
    },
    {
      "cell_type": "code",
      "metadata": {
        "colab": {
          "base_uri": "https://localhost:8080/",
          "height": 383,
          "referenced_widgets": [
            "41c7baf2db10401498b486227c9c1e79",
            "e13f2c895e4f4fb49a4a6a7cfaf31526",
            "3747a81762b84835bd9f0b690cd14235",
            "62674630f7a642c3967678e38423ac7f",
            "83aa664ba9384032886a16bc37d0da30",
            "46caf2fd5fdc4897af0e1abd1a887caa",
            "e5bee9ea24c844049ecbe7cd62bd73ec",
            "e9c0107b68ee490e977a6ea9c58f7a96",
            "f53f6ee914984633983a2663a4e80177",
            "c3a7eb68a4aa4948870bd4a2e1e63d7a",
            "01839d510ceb4d77800c1251801a3b87",
            "e63454c95bcf42ec8f7f7f8d89099ced",
            "fad3bda4bd4c4d24adfb910f2e50789a",
            "85105caa213f465fa0b67291ff292e69",
            "e476d353994d49d89ca5a856b894eaf2",
            "8b28c8dd324c44e5a8ed95efaad0be01",
            "bdc577a29ef3488a9e3fc989214c958e",
            "6ce1495de28144f0b71f63d9e3bdcfdb",
            "1de62feaecfa46b2bad1a2a255cd8786",
            "1a4475a52740423b9b1cbe8028d6986a",
            "9024a8cea03d42ed8247420a999baadc",
            "473a56a3be0b417780687b806b88b53e",
            "9ae82fed853d41eba3b0071e60a02e37",
            "d8997498d4a04ec898dec61a436c1c9a",
            "5cdfaef3ebc04a50a36a7c8c7532e765",
            "b039d25d9cb74cd78c15eb2ea96e3aa1",
            "d521f834df654b85813a8bbc7d497dd4",
            "bf53d700d0824d87ab502153d310ebca",
            "59d0cc75bc74430193e9bb7c0b486f4d",
            "3959dfb6f640436395b3834c5c6dbc1a",
            "5266b2cc1c3c469b92eb9c7f1c13054b",
            "54467b3999024c999153d1f6403091aa"
          ]
        },
        "id": "kLDGWAIXbjrk",
        "outputId": "b4f84cc6-2a9c-4740-afc8-b7cb69f024fe"
      },
      "source": [
        "# Hyper-parameter tuning\n",
        "alphas = [0.01, 0.1, 0.5]\n",
        "parameters = {\"f1score\":[],\"train\":[], \"eval\": [], \"best_alpha_loss\": alphas[0], \"best_alpha_f1\": alphas[0], \"best_n_epoch\": None, \"train_loss\": None, \"weights\": None, \"predictions\": None}\n",
        "print(\"Tuning Alpha\")\n",
        "for alpha in tqdm(alphas):\n",
        "  print(\"Training for alpha {}\".format(alpha))\n",
        "  epochs = 50\n",
        "  train_loss, model_weights = multinomial_lr_fit(Train_data_SR, labels_Train_data_SR, epochs, alpha) # Fitting model to training data\n",
        "  eval_loss, predictions = multinomial_lr_test(Valid_data_SR, labels_Valid_data_SR, model_weights) # Evaluating trained model on validation data\n",
        "  report = classification_report(labels_Valid_data_SR, predictions, output_dict = True)\n",
        "  macroF1 = report['macro avg']['f1-score']\n",
        "  parameters[\"train\"].append(train_loss[-1])\n",
        "  parameters[\"eval\"].append(eval_loss)\n",
        "  parameters[\"f1score\"].append(macroF1)\n",
        "  parameters[\"best_alpha_loss\"] = alpha if min(min(parameters[\"eval\"]), eval_loss) == eval_loss else parameters[\"best_alpha_loss\"]\n",
        "  parameters[\"best_alpha_f1\"] = alpha if max(max(parameters[\"f1score\"]), macroF1) == macroF1 else parameters[\"best_alpha_f1\"]\n",
        "  # parameters['weights'][alpha] = model_weights\n",
        "\n",
        "  print(\"Loss @ train: {}, eval: {}, f1-score: {}\".format(train_loss[-1], eval_loss, macroF1))\n",
        "\n",
        "# print(\"Minimum evaluation loss at alpha {}\".format(parameters[\"best_alpha\"]))"
      ],
      "execution_count": 25,
      "outputs": [
        {
          "output_type": "stream",
          "text": [
            "Tuning Alpha\n"
          ],
          "name": "stdout"
        },
        {
          "output_type": "display_data",
          "data": {
            "application/vnd.jupyter.widget-view+json": {
              "model_id": "41c7baf2db10401498b486227c9c1e79",
              "version_minor": 0,
              "version_major": 2
            },
            "text/plain": [
              "HBox(children=(FloatProgress(value=0.0, max=3.0), HTML(value='')))"
            ]
          },
          "metadata": {
            "tags": []
          }
        },
        {
          "output_type": "stream",
          "text": [
            "Training for alpha 0.01\n"
          ],
          "name": "stdout"
        },
        {
          "output_type": "display_data",
          "data": {
            "application/vnd.jupyter.widget-view+json": {
              "model_id": "f53f6ee914984633983a2663a4e80177",
              "version_minor": 0,
              "version_major": 2
            },
            "text/plain": [
              "HBox(children=(FloatProgress(value=0.0, max=50.0), HTML(value='')))"
            ]
          },
          "metadata": {
            "tags": []
          }
        },
        {
          "output_type": "stream",
          "text": [
            "\n",
            "Loss @ train: 3.704484560552359, eval: 3.731948454561671, f1-score: 0.4640809503485559\n",
            "Training for alpha 0.1\n"
          ],
          "name": "stdout"
        },
        {
          "output_type": "stream",
          "text": [
            "/usr/local/lib/python3.6/dist-packages/sklearn/metrics/_classification.py:1272: UndefinedMetricWarning: Precision and F-score are ill-defined and being set to 0.0 in labels with no predicted samples. Use `zero_division` parameter to control this behavior.\n",
            "  _warn_prf(average, modifier, msg_start, len(result))\n"
          ],
          "name": "stderr"
        },
        {
          "output_type": "display_data",
          "data": {
            "application/vnd.jupyter.widget-view+json": {
              "model_id": "bdc577a29ef3488a9e3fc989214c958e",
              "version_minor": 0,
              "version_major": 2
            },
            "text/plain": [
              "HBox(children=(FloatProgress(value=0.0, max=50.0), HTML(value='')))"
            ]
          },
          "metadata": {
            "tags": []
          }
        },
        {
          "output_type": "stream",
          "text": [
            "\n",
            "Loss @ train: 0.9923018815169995, eval: 1.1540407789856857, f1-score: 0.9185446009389672\n",
            "Training for alpha 0.5\n"
          ],
          "name": "stdout"
        },
        {
          "output_type": "display_data",
          "data": {
            "application/vnd.jupyter.widget-view+json": {
              "model_id": "5cdfaef3ebc04a50a36a7c8c7532e765",
              "version_minor": 0,
              "version_major": 2
            },
            "text/plain": [
              "HBox(children=(FloatProgress(value=0.0, max=50.0), HTML(value='')))"
            ]
          },
          "metadata": {
            "tags": []
          }
        },
        {
          "output_type": "stream",
          "text": [
            "\n",
            "Loss @ train: 0.2868683472645237, eval: 0.49279602169680536, f1-score: 0.912206572769953\n",
            "\n"
          ],
          "name": "stdout"
        }
      ]
    },
    {
      "cell_type": "code",
      "metadata": {
        "colab": {
          "base_uri": "https://localhost:8080/",
          "height": 545
        },
        "id": "NmKx-V8_bjrk",
        "outputId": "20d892ec-801b-47fb-9ebe-e605f834f7db"
      },
      "source": [
        "plt.plot(alphas, parameters[\"train\"], label=\"Train\")\n",
        "plt.plot(alphas, parameters[\"eval\"], label=\"Eval\")\n",
        "plt.legend()\n",
        "plt.title(\"Final loss over range of alphas\")\n",
        "plt.show()\n",
        "\n",
        "plt.plot(alphas, parameters[\"f1score\"], label= \"f1-score\")\n",
        "plt.legend()\n",
        "plt.title(\"F1-score with alphas\")\n",
        "plt.show()\n"
      ],
      "execution_count": 26,
      "outputs": [
        {
          "output_type": "display_data",
          "data": {
            "image/png": "[encoded data removed]",
            "text/plain": [
              "<Figure size 432x288 with 1 Axes>"
            ]
          },
          "metadata": {
            "tags": [],
            "needs_background": "light"
          }
        },
        {
          "output_type": "display_data",
          "data": {
            "image/png": "[encoded data removed]",
            "text/plain": [
              "<Figure size 432x288 with 1 Axes>"
            ]
          },
          "metadata": {
            "tags": [],
            "needs_background": "light"
          }
        }
      ]
    },
    {
      "cell_type": "code",
      "metadata": {
        "colab": {
          "base_uri": "https://localhost:8080/"
        },
        "id": "RWu6CMEHbjrl",
        "outputId": "f1326b1b-58bd-480b-8835-627801d631dc"
      },
      "source": [
        "print(\"Highest Validation F1 score at : \", parameters['best_alpha_f1'])\n",
        "print(\"Lowest Validation Loss at : \", parameters['best_alpha_loss'])\n",
        "print(\"Due to smaller delta in F1 but steep decrease in loss, we chose a higher value of alpha={}\".format(0.25))\n",
        "\n",
        "parameters[\"best_alpha_f1\"] = 0.25"
      ],
      "execution_count": 27,
      "outputs": [
        {
          "output_type": "stream",
          "text": [
            "Highest Validation F1 score at :  0.1\n",
            "Lowest Validation Loss at :  0.5\n",
            "Due to smaller delta in F1 but steep decrease in loss, we chose a higher value of alpha=0.25\n"
          ],
          "name": "stdout"
        }
      ]
    },
    {
      "cell_type": "markdown",
      "metadata": {
        "id": "b8nNbuw5bjrl"
      },
      "source": [
        "#### Tuning n_epoch"
      ]
    },
    {
      "cell_type": "code",
      "metadata": {
        "colab": {
          "base_uri": "https://localhost:8080/",
          "height": 330,
          "referenced_widgets": [
            "d0f00b191d754d98a5c0a09b49e8c9e9",
            "e42cf23fa836429f88cacfdbd8423c41",
            "71d309e2081149ac8bbe34e1bbc816ba",
            "ce3db0abb6524c3494c92821ac7dda2b",
            "b6ce5bb15c40420e9d7088134cbf262a",
            "fd477e5f79e64694a38040f3175c791f",
            "0c45b530012543be8a7529032a31d490",
            "5f702973f15c438b8518b568efeb4583",
            "d0df6cd647944fa28d6ca72a8b74af8b",
            "acf07550af2945938bcad53b0df27c1e",
            "7d1c8f930e914e52addfdf499dac2e3a",
            "bf0eedfbb7f944e29782f0927ac4b2b7",
            "a4aa4d789e95411aad48292bac90e018",
            "fce6af385eb44d8c8b3ab227f4ab6ee5",
            "db73fc0998b8410eaf647a6cbe3e7e3e",
            "f70a2eaa15764c889e7d2619907c04ef",
            "dc7e698932ec410c9d4da39ba5e33541",
            "78cfdb99a50d4b7c970c1c3793b89bac",
            "a62684f1a3c745c690b4d5fed208775a",
            "16d56c3b54924adc9991aa166df9958d",
            "df334f09b83e4df0af1fc7389da98446",
            "e27d2640a15f44fbb1c02b7e3330731d",
            "423444a475c24e7fb211913fc1413d58",
            "95dbd7fb534e408fbeb8627646fae92d",
            "4aab02db269b43bcbc78031455ca4433",
            "bd306ca6015a46e1868bc52575164b4c",
            "9bab4a59ffd349baa1e9347b379e940c",
            "e63b3a6d713345a88463d334e87a1220",
            "10daa9e99dd24441a268282d8c2771e5",
            "2508f35e5f5146c0a44cb29e6421168a",
            "e29b0b60e6af4a94b0dcf510eab14d1e",
            "f36fe0b328434f769ed4ce370894d8f1"
          ]
        },
        "id": "2VQBA0Wpbjrl",
        "outputId": "4ed8e10f-cdc6-4617-855f-469e21b72e2f"
      },
      "source": [
        "epochs = [epoch for epoch in range(25, 150, 50)]\n",
        "parameters[\"train\"] = []\n",
        "parameters[\"eval\"] = []\n",
        "parameters[\"best_n_epoch\"] = epochs[0]\n",
        "for n_epoch in tqdm(epochs):\n",
        "  print(\"Training for n_epoch {}\".format(n_epoch) )\n",
        "  alpha = parameters[\"best_alpha_f1\"]\n",
        "  train_loss, model_weights = multinomial_lr_fit(Train_data_SR, labels_Train_data_SR, n_epoch, alpha) # Fitting model to training data\n",
        "  eval_loss, predictions = multinomial_lr_test(Valid_data_SR, labels_Valid_data_SR, model_weights) # Evaluating trained model on validation data\n",
        "  parameters[\"train\"].append(train_loss[-1])\n",
        "  parameters[\"eval\"].append(eval_loss)\n",
        "  parameters[\"best_n_epoch\"] = n_epoch if min(min(parameters[\"eval\"]), eval_loss) == eval_loss else parameters[\"best_n_epoch\"]\n",
        "  if parameters[\"best_n_epoch\"] == n_epoch: \n",
        "    parameters[\"train_loss\"] = train_loss\n",
        "    parameters[\"weights\"] = model_weights\n",
        "    parameters[\"predictions\"] = predictions\n",
        "    \n",
        "  print(\"Loss @ train: {}, eval: {}\".format(train_loss[-1], eval_loss))\n",
        "\n",
        "print(\"Minimum evaluation loss at n_epoch {}\".format(parameters[\"best_n_epoch\"]))"
      ],
      "execution_count": 28,
      "outputs": [
        {
          "output_type": "display_data",
          "data": {
            "application/vnd.jupyter.widget-view+json": {
              "model_id": "d0f00b191d754d98a5c0a09b49e8c9e9",
              "version_minor": 0,
              "version_major": 2
            },
            "text/plain": [
              "HBox(children=(FloatProgress(value=0.0, max=3.0), HTML(value='')))"
            ]
          },
          "metadata": {
            "tags": []
          }
        },
        {
          "output_type": "stream",
          "text": [
            "Training for n_epoch 25\n"
          ],
          "name": "stdout"
        },
        {
          "output_type": "display_data",
          "data": {
            "application/vnd.jupyter.widget-view+json": {
              "model_id": "d0df6cd647944fa28d6ca72a8b74af8b",
              "version_minor": 0,
              "version_major": 2
            },
            "text/plain": [
              "HBox(children=(FloatProgress(value=0.0, max=25.0), HTML(value='')))"
            ]
          },
          "metadata": {
            "tags": []
          }
        },
        {
          "output_type": "stream",
          "text": [
            "\n",
            "Loss @ train: 0.8220844684197617, eval: 0.9811022802131686\n",
            "Training for n_epoch 75\n"
          ],
          "name": "stdout"
        },
        {
          "output_type": "display_data",
          "data": {
            "application/vnd.jupyter.widget-view+json": {
              "model_id": "dc7e698932ec410c9d4da39ba5e33541",
              "version_minor": 0,
              "version_major": 2
            },
            "text/plain": [
              "HBox(children=(FloatProgress(value=0.0, max=75.0), HTML(value='')))"
            ]
          },
          "metadata": {
            "tags": []
          }
        },
        {
          "output_type": "stream",
          "text": [
            "\n",
            "Loss @ train: 0.31162210909433347, eval: 0.5158771713678517\n",
            "Training for n_epoch 125\n"
          ],
          "name": "stdout"
        },
        {
          "output_type": "display_data",
          "data": {
            "application/vnd.jupyter.widget-view+json": {
              "model_id": "4aab02db269b43bcbc78031455ca4433",
              "version_minor": 0,
              "version_major": 2
            },
            "text/plain": [
              "HBox(children=(FloatProgress(value=0.0, max=125.0), HTML(value='')))"
            ]
          },
          "metadata": {
            "tags": []
          }
        },
        {
          "output_type": "stream",
          "text": [
            "\n",
            "Loss @ train: 0.2002274236463323, eval: 0.4130610707571866\n",
            "\n",
            "Minimum evaluation loss at n_epoch 125\n"
          ],
          "name": "stdout"
        }
      ]
    },
    {
      "cell_type": "code",
      "metadata": {
        "colab": {
          "base_uri": "https://localhost:8080/",
          "height": 298
        },
        "id": "Jt0EhEehbjrl",
        "outputId": "f49966f7-6138-469d-f199-9719d9046a41"
      },
      "source": [
        "plt.plot(epochs, parameters[\"train\"], label=\"Train\")\n",
        "plt.plot(epochs, parameters[\"eval\"], label=\"Eval\")\n",
        "plt.legend()\n",
        "plt.title(\"Final loss over range of epochs\")"
      ],
      "execution_count": 29,
      "outputs": [
        {
          "output_type": "execute_result",
          "data": {
            "text/plain": [
              "Text(0.5, 1.0, 'Final loss over range of epochs')"
            ]
          },
          "metadata": {
            "tags": []
          },
          "execution_count": 29
        },
        {
          "output_type": "display_data",
          "data": {
            "image/png": "[encoded data removed]",
            "text/plain": [
              "<Figure size 432x288 with 1 Axes>"
            ]
          },
          "metadata": {
            "tags": [],
            "needs_background": "light"
          }
        }
      ]
    },
    {
      "cell_type": "markdown",
      "metadata": {
        "id": "_n_66_YOeRFF"
      },
      "source": [
        "### Evaluation"
      ]
    },
    {
      "cell_type": "code",
      "metadata": {
        "colab": {
          "base_uri": "https://localhost:8080/",
          "height": 380,
          "referenced_widgets": [
            "3d4690bf19ce4b69b15f17b47504f081",
            "51f3d26939ca469f94aacb739247f5e1",
            "03b3e747a822471fa3af951bf3bdd51b",
            "2174a7bef3fd44c39809b665d37b2aa8",
            "1974454e36cb4dda9e103710be431238",
            "4ea537bbf3c74dc4b1d5957858baf8e3",
            "75142ecef85d49f6995c17f860bb63cc",
            "f536065a2b3948c4813a1ed3bc7324ee"
          ]
        },
        "id": "rr0OCUtXbjrl",
        "outputId": "07c32236-8957-4beb-a6dd-ce894a87c4e1"
      },
      "source": [
        "train_loss, model_weights = multinomial_lr_fit(Train_data_SR, labels_Train_data_SR, parameters['best_n_epoch'], parameters['best_alpha_f1'])\n",
        "eval_loss, predictions = multinomial_lr_test(Test_data_SR, labels_Test_data_SR, model_weights)\n",
        "print(\"Training Loss:\", train_loss[-1])\n",
        "print(\"Evaluation Loss:\", eval_loss)\n",
        "\n",
        "plt.plot(train_loss)\n",
        "plt.title(\"Final Training Loss\")"
      ],
      "execution_count": 30,
      "outputs": [
        {
          "output_type": "display_data",
          "data": {
            "application/vnd.jupyter.widget-view+json": {
              "model_id": "3d4690bf19ce4b69b15f17b47504f081",
              "version_minor": 0,
              "version_major": 2
            },
            "text/plain": [
              "HBox(children=(FloatProgress(value=0.0, max=125.0), HTML(value='')))"
            ]
          },
          "metadata": {
            "tags": []
          }
        },
        {
          "output_type": "stream",
          "text": [
            "\n",
            "Training Loss: 0.2002274236463323\n",
            "Evaluation Loss: 0.4137239297794974\n"
          ],
          "name": "stdout"
        },
        {
          "output_type": "execute_result",
          "data": {
            "text/plain": [
              "Text(0.5, 1.0, 'Final Training Loss')"
            ]
          },
          "metadata": {
            "tags": []
          },
          "execution_count": 30
        },
        {
          "output_type": "display_data",
          "data": {
            "image/png": "[encoded data removed]",
            "text/plain": [
              "<Figure size 432x288 with 1 Axes>"
            ]
          },
          "metadata": {
            "tags": [],
            "needs_background": "light"
          }
        }
      ]
    },
    {
      "cell_type": "code",
      "metadata": {
        "colab": {
          "base_uri": "https://localhost:8080/"
        },
        "id": "poHlCkyjkgDX",
        "outputId": "a297ec69-e4c5-4109-f6cf-ad285632a488"
      },
      "source": [
        "print(\"================= {} ==================\".format(\"Test Report\"))\n",
        "print(classification_report(labels_Test_data_SR, predictions))\n",
        "print(\"================= {} ==================\".format(\"Confusion Matrix\"))\n",
        "print(confusion_matrix(labels_Test_data_SR, predictions))"
      ],
      "execution_count": 35,
      "outputs": [
        {
          "output_type": "stream",
          "text": [
            "================= Test Report ==================\n",
            "              precision    recall  f1-score   support\n",
            "\n",
            "           0       1.00      1.00      1.00         2\n",
            "           1       1.00      1.00      1.00         2\n",
            "           2       1.00      1.00      1.00         2\n",
            "           3       1.00      1.00      1.00         2\n",
            "           4       1.00      1.00      1.00         2\n",
            "           5       1.00      1.00      1.00         2\n",
            "           6       1.00      1.00      1.00         2\n",
            "           7       1.00      1.00      1.00         2\n",
            "           8       1.00      1.00      1.00         2\n",
            "           9       1.00      1.00      1.00         2\n",
            "          10       1.00      1.00      1.00         2\n",
            "          11       0.67      1.00      0.80         2\n",
            "          12       1.00      1.00      1.00         2\n",
            "          13       1.00      1.00      1.00         2\n",
            "          14       1.00      1.00      1.00         2\n",
            "          15       1.00      1.00      1.00         2\n",
            "          16       1.00      1.00      1.00         2\n",
            "          17       1.00      1.00      1.00         2\n",
            "          18       0.67      1.00      0.80         2\n",
            "          19       1.00      0.50      0.67         2\n",
            "          20       1.00      1.00      1.00         2\n",
            "          21       1.00      1.00      1.00         2\n",
            "          22       0.50      0.50      0.50         2\n",
            "          23       1.00      1.00      1.00         2\n",
            "          24       1.00      1.00      1.00         2\n",
            "          25       1.00      1.00      1.00         2\n",
            "          26       1.00      1.00      1.00         2\n",
            "          27       1.00      1.00      1.00         2\n",
            "          28       1.00      1.00      1.00         2\n",
            "          29       1.00      0.50      0.67         2\n",
            "          30       1.00      1.00      1.00         2\n",
            "          31       0.50      1.00      0.67         2\n",
            "          32       1.00      1.00      1.00         2\n",
            "          33       1.00      1.00      1.00         2\n",
            "          34       1.00      1.00      1.00         2\n",
            "          35       1.00      1.00      1.00         2\n",
            "          36       1.00      1.00      1.00         2\n",
            "          37       1.00      1.00      1.00         2\n",
            "          38       0.67      1.00      0.80         2\n",
            "          39       1.00      1.00      1.00         2\n",
            "          40       1.00      1.00      1.00         2\n",
            "          41       1.00      1.00      1.00         2\n",
            "          42       1.00      1.00      1.00         2\n",
            "          43       1.00      1.00      1.00         2\n",
            "          44       1.00      1.00      1.00         2\n",
            "          45       1.00      1.00      1.00         2\n",
            "          46       1.00      1.00      1.00         2\n",
            "          47       1.00      1.00      1.00         2\n",
            "          48       1.00      0.50      0.67         2\n",
            "          49       1.00      1.00      1.00         2\n",
            "          50       1.00      1.00      1.00         2\n",
            "          51       1.00      1.00      1.00         2\n",
            "          52       1.00      1.00      1.00         2\n",
            "          53       1.00      1.00      1.00         2\n",
            "          54       1.00      1.00      1.00         2\n",
            "          55       1.00      1.00      1.00         2\n",
            "          56       1.00      1.00      1.00         2\n",
            "          57       1.00      1.00      1.00         2\n",
            "          58       1.00      1.00      1.00         2\n",
            "          59       1.00      1.00      1.00         2\n",
            "          60       1.00      1.00      1.00         2\n",
            "          61       1.00      1.00      1.00         2\n",
            "          62       1.00      1.00      1.00         2\n",
            "          63       1.00      1.00      1.00         2\n",
            "          64       0.67      1.00      0.80         2\n",
            "          65       1.00      1.00      1.00         2\n",
            "          66       1.00      1.00      1.00         2\n",
            "          67       1.00      1.00      1.00         2\n",
            "          68       0.67      1.00      0.80         2\n",
            "          69       1.00      1.00      1.00         2\n",
            "          70       1.00      1.00      1.00         2\n",
            "          71       1.00      1.00      1.00         2\n",
            "          72       1.00      1.00      1.00         2\n",
            "          73       1.00      0.50      0.67         2\n",
            "          74       1.00      1.00      1.00         2\n",
            "          75       0.67      1.00      0.80         2\n",
            "          76       1.00      1.00      1.00         2\n",
            "          77       1.00      1.00      1.00         2\n",
            "          78       1.00      1.00      1.00         2\n",
            "          79       1.00      1.00      1.00         2\n",
            "          80       1.00      1.00      1.00         2\n",
            "          81       1.00      1.00      1.00         2\n",
            "          82       1.00      1.00      1.00         2\n",
            "          83       1.00      1.00      1.00         2\n",
            "          84       1.00      0.50      0.67         2\n",
            "          85       1.00      1.00      1.00         2\n",
            "          86       1.00      1.00      1.00         2\n",
            "          87       1.00      1.00      1.00         2\n",
            "          88       1.00      1.00      1.00         2\n",
            "          89       1.00      0.50      0.67         2\n",
            "          90       1.00      0.50      0.67         2\n",
            "          91       1.00      1.00      1.00         2\n",
            "          92       1.00      1.00      1.00         2\n",
            "          93       1.00      1.00      1.00         2\n",
            "          94       1.00      1.00      1.00         2\n",
            "          95       0.50      0.50      0.50         2\n",
            "          96       1.00      1.00      1.00         2\n",
            "          97       1.00      1.00      1.00         2\n",
            "          98       1.00      1.00      1.00         2\n",
            "          99       1.00      1.00      1.00         2\n",
            "         100       0.50      0.50      0.50         2\n",
            "         101       1.00      1.00      1.00         2\n",
            "         102       1.00      1.00      1.00         2\n",
            "         103       1.00      1.00      1.00         2\n",
            "         104       1.00      1.00      1.00         2\n",
            "         105       1.00      1.00      1.00         2\n",
            "         106       1.00      1.00      1.00         2\n",
            "         107       1.00      1.00      1.00         2\n",
            "         108       1.00      1.00      1.00         2\n",
            "         109       1.00      1.00      1.00         2\n",
            "         110       1.00      1.00      1.00         2\n",
            "         111       1.00      1.00      1.00         2\n",
            "         112       1.00      1.00      1.00         2\n",
            "         113       1.00      1.00      1.00         2\n",
            "         114       1.00      1.00      1.00         2\n",
            "         115       1.00      1.00      1.00         2\n",
            "         116       1.00      1.00      1.00         2\n",
            "         117       1.00      1.00      1.00         2\n",
            "         118       1.00      0.50      0.67         2\n",
            "         119       1.00      1.00      1.00         2\n",
            "         120       1.00      1.00      1.00         2\n",
            "         121       1.00      1.00      1.00         2\n",
            "         122       1.00      1.00      1.00         2\n",
            "         123       1.00      0.50      0.67         2\n",
            "         124       1.00      1.00      1.00         2\n",
            "         125       1.00      1.00      1.00         2\n",
            "         126       1.00      1.00      1.00         2\n",
            "         127       1.00      1.00      1.00         2\n",
            "         128       1.00      1.00      1.00         2\n",
            "         129       1.00      1.00      1.00         2\n",
            "         130       1.00      1.00      1.00         2\n",
            "         131       1.00      1.00      1.00         2\n",
            "         132       1.00      1.00      1.00         2\n",
            "         133       1.00      1.00      1.00         2\n",
            "         134       1.00      1.00      1.00         2\n",
            "         135       1.00      1.00      1.00         2\n",
            "         136       1.00      1.00      1.00         2\n",
            "         137       1.00      1.00      1.00         2\n",
            "         138       0.67      1.00      0.80         2\n",
            "         139       1.00      1.00      1.00         2\n",
            "         140       1.00      1.00      1.00         2\n",
            "         141       1.00      1.00      1.00         2\n",
            "\n",
            "    accuracy                           0.96       284\n",
            "   macro avg       0.97      0.96      0.96       284\n",
            "weighted avg       0.97      0.96      0.96       284\n",
            "\n",
            "================= Confusion Matrix ==================\n",
            "[[2 0 0 ... 0 0 0]\n",
            " [0 2 0 ... 0 0 0]\n",
            " [0 0 2 ... 0 0 0]\n",
            " ...\n",
            " [0 0 0 ... 2 0 0]\n",
            " [0 0 0 ... 0 2 0]\n",
            " [0 0 0 ... 0 0 2]]\n"
          ],
          "name": "stdout"
        }
      ]
    },
    {
      "cell_type": "code",
      "metadata": {
        "id": "6CgIJAEnqK4A"
      },
      "source": [
        ""
      ],
      "execution_count": null,
      "outputs": []
    }
  ]
}